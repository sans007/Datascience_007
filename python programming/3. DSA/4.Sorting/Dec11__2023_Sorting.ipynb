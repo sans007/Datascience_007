{
  "cells": [
    {
      "cell_type": "markdown",
      "metadata": {
        "id": "F_GE2Lb_a7_e"
      },
      "source": [
        "Problem 1.Given an array of n numbers, give an algorithm which gives the element appearing maximum\n",
        "number of times?"
      ]
    },
    {
      "cell_type": "code",
      "execution_count": 1,
      "metadata": {
        "colab": {
          "base_uri": "https://localhost:8080/"
        },
        "id": "cDLUnUZCetrg",
        "outputId": "df77c940-a0b3-4781-b0fd-2dc2d5ab5def"
      },
      "outputs": [
        {
          "name": "stdout",
          "output_type": "stream",
          "text": [
            "3\n"
          ]
        }
      ],
      "source": [
        "def maxCount(arr):\n",
        "  element=0\n",
        "  max_count=0\n",
        "\n",
        "  for i in range(len(arr)):\n",
        "    count = 0\n",
        "    for j in range(len(arr)):\n",
        "      if arr[i] == arr[j]:\n",
        "        count +=1\n",
        "    if count > 1 and max_count<count :\n",
        "      max_count = count\n",
        "      element = arr[i]\n",
        "  return [element,max_count]\n",
        "\n",
        "arr = [1,3,2,4,3,3,3,5,5,6,4]\n",
        "result1= maxCount(arr)\n",
        "print(result1[0])\n"
      ]
    },
    {
      "cell_type": "markdown",
      "metadata": {
        "id": "gMSWhpzRsHz1"
      },
      "source": [
        "Problem 2 : We are given a list of n-1 integers and these integers are in the range of 1 to n . There are no\n",
        "duplicates in the list. One of the integers is missing in the list. Give an algorithm to find that element Ex:\n",
        "[1,2,4,6,3,7,8] 5 is the missing num."
      ]
    },
    {
      "cell_type": "code",
      "execution_count": 2,
      "metadata": {
        "colab": {
          "base_uri": "https://localhost:8080/"
        },
        "id": "WxLuzQE0bif1",
        "outputId": "5182c5fd-1bdb-4c86-b106-117a4c9a11e5"
      },
      "outputs": [
        {
          "name": "stdout",
          "output_type": "stream",
          "text": [
            "5\n"
          ]
        }
      ],
      "source": [
        "def missingNum(arr):\n",
        " for i in range(1,len(arr)+1):\n",
        "   if arr[i-1] != i:\n",
        "     return i\n",
        "\n",
        "\n",
        "arr = [1,2,3,4,6,7,8]\n",
        "result2 = missingNum(arr)\n",
        "print(result2)"
      ]
    },
    {
      "cell_type": "markdown",
      "metadata": {
        "id": "FP1SaQlWkdqG"
      },
      "source": [
        "Problem 3 : Given an array of n positive numbers. All numbers occurs even number of times except 1 which\n",
        "occurs odd number of times. Find that number in O(n) time and O(1) space. Ex: [1,2,3,2,3,1,3]. 3 is repeats odd\n",
        "times."
      ]
    },
    {
      "cell_type": "code",
      "execution_count": 3,
      "metadata": {
        "colab": {
          "base_uri": "https://localhost:8080/"
        },
        "id": "GdWMQXsPOBtf",
        "outputId": "2d47c306-43ef-4636-b845-cea57238dd3d"
      },
      "outputs": [
        {
          "name": "stdout",
          "output_type": "stream",
          "text": [
            "3\n"
          ]
        }
      ],
      "source": [
        "def maxCount(arr):\n",
        "  element=0\n",
        "\n",
        "  for i in range(len(arr)):\n",
        "    count = 0\n",
        "    for j in range(len(arr)):\n",
        "      if arr[i] == arr[j]:\n",
        "        count +=1\n",
        "    if count%2 != 0 :\n",
        "      element = arr[i]\n",
        "      return element\n",
        "  return -1\n",
        "\n",
        "arr = [1,2,3,2,3,1,3]\n",
        "result3= maxCount(arr)\n",
        "print(result3)\n"
      ]
    },
    {
      "cell_type": "markdown",
      "metadata": {
        "id": "Mb5q3Mbntwr-"
      },
      "source": [
        "Problem 4 : Given an array of n elements. Find two elements in the array such that their sum is equal to given\n",
        "element K."
      ]
    },
    {
      "cell_type": "code",
      "execution_count": 4,
      "metadata": {
        "colab": {
          "base_uri": "https://localhost:8080/"
        },
        "id": "q2JPRpkznNc3",
        "outputId": "ecc8b5eb-b126-499f-dee0-f9631f29d04f"
      },
      "outputs": [
        {
          "name": "stdout",
          "output_type": "stream",
          "text": [
            "(45, 56)\n"
          ]
        }
      ],
      "source": [
        "def sum_of_elements(arr,k):\n",
        "  for i in range(0,len(arr)):\n",
        "    for j in range(len(arr)):\n",
        "      if arr[i]+arr[j] == k:\n",
        "       return arr[i],arr[j]\n",
        "\n",
        "arr = [2,3,45,55,56,66]\n",
        "result4 = sum_of_elements(arr,101)\n",
        "print(result4)"
      ]
    },
    {
      "cell_type": "markdown",
      "metadata": {
        "id": "9kYwwQhbx2y4"
      },
      "source": [
        "Problem 5 : Given an array of both positive and negative numbers, find two numbers such that their sum is\n",
        "closest to 0. Ex: [ 1 ,60 ,-10, 70, -80,85]. Ans : -80,85."
      ]
    },
    {
      "cell_type": "code",
      "execution_count": 5,
      "metadata": {
        "colab": {
          "base_uri": "https://localhost:8080/"
        },
        "id": "IqGuVNLVx1Vs",
        "outputId": "cb6ee95d-046a-4e35-8c50-ac273b9f03f2"
      },
      "outputs": [
        {
          "name": "stdout",
          "output_type": "stream",
          "text": [
            "(-80, 85)\n"
          ]
        }
      ],
      "source": [
        "\n",
        "def sum_num(arr):\n",
        "  l=[]\n",
        "  for i in range(0,len(arr)):\n",
        "    for j in range(1,len(arr)):\n",
        "      sums = abs(arr[i]+arr[j])\n",
        "      l.append(sums)\n",
        "    if sums == min(l):\n",
        "      return arr[i],arr[j]\n",
        "\n",
        "\n",
        "arr =  [ 1 ,60 ,-10, 70, -80,85]\n",
        "result5 = sum_num(arr)\n",
        "print(result5)"
      ]
    },
    {
      "cell_type": "markdown",
      "metadata": {
        "id": "2bIEPvw-d4_S"
      },
      "source": [
        "\n",
        "Problem 6 : Given an array of n elements . Find three elements such that their sum is equal to the given\n",
        "number."
      ]
    },
    {
      "cell_type": "code",
      "execution_count": 6,
      "metadata": {
        "colab": {
          "base_uri": "https://localhost:8080/"
        },
        "id": "XI92yW0m1eaP",
        "outputId": "7e5a3e0c-3be9-4515-b30b-152d7fc99bdc"
      },
      "outputs": [
        {
          "name": "stdout",
          "output_type": "stream",
          "text": [
            "(2, 9, 10)\n"
          ]
        }
      ],
      "source": [
        "def sum(arr,num):\n",
        "  for i in range(0,len(arr)):\n",
        "    for j in range(1,len(arr)):\n",
        "      for k in range(2,len(arr)):\n",
        "       if arr[i] + arr[j] + arr[k] == num:\n",
        "        return arr[i] , arr[j] ,arr[k]\n",
        "\n",
        "  return False\n",
        "\n",
        "arr = [2,3,5,6,8,9,10]\n",
        "result6 = sum(arr,21)\n",
        "print(result6)"
      ]
    },
    {
      "cell_type": "markdown",
      "metadata": {
        "id": "MJ2XWIq7suF0"
      },
      "source": [
        "Problem 7 : Given an array of n elements . Find three elements i, j, k in the array such that\n",
        "i * i + j * j = k*k."
      ]
    },
    {
      "cell_type": "code",
      "execution_count": 7,
      "metadata": {
        "colab": {
          "base_uri": "https://localhost:8080/"
        },
        "id": "7wzIG3dnsqSb",
        "outputId": "5327f11e-c195-4eb6-bb04-c691f89ba8d2"
      },
      "outputs": [
        {
          "name": "stdout",
          "output_type": "stream",
          "text": [
            "(6, 8, 10)\n"
          ]
        }
      ],
      "source": [
        "def sum(arr):\n",
        "  for i in range(0,len(arr)):\n",
        "    for j in range(1,len(arr)):\n",
        "      for k in range(2,len(arr)):\n",
        "       if arr[i]*arr[i] + arr[j]*arr[j] == arr[k]*arr[k]:\n",
        "        return arr[i] , arr[j] ,arr[k]\n",
        "\n",
        "  return False\n",
        "\n",
        "arr = [2,3,5,6,8,9,10]\n",
        "result7 = sum(arr)\n",
        "print(result7)"
      ]
    },
    {
      "cell_type": "markdown",
      "metadata": {
        "id": "OvVHx-5Ftl91"
      },
      "source": [
        "Problem 8 : An element is a majority if it appears more than n/2 times. Give an algorithm takes an array of n\n",
        "element as argument and identifies a majority (if it exists)."
      ]
    },
    {
      "cell_type": "code",
      "execution_count": 8,
      "metadata": {
        "colab": {
          "base_uri": "https://localhost:8080/"
        },
        "id": "TrC4IvdYtlV0",
        "outputId": "a60985f1-b507-4e9d-a215-08150d1cbfa4"
      },
      "outputs": [
        {
          "name": "stdout",
          "output_type": "stream",
          "text": [
            "3\n"
          ]
        }
      ],
      "source": [
        "def  majority(arr):\n",
        "  element=0\n",
        "  n=len(arr)\n",
        "  for i in range(n):\n",
        "    count = 0\n",
        "    for j in range(n):\n",
        "      if arr[i] == arr[j]:\n",
        "        count +=1\n",
        "    if count > n/2 :\n",
        "      element = arr[i]\n",
        "      return element\n",
        "  return -1\n",
        "\n",
        "arr = [1,2,3,2,3,1,3,3,3]\n",
        "result8 =  majority(arr)\n",
        "print(result8)"
      ]
    },
    {
      "cell_type": "markdown",
      "metadata": {
        "id": "4x6_VIE-vO9o"
      },
      "source": [
        "Problem 9 : Given n × n matrix, and in each row all 1’s are followed by 0’s. Find the row with the maximum\n",
        "number of 0’s."
      ]
    },
    {
      "cell_type": "code",
      "execution_count": 9,
      "metadata": {
        "colab": {
          "base_uri": "https://localhost:8080/"
        },
        "id": "mXvAwoPRvb1F",
        "outputId": "9c1c7197-fa7b-45ef-e741-27143feea191"
      },
      "outputs": [
        {
          "name": "stdout",
          "output_type": "stream",
          "text": [
            "2\n"
          ]
        }
      ],
      "source": [
        "def row_of_maximum0(arr):\n",
        "  max_row_count=0\n",
        "  max_row_index =0\n",
        "\n",
        "  for i in range(len(arr)):\n",
        "    count = 0\n",
        "    for j in range(len(arr[i])):\n",
        "      if arr[i][j] == 0:\n",
        "        count +=1\n",
        "    if count >  max_row_count  :\n",
        "       max_row_count = count\n",
        "       max_row_index = i\n",
        "  return max_row_index\n",
        "\n",
        "arr = [ [0, 0, 0, 1],\n",
        "        [0, 1, 1, 1],\n",
        "        [0, 0, 0, 0],\n",
        "        [1, 1, 1, 1]]\n",
        "result9 = row_of_maximum0(arr)\n",
        "print(result9)"
      ]
    },
    {
      "cell_type": "markdown",
      "metadata": {
        "id": "wWfPOlZUdysK"
      },
      "source": [
        "Problem 10 : Sort an array of 0’s, 1’s and 2’s [or R’s, G’s and B’s]: Given an array A[] consisting of 0’s, 1’s and\n",
        "2’s, give an algorithm for sorting A[].The algorithm should put all 0’s first, then all 1’s and finally all 2’s at the\n",
        "end. Example Input = {0,1,1,0,1,2,1,2,0,0,0,1}, Output = {0,0,0,0,0,1,1,1,1,1,2,2}"
      ]
    },
    {
      "cell_type": "code",
      "execution_count": 10,
      "metadata": {
        "colab": {
          "base_uri": "https://localhost:8080/"
        },
        "id": "yRLI1zH4d0Bv",
        "outputId": "cd553c6d-d2b0-4197-b17d-0da9a2ba21f3"
      },
      "outputs": [
        {
          "name": "stdout",
          "output_type": "stream",
          "text": [
            "[0, 0, 0, 0, 0, 1, 1, 1, 1, 1, 2, 2]\n"
          ]
        }
      ],
      "source": [
        "def sort_array(arr):\n",
        "    count0 = 0\n",
        "    count1 = 0\n",
        "    count2 = 0\n",
        "\n",
        "\n",
        "    for i in range(len(arr)):\n",
        "        if arr[i] == 0:\n",
        "            count0+=1\n",
        "\n",
        "        elif arr[i] == 1:\n",
        "            count1+=1\n",
        "\n",
        "        elif arr[i] == 2:\n",
        "            count2+=1\n",
        "\n",
        "    i = 0\n",
        "\n",
        "    while (count0 > 0):\n",
        "        arr[i] = 0\n",
        "        i+=1\n",
        "        count0-=1\n",
        "\n",
        "    while (count1 > 0):\n",
        "        arr[i] = 1\n",
        "        i+=1\n",
        "        count1-=1\n",
        "\n",
        "    while (count2 > 0):\n",
        "        arr[i] = 2\n",
        "        i+=1\n",
        "        count2-=1\n",
        "\n",
        "\n",
        "\n",
        "arr = [0,1,1,0,1,2,1,2,0,0,0,1]\n",
        "sort_array(arr)\n",
        "print(arr)"
      ]
    }
  ],
  "metadata": {
    "colab": {
      "provenance": []
    },
    "kernelspec": {
      "display_name": "Python 3",
      "name": "python3"
    },
    "language_info": {
      "codemirror_mode": {
        "name": "ipython",
        "version": 3
      },
      "file_extension": ".py",
      "mimetype": "text/x-python",
      "name": "python",
      "nbconvert_exporter": "python",
      "pygments_lexer": "ipython3",
      "version": "3.12.1"
    }
  },
  "nbformat": 4,
  "nbformat_minor": 0
}
