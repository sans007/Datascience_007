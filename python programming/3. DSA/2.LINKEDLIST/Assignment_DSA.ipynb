{
  "cells": [
    {
      "cell_type": "markdown",
      "metadata": {
        "id": "fGKp68wQ0lgF"
      },
      "source": [
        "Problem 1: Reverse a singly linked list."
      ]
    },
    {
      "cell_type": "code",
      "execution_count": 1,
      "metadata": {
        "colab": {
          "base_uri": "https://localhost:8080/"
        },
        "id": "dE4UYvhF0glv",
        "outputId": "d8c93d43-51c6-46ca-ed6d-c0f9200d4fa5"
      },
      "outputs": [
        {
          "name": "stdout",
          "output_type": "stream",
          "text": [
            "1->2->3->4->5->\n",
            "5->4->3->2->1->\n"
          ]
        }
      ],
      "source": [
        "class Node:\n",
        "\n",
        "  def __init__(self,data=None,next=None):\n",
        "    self.data = data\n",
        "    self.next = next\n",
        "\n",
        "  def setData(self,data):\n",
        "    self.data = data\n",
        "\n",
        "  def getData(self):\n",
        "    return self.data\n",
        "\n",
        "  def setNext(self,next):\n",
        "    self.next = next\n",
        "\n",
        "  def getNext(self):\n",
        "    return self.next\n",
        "\n",
        "\n",
        "def reverse(head):\n",
        "        previous = None\n",
        "        current = head\n",
        "\n",
        "        while (current != None):\n",
        "            tmp = current.getNext()\n",
        "\n",
        "            current.setNext(previous)\n",
        "\n",
        "            previous = current\n",
        "            current = tmp\n",
        "\n",
        "        head = previous\n",
        "        traverse(head)\n",
        "\n",
        "\n",
        "def traverse(head):\n",
        "    temp = head\n",
        "    while(temp != None):\n",
        "      print(temp.getData(),end=\"->\")\n",
        "      temp = temp.getNext() #jump to next node\n",
        "\n",
        "\n",
        "head = Node(1)\n",
        "node2 = Node(2)\n",
        "node3 = Node(3)\n",
        "node4 = Node(4)\n",
        "node5 = Node(5)\n",
        "\n",
        "#creating the linkage\n",
        "head.setNext(node2)\n",
        "node2.setNext(node3)\n",
        "node3.setNext(node4)\n",
        "node4.setNext(node5)\n",
        "\n",
        "\n",
        "traverse(head)\n",
        "print()\n",
        "\n",
        "reverse(head)\n",
        "print()\n"
      ]
    },
    {
      "cell_type": "markdown",
      "metadata": {
        "id": "batdA0VRgTHk"
      },
      "source": [
        "Problem 2: Merge two sorted linked lists into one sorted linked list."
      ]
    },
    {
      "cell_type": "code",
      "execution_count": 2,
      "metadata": {
        "colab": {
          "base_uri": "https://localhost:8080/"
        },
        "id": "d2C4iN2X0gbn",
        "outputId": "00bd58dc-a94f-4b36-a063-40cc29cb2a7d"
      },
      "outputs": [
        {
          "name": "stdout",
          "output_type": "stream",
          "text": [
            "Merged Linked List is:\n",
            "1->2->3->4->5->6->"
          ]
        }
      ],
      "source": [
        "class Node:\n",
        "\n",
        "  def __init__(self,data=None,next=None):\n",
        "    self.data = data\n",
        "    self.next = next\n",
        "\n",
        "\n",
        "\n",
        "class LinkedList():\n",
        "\n",
        "  def __init__(self):\n",
        "    self.head = None\n",
        "\n",
        "  def traverse(self):\n",
        "    temp = self.head\n",
        "    while(temp != None):\n",
        "      print(temp.data,end=\"->\")\n",
        "      temp = temp.next\n",
        "\n",
        "  def append(self,new_data):\n",
        "        new_node = Node(new_data)\n",
        "\n",
        "        if self.head is None:\n",
        "            self.head = new_node\n",
        "            return\n",
        "        last = self.head\n",
        "\n",
        "        while last.next:\n",
        "            last = last.next\n",
        "        last.next = new_node\n",
        "\n",
        "\n",
        "def mergeLists(head1, head2):\n",
        "\n",
        "    temp = None\n",
        "\n",
        "    if head1 is None:\n",
        "        return head2\n",
        "\n",
        "    if head2 is None:\n",
        "        return head1\n",
        "\n",
        "\n",
        "    if head1.data <= head2.data:\n",
        "\n",
        "        temp = head1\n",
        "        temp.next = mergeLists(head1.next, head2)\n",
        "\n",
        "    else:\n",
        "\n",
        "        temp = head2\n",
        "        temp.next = mergeLists(head1, head2.next)\n",
        "\n",
        "    return temp\n",
        "\n",
        "\n",
        "\n",
        "\n",
        "\n",
        "list1 = LinkedList()\n",
        "list1.append(1)\n",
        "list1.append(3)\n",
        "list1.append(5)\n",
        "\n",
        "list2 = LinkedList()\n",
        "list2.append(2)\n",
        "list2.append(4)\n",
        "list2.append(6)\n",
        "\n",
        "\n",
        "\n",
        "\n",
        "list1.head = mergeLists(list1.head,list2.head)\n",
        "print(\"Merged Linked List is:\")\n",
        "list1.traverse()\n",
        "\n",
        "\n",
        "\n",
        "\n",
        "\n"
      ]
    },
    {
      "cell_type": "markdown",
      "metadata": {
        "id": "gk0-Lw141JC4"
      },
      "source": [
        "Problem 3: Remove the nth node from the end of a linked list."
      ]
    },
    {
      "cell_type": "code",
      "execution_count": 3,
      "metadata": {
        "colab": {
          "base_uri": "https://localhost:8080/"
        },
        "id": "RYKW_9KW0gUb",
        "outputId": "fb0c7298-7a55-4358-85f9-b381e1ca0f25"
      },
      "outputs": [
        {
          "name": "stdout",
          "output_type": "stream",
          "text": [
            "1->2->3->4->5->\n",
            "Linked List after Deletion-\n",
            "1->2->3->5->"
          ]
        }
      ],
      "source": [
        "class Node:\n",
        "    def __init__(self, data):\n",
        "        self.data = data\n",
        "        self.next = None\n",
        "\n",
        "\n",
        "class LinkedList:\n",
        "    def __init__(self):\n",
        "        self.head = None\n",
        "\n",
        "    def append(self,new_data):\n",
        "        new_node = Node(new_data)\n",
        "\n",
        "        if self.head is None:\n",
        "            self.head = new_node\n",
        "            return\n",
        "        last = self.head\n",
        "\n",
        "        while last.next:\n",
        "            last = last.next\n",
        "        last.next = new_node\n",
        "\n",
        "\n",
        "    def traverse(self):\n",
        "        temp = self.head\n",
        "        while temp != None:\n",
        "            print(temp.data,end=\"->\")\n",
        "            temp = temp.next\n",
        "\n",
        "    def deleteNthNodeFromEnd(self,head, n):\n",
        "        fast = head\n",
        "        slow = head\n",
        "\n",
        "        for i in range(n):\n",
        "            fast = fast.next\n",
        "\n",
        "        if not fast:\n",
        "            return head.next\n",
        "\n",
        "        while fast.next:\n",
        "            fast = fast.next\n",
        "            slow = slow.next\n",
        "\n",
        "        slow.next = slow.next.next\n",
        "        return head\n",
        "\n",
        "l1 = LinkedList()\n",
        "l1.append(1)\n",
        "l1.append(2)\n",
        "l1.append(3)\n",
        "l1.append(4)\n",
        "l1.append(5)\n",
        "\n",
        "l1.traverse()\n",
        "\n",
        "l1.deleteNthNodeFromEnd(l1.head, 2)\n",
        "\n",
        "print(\"\\nLinked List after Deletion-\")\n",
        "l1.traverse()"
      ]
    },
    {
      "cell_type": "markdown",
      "metadata": {
        "id": "04jPfIVBNqMx"
      },
      "source": [
        "Problem 4: Find the intersection point of two linked lists."
      ]
    },
    {
      "cell_type": "code",
      "execution_count": 4,
      "metadata": {
        "colab": {
          "base_uri": "https://localhost:8080/"
        },
        "id": "hgTsGFYn0gQr",
        "outputId": "8d04f16a-c843-46c3-e72a-5b0ff84b7bf7"
      },
      "outputs": [
        {
          "name": "stdout",
          "output_type": "stream",
          "text": [
            "Intersection Point: 3\n"
          ]
        }
      ],
      "source": [
        "class Node:\n",
        "\n",
        "  def __init__(self,data=None,next=None):\n",
        "    self.data = data\n",
        "    self.next = next\n",
        "\n",
        "class LinkedList:\n",
        "\n",
        "  def __init__(self):\n",
        "    self.head = None\n",
        "\n",
        "  def append(self,newData):\n",
        "    new_node = Node(newData)\n",
        "\n",
        "    if self.head == None:\n",
        "      self.head = new_node\n",
        "      return\n",
        "    last = self.head\n",
        "\n",
        "    while last.next:\n",
        "      last = last.next\n",
        "    last.next = new_node\n",
        "\n",
        "  def traverse(self):\n",
        "    temp = self.head\n",
        "    while temp:\n",
        "      print(temp.data,end=\"->\")\n",
        "      temp = temp.next\n",
        "\n",
        "def intersectionNode(head1,head2):\n",
        "  while head2:\n",
        "    temp = head1\n",
        "    while temp:\n",
        "      if temp.data == head2.data:\n",
        "         return head2.data\n",
        "      temp = temp.next\n",
        "    head2 = head2.next\n",
        "  return None\n",
        "\n",
        "\n",
        "\n",
        "List1 = LinkedList()\n",
        "List2 = LinkedList()\n",
        "\n",
        "List1.append(1)\n",
        "List1.append(2)\n",
        "List1.append(3)\n",
        "List1.append(4)\n",
        "\n",
        "List2.append(9)\n",
        "List2.append(8)\n",
        "List2.append(3)\n",
        "List2.append(4)\n",
        "\n",
        "# List1.traverse()\n",
        "# List2.traverse()\n",
        "\n",
        "intersectionPoint = intersectionNode(List1.head, List2.head)\n",
        "if not intersectionPoint:\n",
        "        print(\" No Intersection Point \")\n",
        "else:\n",
        "        print(\"Intersection Point:\", intersectionPoint)\n",
        "\n",
        "\n",
        "\n"
      ]
    },
    {
      "cell_type": "markdown",
      "metadata": {
        "id": "7S-ls7rjm_ut"
      },
      "source": [
        "Problem 5: Remove duplicates from a sorted linked list."
      ]
    },
    {
      "cell_type": "code",
      "execution_count": 5,
      "metadata": {
        "colab": {
          "base_uri": "https://localhost:8080/"
        },
        "id": "WQfz-B980gBc",
        "outputId": "de54b4ce-2c47-4c21-d82c-b60f9d3ec9dd"
      },
      "outputs": [
        {
          "name": "stdout",
          "output_type": "stream",
          "text": [
            "1-> 2-> 3-> "
          ]
        }
      ],
      "source": [
        "class Node:\n",
        "\n",
        "  def __init__(self,data=None,next=None):\n",
        "    self.data = data\n",
        "    self.next = next\n",
        "\n",
        "class LinkedList:\n",
        "\n",
        "  def __init__(self):\n",
        "    self.head = None\n",
        "\n",
        "  def append(self,newData):\n",
        "    new_node = Node(newData)\n",
        "\n",
        "    if self.head == None:\n",
        "      self.head = new_node\n",
        "      return\n",
        "    last = self.head\n",
        "\n",
        "    while last.next:\n",
        "      last = last.next\n",
        "    last.next = new_node\n",
        "\n",
        "  def traverse(self):\n",
        "    temp = self.head\n",
        "    while temp:\n",
        "      print(temp.data,end=\"->\")\n",
        "      temp = temp.next\n",
        "\n",
        "  def removeDuplicates(self,head):\n",
        "    track = {}\n",
        "    temp = head\n",
        "\n",
        "    while(temp != None):\n",
        "        if (not temp.data in track):\n",
        "            print(temp.data, end=\"-> \")\n",
        "\n",
        "        track[temp.data] = True\n",
        "        temp = temp.next\n",
        "\n",
        "\n",
        "l1 = LinkedList()\n",
        "l1.append(1)\n",
        "l1.append(1)\n",
        "l1.append(2)\n",
        "l1.append(3)\n",
        "l1.append(3)\n",
        "\n",
        "\n",
        "l1.removeDuplicates(l1.head)\n",
        "\n",
        "\n"
      ]
    },
    {
      "cell_type": "markdown",
      "metadata": {
        "id": "7I3UDPKJ2kL7"
      },
      "source": [
        "Problem 6: Add two numbers represented by linked lists (where each node contains a single digit)."
      ]
    },
    {
      "cell_type": "code",
      "execution_count": 6,
      "metadata": {
        "colab": {
          "base_uri": "https://localhost:8080/"
        },
        "id": "YFMz6Jd70f-F",
        "outputId": "09e858d2-a292-4f10-9ce6-4927e08ad9ec"
      },
      "outputs": [
        {
          "name": "stdout",
          "output_type": "stream",
          "text": [
            "7->0->8->"
          ]
        }
      ],
      "source": [
        "class Node:\n",
        "\n",
        "  def __init__(self,data=None,next=None):\n",
        "    self.data = data\n",
        "    self.next = next\n",
        "\n",
        "class LinkedList:\n",
        "\n",
        "  def __init__(self):\n",
        "    self.head = None\n",
        "\n",
        "  def append(self,newData):\n",
        "    new_node = Node(newData)\n",
        "\n",
        "    if self.head == None:\n",
        "      self.head = new_node\n",
        "      return\n",
        "    last = self.head\n",
        "\n",
        "    while last.next:\n",
        "      last = last.next\n",
        "    last.next = new_node\n",
        "\n",
        "  def reverse(self):\n",
        "        previous = None\n",
        "        current = self.head\n",
        "\n",
        "        while (current != None):\n",
        "            tmp = current.next\n",
        "\n",
        "            current.next = previous\n",
        "\n",
        "            previous = current\n",
        "            current = tmp\n",
        "        self.head = previous\n",
        "\n",
        "\n",
        "  def traverse(self):\n",
        "    temp = self.head\n",
        "    while temp:\n",
        "      print(temp.data,end=\"->\")\n",
        "      temp = temp.next\n",
        "\n",
        "\n",
        "def addTwoLists(first, second):\n",
        "\n",
        "      first.reverse()\n",
        "      second.reverse()\n",
        "\n",
        "      curr1 = first.head\n",
        "      curr2 = second.head\n",
        "\n",
        "      num1 = num2 = 0\n",
        "\n",
        "\n",
        "      while curr1:\n",
        "        num1  = num1*10 + curr1.data\n",
        "        curr1 = curr1.next\n",
        "      while curr2:\n",
        "        num2 = num2*10 +curr2.data\n",
        "        curr2 = curr2.next\n",
        "      num3 = num1 + num2\n",
        "      temp = LinkedList()\n",
        "      while num3:\n",
        "        mod = num3%10\n",
        "        temp.append(mod)\n",
        "        num3 = num3//10\n",
        "      return temp\n",
        "\n",
        "\n",
        "\n",
        "\n",
        "l1=LinkedList()\n",
        "l2 = LinkedList()\n",
        "\n",
        "l1.append(2)\n",
        "l1.append(4)\n",
        "l1.append(3)\n",
        "l2.append(5)\n",
        "l2.append(6)\n",
        "l2.append(4)\n",
        "\n",
        "\n",
        "addTwoLists( l1, l2).traverse()\n",
        "\n",
        "\n"
      ]
    },
    {
      "cell_type": "markdown",
      "metadata": {
        "id": "bPS7gca-1PTn"
      },
      "source": [
        "Problem 7: Swap nodes in pairs in a linked list."
      ]
    },
    {
      "cell_type": "code",
      "execution_count": 7,
      "metadata": {
        "colab": {
          "base_uri": "https://localhost:8080/"
        },
        "id": "2GS12PKla40-",
        "outputId": "be9907e2-a147-4edc-a736-a0470d941e8e"
      },
      "outputs": [
        {
          "name": "stdout",
          "output_type": "stream",
          "text": [
            "2->1->4->3->"
          ]
        }
      ],
      "source": [
        "class Node:\n",
        "\n",
        "  def __init__(self,data=None,next=None):\n",
        "    self.data = data\n",
        "    self.next = next\n",
        "\n",
        "class LinkedList:\n",
        "\n",
        "  def __init__(self):\n",
        "    self.head = None\n",
        "\n",
        "  def append(self,newData):\n",
        "    new_node = Node(newData)\n",
        "\n",
        "    if self.head == None:\n",
        "      self.head = new_node\n",
        "      return\n",
        "    last = self.head\n",
        "\n",
        "    while last.next:\n",
        "      last = last.next\n",
        "    last.next = new_node\n",
        "\n",
        "  def traverse(self):\n",
        "    temp = self.head\n",
        "    while temp:\n",
        "      print(temp.data,end=\"->\")\n",
        "      temp = temp.next\n",
        "\n",
        "  def swapNodes(self):\n",
        "    temp = self.head\n",
        "    if temp == None:\n",
        "      return\n",
        "    while temp and temp.next:\n",
        "      if temp.data < temp.next.data:\n",
        "        temp.data,temp.next.data = temp.next.data,temp.data\n",
        "      temp = temp.next.next\n",
        "\n",
        "\n",
        "l1 = LinkedList()\n",
        "l1.append(1)\n",
        "l1.append(2)\n",
        "l1.append(3)\n",
        "l1.append(4)\n",
        "\n",
        "l1.swapNodes()\n",
        "l1.traverse()\n"
      ]
    },
    {
      "cell_type": "markdown",
      "metadata": {
        "id": "7nHNUyKC1St1"
      },
      "source": [
        "Problem 8: Reverse nodes in a linked list in groups of k."
      ]
    },
    {
      "cell_type": "code",
      "execution_count": 8,
      "metadata": {
        "colab": {
          "base_uri": "https://localhost:8080/"
        },
        "id": "r3KuvGkha4xj",
        "outputId": "456cbb1b-73a3-4405-e0af-b9c8d9ad4265"
      },
      "outputs": [
        {
          "name": "stdout",
          "output_type": "stream",
          "text": [
            "3->2->1->4->5->"
          ]
        }
      ],
      "source": [
        "\n",
        "\n",
        "class Node:\n",
        "\n",
        "  def __init__(self,data=None,next=None):\n",
        "    self.data = data\n",
        "    self.next = next\n",
        "\n",
        "class LinkedList:\n",
        "\n",
        "    def __init__(self):\n",
        "        self.head = None\n",
        "\n",
        "    def length(self,head):\n",
        "      temp = head\n",
        "      len = 0\n",
        "      while(temp):\n",
        "        len+=1\n",
        "        temp = temp.next\n",
        "      return len\n",
        "\n",
        "\n",
        "    def append(self,newData):\n",
        "      new_node = Node(newData)\n",
        "\n",
        "      if self.head == None:\n",
        "        self.head = new_node\n",
        "        return\n",
        "      last = self.head\n",
        "\n",
        "      while last.next:\n",
        "        last = last.next\n",
        "      last.next = new_node\n",
        "\n",
        "    def traverse(self):\n",
        "      temp = self.head\n",
        "      while temp:\n",
        "        print(temp.data,end=\"->\")\n",
        "        temp = temp.next\n",
        "\n",
        "    def reverse(self,head, k):\n",
        "\n",
        "        if head == None:\n",
        "          return None\n",
        "        current = head\n",
        "        next = None\n",
        "        prev = None\n",
        "        count = 0\n",
        "\n",
        "        len = self.length(head)\n",
        "        section = len//k\n",
        "\n",
        "        if section<1:\n",
        "          return head\n",
        "\n",
        "        while(current is not None and count < k):\n",
        "            next = current.next\n",
        "            current.next = prev\n",
        "            prev = current\n",
        "            current = next\n",
        "            count += 1\n",
        "\n",
        "\n",
        "        if next is not None:\n",
        "            head.next = self.reverse(next, k)\n",
        "\n",
        "        return prev\n",
        "\n",
        "l1 = LinkedList()\n",
        "l1.append(1)\n",
        "l1.append(2)\n",
        "l1.append(3)\n",
        "l1.append(4)\n",
        "l1.append(5)\n",
        "\n",
        "\n",
        "\n",
        "l1.head =  l1.reverse(l1.head,3)\n",
        "l1.traverse()"
      ]
    },
    {
      "cell_type": "markdown",
      "metadata": {
        "id": "KohMOR9C1WtE"
      },
      "source": [
        "Problem 9: Determine if a linked list is a palindrome."
      ]
    },
    {
      "cell_type": "code",
      "execution_count": 9,
      "metadata": {
        "colab": {
          "base_uri": "https://localhost:8080/"
        },
        "id": "Yss5GrDea4uu",
        "outputId": "e8a6b79f-4c41-4e9d-f3ec-57a6c96f58e0"
      },
      "outputs": [
        {
          "data": {
            "text/plain": [
              "True"
            ]
          },
          "execution_count": 9,
          "metadata": {},
          "output_type": "execute_result"
        }
      ],
      "source": [
        "class Node:\n",
        "\n",
        "  def __init__(self,data=None,next=None):\n",
        "    self.data = data\n",
        "    self.next = next\n",
        "\n",
        "class LinkedList:\n",
        "\n",
        "  def __init__(self):\n",
        "    self.head = None\n",
        "\n",
        "  def append(self,newData):\n",
        "    new_node = Node(newData)\n",
        "\n",
        "    if self.head == None:\n",
        "      self.head = new_node\n",
        "      return\n",
        "    last = self.head\n",
        "\n",
        "    while last.next:\n",
        "      last = last.next\n",
        "    last.next = new_node\n",
        "\n",
        "  def length(self):\n",
        "      temp = self.head\n",
        "      len = 0\n",
        "      while(temp):\n",
        "        len+=1\n",
        "        temp = temp.next\n",
        "      return len\n",
        "\n",
        "  def reverse(self,head):\n",
        "        previous = None\n",
        "        current = head\n",
        "\n",
        "        while (current != None):\n",
        "            tmp = current.next\n",
        "\n",
        "            current.next = previous\n",
        "\n",
        "            previous = current\n",
        "            current = tmp\n",
        "        return previous\n",
        "\n",
        "\n",
        "\n",
        "  def traverse(self):\n",
        "    temp = self.head\n",
        "    while temp:\n",
        "      print(temp.data,end=\"->\")\n",
        "      temp = temp.next\n",
        "\n",
        "  def isPalindromic(self):\n",
        "    curr = self.head\n",
        "    p = True\n",
        "\n",
        "    len = self.length()\n",
        "    if (len % 2 == 0):\n",
        "      mid = len//2\n",
        "    else:\n",
        "      mid = (len+1)//2\n",
        "\n",
        "    for i in range(1,mid):\n",
        "      curr = curr.next\n",
        "\n",
        "    revhead = self.reverse(curr.next)\n",
        "\n",
        "\n",
        "    while(self.head != None and revhead != None):\n",
        "      if (self.head.data != revhead.data):\n",
        "        p = False\n",
        "        break\n",
        "      self.head = self.head.next\n",
        "      revhead = revhead.next\n",
        "\n",
        "\n",
        "    return p\n",
        "\n",
        "\n",
        "\n",
        "l1 = LinkedList()\n",
        "l1.append(1)\n",
        "l1.append(2)\n",
        "l1.append(2)\n",
        "l1.append(1)\n",
        "\n",
        "\n",
        "l1.isPalindromic()\n",
        "\n"
      ]
    },
    {
      "cell_type": "markdown",
      "metadata": {
        "id": "zMNpSTCh1Z8F"
      },
      "source": [
        "Problem 10: Rotate a linked list to the right by k places."
      ]
    },
    {
      "cell_type": "code",
      "execution_count": 10,
      "metadata": {
        "colab": {
          "base_uri": "https://localhost:8080/"
        },
        "id": "wVJSMa7Va4r2",
        "outputId": "86496790-183c-4736-df40-f6607fd20416"
      },
      "outputs": [
        {
          "name": "stdout",
          "output_type": "stream",
          "text": [
            "4->5->1->2->3->"
          ]
        }
      ],
      "source": [
        "class Node:\n",
        "\n",
        "  def __init__(self,data=None,next=None):\n",
        "    self.data = data\n",
        "    self.next = next\n",
        "\n",
        "class LinkedList:\n",
        "\n",
        "  def __init__(self):\n",
        "    self.head = None\n",
        "\n",
        "  def length(self):\n",
        "      temp = self.head\n",
        "      len = 0\n",
        "      while(temp):\n",
        "        len+=1\n",
        "        temp = temp.next\n",
        "      return len\n",
        "\n",
        "  def append(self,newData):\n",
        "    new_node = Node(newData)\n",
        "\n",
        "    if self.head == None:\n",
        "      self.head = new_node\n",
        "      return\n",
        "    last = self.head\n",
        "\n",
        "    while last.next:\n",
        "      last = last.next\n",
        "    last.next = new_node\n",
        "\n",
        "  def traverse(self):\n",
        "    temp = self.head\n",
        "    while temp:\n",
        "      print(temp.data,end=\"->\")\n",
        "      temp = temp.next\n",
        "\n",
        "  def rotate(self, k):\n",
        "\n",
        "        len = self.length()\n",
        "\n",
        "        if(k>len):\n",
        "          k=k%len\n",
        "        k = len - k\n",
        "\n",
        "        if k == 0:\n",
        "            return\n",
        "\n",
        "        current = self.head\n",
        "\n",
        "        count = 1\n",
        "        while(count < k and current is not None):\n",
        "            current = current.next\n",
        "            count += 1\n",
        "\n",
        "        if current is None:\n",
        "            return\n",
        "\n",
        "        kthNode = current\n",
        "\n",
        "        while(current.next is not None):\n",
        "            current = current.next\n",
        "\n",
        "        current.next = self.head\n",
        "\n",
        "        self.head = kthNode.next\n",
        "\n",
        "        kthNode.next = None\n",
        "\n",
        "\n",
        "l1 = LinkedList()\n",
        "l1.append(1)\n",
        "l1.append(2)\n",
        "l1.append(3)\n",
        "l1.append(4)\n",
        "l1.append(5)\n",
        "\n",
        "\n",
        "l1.rotate(2)\n",
        "l1.traverse()\n"
      ]
    },
    {
      "cell_type": "markdown",
      "metadata": {
        "id": "ss1Kksw7Ycqd"
      },
      "source": [
        "Problem 12: Rearrange a linked list such that all even positioned nodes are placed at the end."
      ]
    },
    {
      "cell_type": "code",
      "execution_count": 11,
      "metadata": {
        "colab": {
          "base_uri": "https://localhost:8080/"
        },
        "id": "NAR_E1vrYcDh",
        "outputId": "9dbe09ac-1bcc-4b44-841f-e782e032c863"
      },
      "outputs": [
        {
          "name": "stdout",
          "output_type": "stream",
          "text": [
            "1->3->5->2->4->"
          ]
        }
      ],
      "source": [
        "class Node:\n",
        "\n",
        "  def __init__(self,data=None,next=None):\n",
        "    self.data = data\n",
        "    self.next = next\n",
        "\n",
        "class LinkedList:\n",
        "\n",
        "  def __init__(self):\n",
        "    self.head = None\n",
        "\n",
        "  def length(self):\n",
        "      temp = self.head\n",
        "      len = 0\n",
        "      while(temp):\n",
        "        len+=1\n",
        "        temp = temp.next\n",
        "      return len\n",
        "\n",
        "  def append(self,newData):\n",
        "    new_node = Node(newData)\n",
        "\n",
        "    if self.head == None:\n",
        "      self.head = new_node\n",
        "      return\n",
        "    last = self.head\n",
        "\n",
        "    while last.next:\n",
        "      last = last.next\n",
        "    last.next = new_node\n",
        "\n",
        "  def traverse(self):\n",
        "    temp = self.head\n",
        "    while temp:\n",
        "      print(temp.data,end=\"->\")\n",
        "      temp = temp.next\n",
        "\n",
        "  def rearrangeOddEven(self,head):\n",
        "\n",
        "    if (self.head == None and self.head.next == None):\n",
        "      return None\n",
        "\n",
        "    temp = self.head\n",
        "    Oddstart = None\n",
        "    OddEnd = None\n",
        "    Evenstart = None\n",
        "    EvenEnd = None\n",
        "\n",
        "    i = 1\n",
        "    while(temp != None):\n",
        "      if (i%2 == 0):\n",
        "        if Evenstart == None:\n",
        "          Evenstart = temp\n",
        "        else:\n",
        "          EvenEnd.next = temp\n",
        "        EvenEnd = temp\n",
        "      else:\n",
        "        if  Oddstart == None:\n",
        "          Oddstart = temp\n",
        "        else:\n",
        "          OddEnd.next = temp\n",
        "        OddEnd = temp\n",
        "      temp = temp.next\n",
        "      i+=1\n",
        "\n",
        "    OddEnd.next = Evenstart\n",
        "    EvenEnd.next = None\n",
        "    return Oddstart\n",
        "\n",
        "l1 = LinkedList()\n",
        "l1.append(1)\n",
        "l1.append(2)\n",
        "l1.append(3)\n",
        "l1.append(4)\n",
        "l1.append(5)\n",
        "\n",
        "l1.rearrangeOddEven(l1)\n",
        "l1.traverse()\n",
        "\n"
      ]
    },
    {
      "cell_type": "markdown",
      "metadata": {
        "id": "PB77XDgM1d5O"
      },
      "source": [
        "Problem 13: Given a non-negative number represented as a linked list, add one to it."
      ]
    },
    {
      "cell_type": "code",
      "execution_count": 12,
      "metadata": {
        "colab": {
          "base_uri": "https://localhost:8080/"
        },
        "id": "u0I_RJhOa4kl",
        "outputId": "091ccb27-b741-49e7-fe8e-dd0ce10b827a"
      },
      "outputs": [
        {
          "name": "stdout",
          "output_type": "stream",
          "text": [
            "1->2->4->"
          ]
        }
      ],
      "source": [
        "class Node:\n",
        "\n",
        "  def __init__(self,data=None,next=None):\n",
        "    self.data = data\n",
        "    self.next = next\n",
        "\n",
        "class LinkedList:\n",
        "\n",
        "  def __init__(self):\n",
        "    self.head = None\n",
        "\n",
        "  def append(self,newData):\n",
        "    new_node = Node(newData)\n",
        "\n",
        "    if self.head == None:\n",
        "      self.head = new_node\n",
        "      return\n",
        "    last = self.head\n",
        "\n",
        "    while last.next:\n",
        "      last = last.next\n",
        "    last.next = new_node\n",
        "\n",
        "  def reverse(self,head):\n",
        "        previous = None\n",
        "        current = head\n",
        "\n",
        "        while (current != None):\n",
        "            tmp = current.next\n",
        "\n",
        "            current.next = previous\n",
        "\n",
        "            previous = current\n",
        "            current = tmp\n",
        "        self.head = previous\n",
        "\n",
        "  def traverse(self):\n",
        "    temp = self.head\n",
        "    while temp:\n",
        "      print(temp.data,end=\"->\")\n",
        "      temp = temp.next\n",
        "\n",
        "\n",
        "  def addOneToLists(self):\n",
        "\n",
        "      curr1 = self.head\n",
        "      num1 = 0\n",
        "\n",
        "\n",
        "      while curr1:\n",
        "        num1  = num1*10 + curr1.data\n",
        "        curr1 = curr1.next\n",
        "\n",
        "      num2 = num1 + 1\n",
        "      temp = LinkedList()\n",
        "\n",
        "      while num2:\n",
        "        mod = num2%10\n",
        "        temp.append(mod)\n",
        "        num2 = num2//10\n",
        "\n",
        "      temp.reverse(temp.head)\n",
        "      return temp\n",
        "\n",
        "\n",
        "\n",
        "\n",
        "l1=LinkedList()\n",
        "\n",
        "l1.append(1)\n",
        "l1.append(2)\n",
        "l1.append(3)\n",
        "\n",
        "\n",
        "l1.addOneToLists().traverse()\n"
      ]
    },
    {
      "cell_type": "markdown",
      "metadata": {
        "id": "sIONrjssXoso"
      },
      "source": [
        "Problem 14: Given a sorted array and a target value, return the index if the target is found. If not, return the\n",
        "index where it would be inserted."
      ]
    },
    {
      "cell_type": "code",
      "execution_count": 13,
      "metadata": {
        "colab": {
          "base_uri": "https://localhost:8080/"
        },
        "id": "Vs0Ia9SxXirx",
        "outputId": "2e304665-d5ba-4dcf-a312-599fc849d7d9"
      },
      "outputs": [
        {
          "name": "stdout",
          "output_type": "stream",
          "text": [
            "2\n"
          ]
        }
      ],
      "source": [
        "def findIndex(arr,target):\n",
        "\n",
        " for i in range(len(arr)):\n",
        "  if target == arr[i]:\n",
        "    return i\n",
        " return -1\n",
        "\n",
        "nums = [1, 3, 5, 6]\n",
        "result = findIndex(nums,5)\n",
        "print(result)\n"
      ]
    },
    {
      "cell_type": "markdown",
      "metadata": {
        "id": "lzOrcJJ2Zpv1"
      },
      "source": [
        "Problem 15: Find the minimum element in a rotated sorted array."
      ]
    },
    {
      "cell_type": "code",
      "execution_count": 14,
      "metadata": {
        "colab": {
          "base_uri": "https://localhost:8080/"
        },
        "id": "YOo8RFHkZpXM",
        "outputId": "8277a4af-29a0-4949-8ebb-7663235d9a85"
      },
      "outputs": [
        {
          "name": "stdout",
          "output_type": "stream",
          "text": [
            "0\n"
          ]
        }
      ],
      "source": [
        "def minElement(arr):\n",
        "  l=arr[0]\n",
        "  for i in range(len(arr)):\n",
        "    if arr[i] < l:\n",
        "      l=arr[i]\n",
        "  return l\n",
        "\n",
        "\n",
        "arr1 = [4, 5, 6, 7, 0, 1, 2]\n",
        "result2 = minElement(arr1)\n",
        "print(result2)"
      ]
    },
    {
      "cell_type": "markdown",
      "metadata": {
        "id": "NQnu_z_Fh0gq"
      },
      "source": [
        "Problem 16: Search for a target value in a rotated sorted array."
      ]
    },
    {
      "cell_type": "code",
      "execution_count": 15,
      "metadata": {
        "colab": {
          "base_uri": "https://localhost:8080/"
        },
        "id": "esRiAUZTh1n4",
        "outputId": "a806c400-44fb-47ce-baf1-4f191072183e"
      },
      "outputs": [
        {
          "name": "stdout",
          "output_type": "stream",
          "text": [
            "4\n"
          ]
        }
      ],
      "source": [
        "def find_Index(arr,target):\n",
        "\n",
        " for i in range(len(arr)):\n",
        "  if target == arr[i]:\n",
        "    return i\n",
        " return -1\n",
        "\n",
        "nums = [4, 5, 6, 7, 0, 1, 2]\n",
        "result3 = find_Index(nums,0)\n",
        "print(result3)"
      ]
    },
    {
      "cell_type": "markdown",
      "metadata": {
        "id": "usov-qSEjTzK"
      },
      "source": [
        "Problem 17: Find the peak element in an array. A peak element is greater than its neighbors."
      ]
    },
    {
      "cell_type": "code",
      "execution_count": 16,
      "metadata": {
        "colab": {
          "base_uri": "https://localhost:8080/"
        },
        "id": "k0Jw0QRMjTIR",
        "outputId": "087a4162-ab0b-424e-a77b-be3d2abe0b60"
      },
      "outputs": [
        {
          "name": "stdout",
          "output_type": "stream",
          "text": [
            "2\n"
          ]
        }
      ],
      "source": [
        "def peek_Element(arr):\n",
        "  l=0\n",
        "  for i in range(len(arr)):\n",
        "    if arr[i] > arr[l]:\n",
        "      l+=1\n",
        "  return l\n",
        "\n",
        "\n",
        "nums = [1, 2, 3, 1]\n",
        "result4 = peek_Element(nums)\n",
        "print(result4)"
      ]
    },
    {
      "cell_type": "markdown",
      "metadata": {
        "id": "hN3pByGWwLAc"
      },
      "source": [
        "Problem 18: Given a m x n matrix where each row and column is sorted in ascending order, count the number\n",
        "of negative numbers."
      ]
    },
    {
      "cell_type": "code",
      "execution_count": 17,
      "metadata": {
        "colab": {
          "base_uri": "https://localhost:8080/"
        },
        "id": "RIYm064ZwJWk",
        "outputId": "cc8853c5-c620-45aa-a34a-0405045c8ee9"
      },
      "outputs": [
        {
          "name": "stdout",
          "output_type": "stream",
          "text": [
            "8\n"
          ]
        }
      ],
      "source": [
        "def countNumOfNeg(arr,m,n):\n",
        "  count = 0\n",
        "  for i in range(m):\n",
        "    for j in range(n):\n",
        "      if arr[i][j] < 0 :\n",
        "        count+=1\n",
        "  return count\n",
        "\n",
        "grid = [[4, 3, 2, -1], [3, 2, 1, -1], [1, 1, -1, -2], [-1, -1, -2, -3]]\n",
        "number = countNumOfNeg(grid,4,4)\n",
        "print(number)\n"
      ]
    },
    {
      "cell_type": "markdown",
      "metadata": {
        "id": "b8n_-Eqfzl_C"
      },
      "source": [
        "Problem 19: Given a 2D matrix sorted in ascending order in each row, and the first integer of each row is\n",
        "greater than the last integer of the previous row, determine if a target value is present in the matrix."
      ]
    },
    {
      "cell_type": "code",
      "execution_count": 18,
      "metadata": {
        "colab": {
          "base_uri": "https://localhost:8080/"
        },
        "id": "3RqhFxmJznMY",
        "outputId": "bb64460a-2492-4a11-b2da-8421743ae455"
      },
      "outputs": [
        {
          "name": "stdout",
          "output_type": "stream",
          "text": [
            "True\n"
          ]
        }
      ],
      "source": [
        "def findTargetValue(arr,m,n,target):\n",
        "  for i in range(m):\n",
        "    for j in range(n):\n",
        "      if arr[i][j] == target :\n",
        "        return True\n",
        "    return -1\n",
        "\n",
        "matrix = [[1, 3, 5, 7], [10, 11, 16, 20], [23, 30, 34, 60]]\n",
        "result5 = findTargetValue(matrix,4,3,3)\n",
        "print(result5)"
      ]
    },
    {
      "cell_type": "markdown",
      "metadata": {
        "id": "Aih7b6WMY7L8"
      },
      "source": [
        "Problem 20: Find Median in Two Sorted Arrays\n",
        "Problem: Given two sorted arrays, find the median of the combined sorted array."
      ]
    },
    {
      "cell_type": "code",
      "execution_count": 19,
      "metadata": {
        "colab": {
          "base_uri": "https://localhost:8080/"
        },
        "id": "ePkeX9fcY6dz",
        "outputId": "e208e132-c10a-4f28-af15-4d1cadf716b4"
      },
      "outputs": [
        {
          "name": "stdout",
          "output_type": "stream",
          "text": [
            "2.0\n"
          ]
        }
      ],
      "source": [
        "def FindMedian(arr1,arr2):\n",
        "  N = arr1+arr2\n",
        "  n = len(N)\n",
        "  for i in range(n):\n",
        "   if n%2 != 0:\n",
        "    return (n+1)/2\n",
        "   else:\n",
        "    return ((n/2) + (n/2 + 1))/2\n",
        "\n",
        "nums1 = [1, 3]\n",
        "nums2 = [2]\n",
        "result6 = FindMedian(nums1,nums2)\n",
        "print(result6)"
      ]
    },
    {
      "cell_type": "markdown",
      "metadata": {
        "id": "peKjLI5gf9uT"
      },
      "source": [
        "Problem 21: Given a sorted character array and a target letter, find the smallest letter in the array that is\n",
        "greater than the target."
      ]
    },
    {
      "cell_type": "code",
      "execution_count": 20,
      "metadata": {
        "colab": {
          "base_uri": "https://localhost:8080/"
        },
        "id": "lL33d4swf9av",
        "outputId": "c03e947b-867d-494a-dfbe-79786bf1a0b5"
      },
      "outputs": [
        {
          "name": "stdout",
          "output_type": "stream",
          "text": [
            "The smallest letter greater than a is c\n"
          ]
        }
      ],
      "source": [
        "def find_smallest_letter_greater_than_target(arr, target):\n",
        "\n",
        "    arr.sort()\n",
        "\n",
        "\n",
        "    for i in range(len(arr)):\n",
        "\n",
        "        if arr[i] > target:\n",
        "            return arr[i]\n",
        "\n",
        "    return arr[0]\n",
        "\n",
        "\n",
        "letters = ['c', 'f', 'j']\n",
        "target = 'a'\n",
        "result7 = find_smallest_letter_greater_than_target(letters, target)\n",
        "print(f\"The smallest letter greater than {target} is {result7}\")\n"
      ]
    },
    {
      "cell_type": "markdown",
      "metadata": {
        "id": "XyB6nconJO_D"
      },
      "source": [
        "Problem 22: Given an array with n objects colored red, white, or blue, sort them in-place so that objects of\n",
        "the same color are adjacent, with the colors in the order red, white, and blue."
      ]
    },
    {
      "cell_type": "code",
      "execution_count": 21,
      "metadata": {
        "colab": {
          "base_uri": "https://localhost:8080/"
        },
        "id": "b8i8l85HGIGP",
        "outputId": "a85b86b7-09ab-4ce2-fe57-746c49c1e3db"
      },
      "outputs": [
        {
          "name": "stdout",
          "output_type": "stream",
          "text": [
            "[0, 0, 1, 1, 2, 2]\n"
          ]
        }
      ],
      "source": [
        "\n",
        "def sortColors(arr):\n",
        "    n=len(arr)\n",
        "    red = 0\n",
        "    blue = n-1\n",
        "\n",
        "    i=0\n",
        "    while i<=blue:\n",
        "        if arr[i] == 0:\n",
        "           arr[i],arr[red]=arr[red],arr[i]\n",
        "           i+=1\n",
        "           red+=1\n",
        "        elif arr[i]== 2:\n",
        "            arr[i],arr[blue]=arr[blue],arr[i]\n",
        "            blue-=1\n",
        "\n",
        "        else:\n",
        "            i+=1\n",
        "\n",
        "nums = [2, 0, 2, 1, 1, 0]\n",
        "sortColors(nums)\n",
        "print(nums)"
      ]
    },
    {
      "cell_type": "markdown",
      "metadata": {
        "id": "XRiUFBBVGHt5"
      },
      "source": [
        "Problem 23: Find the kth largest element in an unsorted array."
      ]
    },
    {
      "cell_type": "code",
      "execution_count": 22,
      "metadata": {
        "colab": {
          "base_uri": "https://localhost:8080/"
        },
        "id": "Avko8ccoMQMX",
        "outputId": "60d77621-b087-4e57-f524-dc628d6a288b"
      },
      "outputs": [
        {
          "data": {
            "text/plain": [
              "5"
            ]
          },
          "execution_count": 22,
          "metadata": {},
          "output_type": "execute_result"
        }
      ],
      "source": [
        "def partition(nums, low, high):\n",
        "    pivot = nums[high]\n",
        "    i = low\n",
        "    for j in range(low, high):\n",
        "        if nums[j] > pivot:\n",
        "            nums[i], nums[j] = nums[j], nums[i]\n",
        "            i += 1\n",
        "    nums[i], nums[high] = nums[high], nums[i]\n",
        "    return i\n",
        "\n",
        "def quickselect(nums, low, high, k):\n",
        "    if low < high:\n",
        "        pi = partition(nums, low, high)\n",
        "        if pi == k:\n",
        "            return nums[pi]\n",
        "        elif pi < k:\n",
        "            return quickselect(nums, pi + 1, high, k)\n",
        "        else:\n",
        "            return quickselect(nums, low, pi - 1, k)\n",
        "    else:\n",
        "        return nums[low]\n",
        "\n",
        "\n",
        "nums = [3, 2, 1, 5, 6, 4]\n",
        "k = 2\n",
        "quickselect(nums,0,len(nums)-1,k-1)\n"
      ]
    },
    {
      "cell_type": "markdown",
      "metadata": {
        "id": "Hd_0WZT_woOe"
      },
      "source": [
        "Problem 24: Given an unsorted array, reorder it in-place such that nums[0] <= nums[1] >= nums[2] <=\n",
        "nums[3]..."
      ]
    },
    {
      "cell_type": "code",
      "execution_count": 23,
      "metadata": {
        "colab": {
          "base_uri": "https://localhost:8080/"
        },
        "id": "vpK2GYugwp0h",
        "outputId": "a2db3f91-f03f-4d6e-8b77-2f537a1967ec"
      },
      "outputs": [
        {
          "name": "stdout",
          "output_type": "stream",
          "text": [
            "[3, 5, 1, 6, 2, 4]\n"
          ]
        }
      ],
      "source": [
        "def reorderItInPlace(arr):\n",
        "  for i in range(0,len(arr)-1,2):\n",
        "\n",
        "    if (i>0 and arr[i]>arr[i-1]):\n",
        "      arr[i],arr[i-1] = arr[i-1],arr[i]\n",
        "\n",
        "    if (i<len(arr)-1 and arr[i]>arr[i+1]):\n",
        "      arr[i],arr[i+1] = arr[i+1],arr[i]\n",
        "\n",
        "nums = [3, 5, 2, 1, 6, 4]\n",
        "reorderItInPlace(nums)\n",
        "print(nums)"
      ]
    },
    {
      "cell_type": "markdown",
      "metadata": {
        "id": "dKt3lbQ22twX"
      },
      "source": [
        "Problem 25: Given an array of integers, calculate the sum of all its elements."
      ]
    },
    {
      "cell_type": "code",
      "execution_count": 24,
      "metadata": {
        "colab": {
          "base_uri": "https://localhost:8080/"
        },
        "id": "WmCmtXV02vCn",
        "outputId": "e10e578e-dd1b-4190-e463-b10614a3002d"
      },
      "outputs": [
        {
          "name": "stdout",
          "output_type": "stream",
          "text": [
            "15\n"
          ]
        }
      ],
      "source": [
        "def sumOfElements(arr):\n",
        "  sum = arr[0]\n",
        "  for i in range(1,len(arr)):\n",
        "    sum += arr[i]\n",
        "  return sum\n",
        "\n",
        "arr2 = [1, 2, 3, 4, 5]\n",
        "result8 = sumOfElements(arr2)\n",
        "print(result8)"
      ]
    },
    {
      "cell_type": "markdown",
      "metadata": {
        "id": "0Hx7eCDK5guk"
      },
      "source": [
        "Problem 26: Find the maximum element in an array of integers."
      ]
    },
    {
      "cell_type": "code",
      "execution_count": 25,
      "metadata": {
        "colab": {
          "base_uri": "https://localhost:8080/"
        },
        "id": "E4D6b5kj5hxu",
        "outputId": "8f4a49cd-b237-49a6-e424-715de7083002"
      },
      "outputs": [
        {
          "data": {
            "text/plain": [
              "9"
            ]
          },
          "execution_count": 25,
          "metadata": {},
          "output_type": "execute_result"
        }
      ],
      "source": [
        "def MaxElement(arr):\n",
        "  l = arr[0]\n",
        "  for i in range(len(arr)):\n",
        "    if arr[i]> l:\n",
        "      l = arr[i]\n",
        "  return l\n",
        "\n",
        "arr3 = [3, 7, 2, 9, 4, 1]\n",
        "MaxElement(arr3)"
      ]
    },
    {
      "cell_type": "markdown",
      "metadata": {
        "id": "rAHq922EGfaS"
      },
      "source": [
        "Problem 27: Implement linear search to find the index of a target element in an array."
      ]
    },
    {
      "cell_type": "code",
      "execution_count": 26,
      "metadata": {
        "colab": {
          "base_uri": "https://localhost:8080/"
        },
        "id": "7LnvaxUtGhf4",
        "outputId": "ad6cbd59-57a4-41e4-9e95-bca18f18b297"
      },
      "outputs": [
        {
          "name": "stdout",
          "output_type": "stream",
          "text": [
            "2\n"
          ]
        }
      ],
      "source": [
        "def linearSearch(arr,target):\n",
        "\n",
        " for i in range(len(arr)):\n",
        "  if target == arr[i]:\n",
        "    return i\n",
        " return -1\n",
        "\n",
        "arr4 = [5, 3, 8, 2, 7, 4]\n",
        "target = 8\n",
        "result9 = linearSearch(arr4,target)\n",
        "print(result9)\n"
      ]
    },
    {
      "cell_type": "markdown",
      "metadata": {
        "id": "fM4U1q8cHaor"
      },
      "source": [
        "Problem 28 Calculate the factorial of a given number."
      ]
    },
    {
      "cell_type": "code",
      "execution_count": 27,
      "metadata": {
        "colab": {
          "base_uri": "https://localhost:8080/"
        },
        "id": "cHkgYParHluq",
        "outputId": "b15ded02-c11a-4982-93d8-915949ae8add"
      },
      "outputs": [
        {
          "name": "stdout",
          "output_type": "stream",
          "text": [
            "factorial of 5 is:- 120\n"
          ]
        }
      ],
      "source": [
        "def factorial(n):\n",
        "  if n<=1:\n",
        "    return 1\n",
        "  else:\n",
        "    return n*factorial(n-1)\n",
        "\n",
        "n=5\n",
        "result10 = factorial(n)\n",
        "print(\"factorial of\",n,\"is:-\",result10)"
      ]
    },
    {
      "cell_type": "markdown",
      "metadata": {
        "id": "zsRWKY_7LdXW"
      },
      "source": [
        "Problem 29: Check if a given number is a prime number."
      ]
    },
    {
      "cell_type": "code",
      "execution_count": 28,
      "metadata": {
        "colab": {
          "base_uri": "https://localhost:8080/"
        },
        "id": "kTgXWZhFLGm2",
        "outputId": "7b9c4ae7-ed70-4e8b-91b0-4304c8261b65"
      },
      "outputs": [
        {
          "name": "stdout",
          "output_type": "stream",
          "text": [
            "True\n"
          ]
        }
      ],
      "source": [
        "num = 7\n",
        "\n",
        "if num > 1:\n",
        "\n",
        "    for i in range(2, (num//2)+1):\n",
        "        if (num % i) == 0:\n",
        "            print(False)\n",
        "            break\n",
        "    else:\n",
        "        print(True)\n",
        "else:\n",
        "    print(False)"
      ]
    },
    {
      "cell_type": "markdown",
      "metadata": {
        "id": "2KJNnUJpOIrq"
      },
      "source": [
        "Problem 30: Generate the Fibonacci series up to a given number n."
      ]
    },
    {
      "cell_type": "code",
      "execution_count": 29,
      "metadata": {
        "colab": {
          "base_uri": "https://localhost:8080/"
        },
        "id": "ES-8LhknOJ4N",
        "outputId": "d11d60cc-51d3-425c-b63d-a22e147039ed"
      },
      "outputs": [
        {
          "name": "stdout",
          "output_type": "stream",
          "text": [
            "0 1 1 2 3 5 8 13 "
          ]
        }
      ],
      "source": [
        "def print_fib(n):\n",
        "    if n < 1:\n",
        "        print(\"Invalid Number of terms\")\n",
        "        return\n",
        "\n",
        "    prev1 = 1\n",
        "    prev2 = 0\n",
        "\n",
        "\n",
        "    for i in range(1, n + 1):\n",
        "        if i > 2:\n",
        "            num = prev1 + prev2\n",
        "            prev2 = prev1\n",
        "            prev1 = num\n",
        "            print(num, end=\" \")\n",
        "\n",
        "        if i == 1:\n",
        "            print(prev2, end=\" \")\n",
        "        if i == 2:\n",
        "            print(prev1, end=\" \")\n",
        "\n",
        "\n",
        "n = 8\n",
        "\n",
        "\n",
        "print_fib(n)"
      ]
    },
    {
      "cell_type": "markdown",
      "metadata": {
        "id": "OyldVUWwRhbn"
      },
      "source": [
        "Problem 31: Calculate the power of a number using recursion."
      ]
    },
    {
      "cell_type": "code",
      "execution_count": 30,
      "metadata": {
        "colab": {
          "base_uri": "https://localhost:8080/"
        },
        "id": "lRiWr9EGRitP",
        "outputId": "012b5841-2ca1-4433-dbb6-67aa3b1d75a6"
      },
      "outputs": [
        {
          "data": {
            "text/plain": [
              "81"
            ]
          },
          "execution_count": 30,
          "metadata": {},
          "output_type": "execute_result"
        }
      ],
      "source": [
        "def power(n,k):\n",
        "  if k == 0:\n",
        "    return 1\n",
        "  else:\n",
        "    return n*power(n,k-1)\n",
        "\n",
        "base = 3\n",
        "exponent = 4\n",
        "power(base,exponent)"
      ]
    },
    {
      "cell_type": "markdown",
      "metadata": {
        "id": "7cXBDx2LUFXm"
      },
      "source": [
        "Problem 32: Reverse a given string."
      ]
    },
    {
      "cell_type": "code",
      "execution_count": 31,
      "metadata": {
        "colab": {
          "base_uri": "https://localhost:8080/",
          "height": 35
        },
        "id": "fqf3k-HzUGWm",
        "outputId": "33f3f754-0960-4447-e4dd-1f67ebf75817"
      },
      "outputs": [
        {
          "data": {
            "text/plain": [
              "'olleh'"
            ]
          },
          "execution_count": 31,
          "metadata": {},
          "output_type": "execute_result"
        }
      ],
      "source": [
        "def reverse(s):\n",
        "    str = \"\"\n",
        "    for i in s:\n",
        "        str = i + str\n",
        "    return str\n",
        "\n",
        "s = \"hello\"\n",
        "reverse(s)"
      ]
    }
  ],
  "metadata": {
    "colab": {
      "provenance": []
    },
    "kernelspec": {
      "display_name": "Python 3",
      "name": "python3"
    },
    "language_info": {
      "codemirror_mode": {
        "name": "ipython",
        "version": 3
      },
      "file_extension": ".py",
      "mimetype": "text/x-python",
      "name": "python",
      "nbconvert_exporter": "python",
      "pygments_lexer": "ipython3",
      "version": "3.12.2"
    }
  },
  "nbformat": 4,
  "nbformat_minor": 0
}
