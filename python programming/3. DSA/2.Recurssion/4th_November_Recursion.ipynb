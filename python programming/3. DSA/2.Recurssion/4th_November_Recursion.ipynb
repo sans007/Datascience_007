{
  "cells": [
    {
      "cell_type": "code",
      "execution_count": 2,
      "metadata": {
        "colab": {
          "base_uri": "https://localhost:8080/"
        },
        "id": "wja9SiL0bt2-",
        "outputId": "78462d6f-a51d-4af6-f12f-d0e10dc3b981"
      },
      "outputs": [
        {
          "name": "stdout",
          "output_type": "stream",
          "text": [
            "3\n"
          ]
        }
      ],
      "source": [
        "#Q.2 Given two strings word1 and word2, return the minimum number of operations required to convert word1 to word2.\n",
        "\n",
        "\n",
        "\n",
        "def min_num_op(str1, str2):\n",
        "    m = len(str1)\n",
        "    n = len(str2)\n",
        "    dp = [[0 for x in range(n + 1)] for x in range(m + 1)]\n",
        "\n",
        "\n",
        "    for i in range(m + 1):\n",
        "        for j in range(n + 1):\n",
        "\n",
        "            if i == 0:\n",
        "                dp[i][j] = j\n",
        "\n",
        "            elif j == 0:\n",
        "                dp[i][j] = i\n",
        "\n",
        "            elif str1[i-1] == str2[j-1]:\n",
        "                dp[i][j] = dp[i-1][j-1]\n",
        "\n",
        "            else:\n",
        "                dp[i][j] = 1 + min(dp[i][j-1], dp[i-1][j], dp[i-1][j-1])\n",
        "\n",
        "\n",
        "\n",
        "    return dp[m][n]\n",
        "\n",
        "result1 = min_num_op(\"horse\", \"ros\")\n",
        "print(result1)"
      ]
    },
    {
      "cell_type": "code",
      "execution_count": 3,
      "metadata": {
        "colab": {
          "base_uri": "https://localhost:8080/"
        },
        "id": "A6n7c7xE18iw",
        "outputId": "7766ee7f-f041-4248-de84-b1dd2b2083af"
      },
      "outputs": [
        {
          "name": "stdout",
          "output_type": "stream",
          "text": [
            "22\n"
          ]
        }
      ],
      "source": [
        "#Q. 3 Print the max value of the array [ 13, 1, -3, 22, 5].\n",
        "\n",
        "def maxarr(arr):\n",
        " n=arr[0]\n",
        "\n",
        " for i in arr:\n",
        "  if i>n:\n",
        "   n=i\n",
        "\n",
        " return n\n",
        "\n",
        "arr =  [ 13, 1, -3, 22, 5]\n",
        "result = maxarr(arr)\n",
        "print(result)"
      ]
    },
    {
      "cell_type": "code",
      "execution_count": 4,
      "metadata": {
        "colab": {
          "base_uri": "https://localhost:8080/"
        },
        "id": "CgsWnsVT8QYM",
        "outputId": "769e751b-37eb-45a8-d743-a51ec70af69e"
      },
      "outputs": [
        {
          "name": "stdout",
          "output_type": "stream",
          "text": [
            "120\n"
          ]
        }
      ],
      "source": [
        "# Q.4 Find the sum of the values of the array [92, 23, 15, -20, 10].\n",
        "\n",
        "def sumval(array):\n",
        " c=len(array)\n",
        " sum=0\n",
        " for i in range(c):\n",
        "  sum+=array[i]\n",
        " return sum\n",
        "\n",
        "array = [92, 23, 15, -20, 10]\n",
        "\n",
        "print(sumval(array))"
      ]
    },
    {
      "cell_type": "code",
      "execution_count": 5,
      "metadata": {
        "colab": {
          "base_uri": "https://localhost:8080/"
        },
        "id": "pV6FUlO9CIrN",
        "outputId": "a1eef836-0a94-43bd-cfeb-012b87e07e31"
      },
      "outputs": [
        {
          "name": "stdout",
          "output_type": "stream",
          "text": [
            "No, 134 is not armstrong number\n"
          ]
        }
      ],
      "source": [
        "#Q.5 Given a number n. Print if it is an armstrong number or not\n",
        "\n",
        "\n",
        "def armstrong(n):\n",
        "  a=len(str(n))\n",
        "  sum=0\n",
        "  temp = n\n",
        "  while temp > 0:\n",
        "   digit = temp % 10\n",
        "   sum += digit **a\n",
        "   temp = temp// 10\n",
        "\n",
        "\n",
        "  if n == sum:\n",
        "   print(\"Yes,\",n,\"is armstrong number\")\n",
        "  else:\n",
        "   print(\"No,\",n,\"is not armstrong number\")\n",
        "\n",
        "armstrong(134)\n",
        "\n"
      ]
    }
  ],
  "metadata": {
    "colab": {
      "provenance": []
    },
    "kernelspec": {
      "display_name": "Python 3",
      "name": "python3"
    },
    "language_info": {
      "name": "python"
    }
  },
  "nbformat": 4,
  "nbformat_minor": 0
}
