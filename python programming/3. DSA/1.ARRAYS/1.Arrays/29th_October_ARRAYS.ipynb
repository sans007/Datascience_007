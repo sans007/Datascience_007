{
 "cells": [
  {
   "cell_type": "code",
   "execution_count": 16,
   "metadata": {},
   "outputs": [
    {
     "name": "stdout",
     "output_type": "stream",
     "text": [
      "True\n"
     ]
    }
   ],
   "source": [
    "#1. Given an array, check if it contains any duplicates or not.\n",
    "\n",
    "# Searching Algorithms\n",
    "# time complexity: O(n2)\n",
    "# space complexity: O(n)\n",
    "\n",
    "def linearSearch(arr1):\n",
    "    # creating an external data structure[list[ to store the another arry]]\n",
    "    arrylist=[]\n",
    "    for i in range(len(arr1)):\n",
    "     if arr1[i]  in arrylist:\n",
    "        continue\n",
    "     count=0\n",
    "     for j in range(len(arr1)):\n",
    "      if arr1[j]==arr1[i]:\n",
    "       count+=1\n",
    "     if count>1:\n",
    "       arrylist.append(arr1[i])\n",
    "    \n",
    "\n",
    "    if len(arrylist)>0:\n",
    "      return 'True'\n",
    "    else:\n",
    "      return 'False'\n",
    "\n",
    "    \n",
    "\n",
    "\n",
    "# Driver code\n",
    "arr1 = [1, 2, 4, 5, 2, 9] \n",
    "result = linearSearch(arr1)\n",
    "print(result)"
   ]
  },
  {
   "cell_type": "code",
   "execution_count": 17,
   "metadata": {},
   "outputs": [
    {
     "name": "stdout",
     "output_type": "stream",
     "text": [
      "5 6 7 1 2 3 4 "
     ]
    }
   ],
   "source": [
    "#2. Given an array and an integer k, rotate the array to the right by k steps.\n",
    "\n",
    "\n",
    "# time complexity: O(n)\n",
    "# space complexity: O(1)\n",
    "\n",
    "def rotate(arr2,k,n):\n",
    " for i in range(0,n):\n",
    "        if i<k:\n",
    "            print(arr2[n+i-k],end=\" \");\n",
    "        else:\n",
    "            print(arr2[i-k],end=\" \");\n",
    "\n",
    "\n",
    "# Driver code\n",
    "arr2 = [1, 2, 3, 4, 5, 6, 7] \n",
    "k = 3\n",
    "n=len(arr2)\n",
    "rotate(arr2,k,n)\n",
    "\n"
   ]
  },
  {
   "cell_type": "code",
   "execution_count": 19,
   "metadata": {},
   "outputs": [
    {
     "name": "stdout",
     "output_type": "stream",
     "text": [
      "[12, 9, 7, 5, 4, 2]\n"
     ]
    }
   ],
   "source": [
    "#3. Reverse the given array in-place, means without using any extra data structure.\n",
    "\n",
    "\n",
    "# time complexity: O(n)\n",
    "# space complexity: O(1)\n",
    "\n",
    "def reverse(arr3,start,end):\n",
    " while start<end:\n",
    "  temp=arr3[start]\n",
    "  arr3[start]= arr3[end]\n",
    "  arr3[end]=temp\n",
    "  start +=1\n",
    "  end -=1\n",
    " return arr3\n",
    "\n",
    "arr3 = [2, 4, 5, 7, 9, 12]\n",
    "result=reverse(arr3,0,5)\n",
    "print(result)"
   ]
  },
  {
   "cell_type": "code",
   "execution_count": 20,
   "metadata": {},
   "outputs": [
    {
     "name": "stdout",
     "output_type": "stream",
     "text": [
      "maximum element in array = 20\n"
     ]
    }
   ],
   "source": [
    "#4. Given an array of integers, find the maximum element in an array\n",
    "\n",
    "# time complexity: O(n)\n",
    "# space complexity: O(1)\n",
    "\n",
    "def findmax(arr4):\n",
    " a=arr4[0]\n",
    " for i in arr4:\n",
    "  if i>a:\n",
    "    a=i\n",
    "\n",
    "arr4 = [10, 5, 20, 8, 15]\n",
    "print('maximum element in array =',a)"
   ]
  },
  {
   "cell_type": "code",
   "execution_count": 21,
   "metadata": {},
   "outputs": [
    {
     "name": "stdout",
     "output_type": "stream",
     "text": [
      "[1, 2, 3, 4, 5]\n"
     ]
    }
   ],
   "source": [
    "# 5. Given a sorted array, remove the duplicate element without using any extra data structure.\n",
    "\n",
    "# time complexity: O(n)\n",
    "# space complexity: O(1)\n",
    "\n",
    "def removedup(arr5):\n",
    "    n=len(arr5)\n",
    "    if(n==0 or n==1):\n",
    "        return arr5\n",
    "    \n",
    "    c=0\n",
    "    for i in range(0,n-1):\n",
    "        if arr5[i]!=arr5[i+1]:\n",
    "            arr5[c]=arr5[i]\n",
    "            c+=1\n",
    "    arr5[c]=arr5[n-1]\n",
    "    return arr5[0:c+1]\n",
    "    \n",
    "\n",
    "arr5 = [1, 1, 2, 2, 2, 3, 3, 4, 4, 4, 5, 5]    \n",
    "result = removedup(arr5)\n",
    "print(result)\n"
   ]
  }
 ],
 "metadata": {
  "kernelspec": {
   "display_name": "Python 3",
   "language": "python",
   "name": "python3"
  },
  "language_info": {
   "codemirror_mode": {
    "name": "ipython",
    "version": 3
   },
   "file_extension": ".py",
   "mimetype": "text/x-python",
   "name": "python",
   "nbconvert_exporter": "python",
   "pygments_lexer": "ipython3",
   "version": "3.12.2"
  }
 },
 "nbformat": 4,
 "nbformat_minor": 2
}
