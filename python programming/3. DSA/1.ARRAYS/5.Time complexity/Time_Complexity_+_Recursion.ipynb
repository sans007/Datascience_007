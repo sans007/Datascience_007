{
  "cells": [
    {
      "cell_type": "markdown",
      "metadata": {
        "id": "MlOxck9bHRGB"
      },
      "source": [
        "Problem 1 :\n",
        "\n",
        "def quicksort(arr):\n",
        "\n",
        "if len(arr) <= 1:\n",
        "\n",
        "return arr\n",
        "\n",
        "pivot = arr[len(arr) // 2]\n",
        "\n",
        "left = [x for x in arr if x < pivot]\n",
        "\n",
        "middle = [x for x in arr if x == pivot]\n",
        "\n",
        "right = [x for x in arr if x > pivot]\n",
        "\n",
        "return quicksort(left) + middle + quicksort(right)\n",
        "\n",
        "\n",
        "\n",
        "<br>Time Complexity - O(n^2)"
      ]
    },
    {
      "cell_type": "markdown",
      "metadata": {
        "id": "xD6jZ1qoI_Ei"
      },
      "source": [
        "<p>Problem 2 :<br><br>def nested_loop_example(matrix):<br>&nbsp; rows, cols = len(matrix), len(matrix[0])<br>&nbsp; total = 0<br>&nbsp; for i in range(rows):<br>&nbsp; &nbsp; &nbsp;for j in range(cols):<br>&nbsp; &nbsp; &nbsp; &nbsp; total += matrix[i][j]<br>&nbsp; return total</p>\n",
        "\n",
        "<br>&nbsp;&nbsp;Time Complexity- O(n^2)"
      ]
    },
    {
      "cell_type": "markdown",
      "metadata": {
        "id": "-5wlhxtFOW7h"
      },
      "source": [
        "<p>Problem 3 :<br>&nbsp;</p>\n",
        "<p>def example_function(arr):<br>&nbsp; result = 0<br>&nbsp; for element in arr:<br>&nbsp; &nbsp; result += element<br>&nbsp; return result</p>\n",
        "<p><br>Time Complexity - O(n)</p>"
      ]
    },
    {
      "cell_type": "markdown",
      "metadata": {
        "id": "ptqKNXhZOkKd"
      },
      "source": [
        "<p>Problem 4 :</p>\n",
        "<p><br>def longest_increasing_subsequence(nums):<br>&nbsp; &nbsp;n = len(nums)<br>&nbsp; &nbsp;lis = [1] * n<br>&nbsp; &nbsp;for i in range(1, n):<br>&nbsp; &nbsp; &nbsp;for j in range(0, i):<br>&nbsp; &nbsp; &nbsp; &nbsp;if nums[i] &gt; nums[j] and lis[i] &lt; lis[j] + 1:<br>&nbsp; &nbsp; &nbsp; &nbsp; &nbsp; lis[i] = lis[j] + 1<br>&nbsp; &nbsp;return max(lis)</p>\n",
        "<p><br>&nbsp;Time Complexity- O(n^2)</p>"
      ]
    },
    {
      "cell_type": "markdown",
      "metadata": {
        "id": "4aG5nC8SPdpi"
      },
      "source": [
        "<p>Problem 5 :<br>def mysterious_function(arr):<br>&nbsp; n = len(arr)<br>&nbsp; result = 0<br>&nbsp; for i in range(n):<br>&nbsp; &nbsp; for j in range(i, n):<br>&nbsp; &nbsp; &nbsp; &nbsp;result += arr[i] * arr[j]<br>&nbsp; return result</p>\n",
        "<p><br>&nbsp;Time Complexity- O(n^2)</p>"
      ]
    },
    {
      "cell_type": "markdown",
      "metadata": {
        "id": "Vxc8p9DRfaLk"
      },
      "source": [
        "Problem 6 : Sum of Digits\n",
        "\n",
        "Write a recursive function to calculate the sum of digits of a given positive integer.\n",
        "sum_of_digits(123) -> 6"
      ]
    },
    {
      "cell_type": "code",
      "execution_count": 1,
      "metadata": {
        "colab": {
          "base_uri": "https://localhost:8080/"
        },
        "id": "8Q56sRsefUc7",
        "outputId": "2c4573e5-220d-4307-e084-e17e085de573"
      },
      "outputs": [
        {
          "name": "stdout",
          "output_type": "stream",
          "text": [
            "6\n"
          ]
        }
      ],
      "source": [
        "def sum_of_digits(n):\n",
        "  sum = 0\n",
        "  if n<10:\n",
        "    return n\n",
        "\n",
        "  sum += n%10\n",
        "  n = n//10\n",
        "  return(sum + sum_of_digits(n))\n",
        "\n",
        "\n",
        "\n",
        "print(sum_of_digits(123))"
      ]
    },
    {
      "cell_type": "markdown",
      "metadata": {
        "id": "ByIXdo7qjOgl"
      },
      "source": [
        "Problem 7: Fibonacci Series\n",
        "\n",
        "Write a recursive function to generate the first n numbers of the Fibonacci series.\n",
        "fibonacci_series(6) -> [0, 1, 1, 2, 3, 5]"
      ]
    },
    {
      "cell_type": "code",
      "execution_count": 2,
      "metadata": {
        "colab": {
          "base_uri": "https://localhost:8080/"
        },
        "id": "bflgjvFwjOGh",
        "outputId": "11b5224c-7216-4629-f3d0-66bdbcd5d744"
      },
      "outputs": [
        {
          "name": "stdout",
          "output_type": "stream",
          "text": [
            "Fibonacci series:\n",
            "0 1 1 2 3 5 "
          ]
        }
      ],
      "source": [
        "def recursive_fibonacci(n):\n",
        "  if n <= 1:\n",
        "      return n\n",
        "  else:\n",
        "      return(recursive_fibonacci(n-1) + recursive_fibonacci(n-2))\n",
        "\n",
        "n_terms = 6\n",
        "\n",
        "\n",
        "if n_terms <= 0:\n",
        "  print(\"Invalid input ! Please input a positive value\")\n",
        "else:\n",
        "  print(\"Fibonacci series:\")\n",
        "for i in range(n_terms):\n",
        "    print(recursive_fibonacci(i),end=\" \")"
      ]
    },
    {
      "cell_type": "markdown",
      "metadata": {
        "id": "J14TsGMKm3NA"
      },
      "source": [
        "Problem 8 : Subset Sum\n",
        "\n",
        "Given a set of positive integers and a target sum, write a recursive function to determine if there exists a subset\n",
        "of the integers that adds up to the target sum.\n",
        "subset_sum([3, 34, 4, 12, 5, 2], 9) -> True"
      ]
    },
    {
      "cell_type": "code",
      "execution_count": 3,
      "metadata": {
        "colab": {
          "base_uri": "https://localhost:8080/"
        },
        "id": "_OrCO3iDm5HI",
        "outputId": "5e6dc252-1b05-4568-885c-8fa84d546511"
      },
      "outputs": [
        {
          "data": {
            "text/plain": [
              "True"
            ]
          },
          "execution_count": 3,
          "metadata": {},
          "output_type": "execute_result"
        }
      ],
      "source": [
        "def Subset_Sum(arr,n,sum):\n",
        "    if (sum == 0):\n",
        "        return True\n",
        "    if (n == 0):\n",
        "        return False\n",
        "\n",
        "    if (arr[n - 1] > sum):\n",
        "        return Subset_Sum(arr, n - 1, sum)\n",
        "\n",
        "    return Subset_Sum(arr, n-1, sum) or Subset_Sum(arr, n-1, sum-arr[n-1])\n",
        "\n",
        "arr = [3, 34, 4, 12, 5, 2]\n",
        "n = len(arr)\n",
        "Subset_Sum(arr,n,9)"
      ]
    },
    {
      "cell_type": "markdown",
      "metadata": {
        "id": "KVn4KO0tEYF2"
      },
      "source": [
        "Problem 9: Word Break\n",
        "\n",
        "Given a non-empty string and a dictionary of words, write a recursive function to determine if the string can be\n",
        "segmented into a space-separated sequence of dictionary words.\n",
        "word_break( leetcode , [ leet , code ]) -> True"
      ]
    },
    {
      "cell_type": "code",
      "execution_count": 4,
      "metadata": {
        "colab": {
          "base_uri": "https://localhost:8080/"
        },
        "id": "I6UyZPsV7CLW",
        "outputId": "83362476-edcb-409b-b4f9-a1d15509532c"
      },
      "outputs": [
        {
          "name": "stdout",
          "output_type": "stream",
          "text": [
            "Output: True\n"
          ]
        }
      ],
      "source": [
        "def word_Break(word,wordList):\n",
        "    wordLen = len(word)\n",
        "    if wordLen == 0:\n",
        "        return True\n",
        "\n",
        "    for i in range(1, wordLen + 1):\n",
        "        prefix = word[:i]\n",
        "        if prefix in wordList and word_Break(word[i:], wordList):\n",
        "            return True\n",
        "\n",
        "    return False\n",
        "\n",
        "\n",
        "wordList = [ \"leet\" , \"code\" ]\n",
        "result = word_Break( \"leetcode\" , wordList)\n",
        "print(\"Output:\", result)\n"
      ]
    }
  ],
  "metadata": {
    "colab": {
      "provenance": []
    },
    "kernelspec": {
      "display_name": "Python 3",
      "name": "python3"
    },
    "language_info": {
      "codemirror_mode": {
        "name": "ipython",
        "version": 3
      },
      "file_extension": ".py",
      "mimetype": "text/x-python",
      "name": "python",
      "nbconvert_exporter": "python",
      "pygments_lexer": "ipython3",
      "version": "3.12.2"
    }
  },
  "nbformat": 4,
  "nbformat_minor": 0
}
