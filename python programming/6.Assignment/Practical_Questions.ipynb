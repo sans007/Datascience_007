{
  "nbformat": 4,
  "nbformat_minor": 0,
  "metadata": {
    "colab": {
      "provenance": []
    },
    "kernelspec": {
      "name": "python3",
      "display_name": "Python 3"
    },
    "language_info": {
      "name": "python"
    }
  },
  "cells": [
    {
      "cell_type": "markdown",
      "source": [
        "Question 1.3.\n",
        "name = [\"Mohan\", \"dash\", \"karam\", \"chandra\",\"gandhi\",\"Bapu\"]\n",
        "\n",
        "do the following operations in this list;\n",
        "\n",
        "a) add an element \"freedom_fighter\" in this list at the 0th index."
      ],
      "metadata": {
        "id": "oCCfvSnz1vqA"
      }
    },
    {
      "cell_type": "code",
      "source": [
        "name = [\"Mohan\", \"dash\", \"karam\", \"chandra\",\"gandhi\",\"Bapu\"]\n",
        "\n",
        "name.insert(0,\"freedom_fighter\")\n",
        "\n",
        "print(name)"
      ],
      "metadata": {
        "colab": {
          "base_uri": "https://localhost:8080/"
        },
        "id": "zExdd146oCZH",
        "outputId": "824a1529-c1ad-4c1e-ddae-0bf7c8e6f58a"
      },
      "execution_count": 1,
      "outputs": [
        {
          "output_type": "stream",
          "name": "stdout",
          "text": [
            "['freedom_fighter', 'Mohan', 'dash', 'karam', 'chandra', 'gandhi', 'Bapu']\n"
          ]
        }
      ]
    },
    {
      "cell_type": "markdown",
      "source": [
        "b) find the output of the following ,and explain how?"
      ],
      "metadata": {
        "id": "afHTp3xO1-57"
      }
    },
    {
      "cell_type": "code",
      "execution_count": 2,
      "metadata": {
        "id": "onQOziOvXjOp",
        "colab": {
          "base_uri": "https://localhost:8080/"
        },
        "outputId": "d5630739-4323-43a8-c134-da2a800069ba"
      },
      "outputs": [
        {
          "output_type": "stream",
          "name": "stdout",
          "text": [
            "8\n"
          ]
        }
      ],
      "source": [
        "name = [\"freedomFighter\",\"Bapuji\",\"MOhan\", \"dash\", \"karam\",\"chandra\",\"gandhi\"]\n",
        "length1=len((name[-len(name)+1:-1:2]))\n",
        "length2=len((name[-len(name)+1:-1]))\n",
        "print(length1+length2)\n"
      ]
    },
    {
      "cell_type": "markdown",
      "source": [
        "c) add two more elements in the name [\"NetaJi\",\"Bose\"] at the end of the list."
      ],
      "metadata": {
        "id": "E0a2RGk72Ekz"
      }
    },
    {
      "cell_type": "code",
      "source": [
        "words = [\"NetaJi\",\"Bose\"]\n",
        "name.extend(words)\n",
        "print(name)"
      ],
      "metadata": {
        "colab": {
          "base_uri": "https://localhost:8080/"
        },
        "id": "TPT-HCYqpHIx",
        "outputId": "f397918d-3da6-4e81-8b10-38caecc21dc7"
      },
      "execution_count": 3,
      "outputs": [
        {
          "output_type": "stream",
          "name": "stdout",
          "text": [
            "['freedomFighter', 'Bapuji', 'MOhan', 'dash', 'karam', 'chandra', 'gandhi', 'NetaJi', 'Bose']\n"
          ]
        }
      ]
    },
    {
      "cell_type": "markdown",
      "source": [
        "d) what will be the value of temp:\n",
        "\n",
        "name = [\"Bapuji\", \"dash\", \"karam\", \"chandra\",\"gandi\",\"Mohan\"]\n",
        "\n",
        "temp=name[-1]\n",
        "\n",
        "name[-1]=name[0]\n",
        "\n",
        "name[0]=temp\n",
        "\n",
        "print(name)"
      ],
      "metadata": {
        "id": "NqSsw06n2K6V"
      }
    },
    {
      "cell_type": "code",
      "source": [
        "name = [\"Bapuji\", \"dash\", \"karam\", \"chandra\",\"gandi\",\"Mohan\"]\n",
        "temp=name[-1]\n",
        "name[-1]=name[0]\n",
        "name[0]=temp\n",
        "print(name)"
      ],
      "metadata": {
        "colab": {
          "base_uri": "https://localhost:8080/"
        },
        "id": "_h9k16dJp-j3",
        "outputId": "7e502355-d3ce-4231-bbc8-d7165a8f2b4c"
      },
      "execution_count": 4,
      "outputs": [
        {
          "output_type": "stream",
          "name": "stdout",
          "text": [
            "['Mohan', 'dash', 'karam', 'chandra', 'gandi', 'Bapuji']\n"
          ]
        }
      ]
    },
    {
      "cell_type": "markdown",
      "source": [
        "Question 1.4.Find the output of the following.\n",
        "\n",
        "animal = ['Human','cat','mat','cat','rat','Human', 'Lion']\n",
        "\n",
        "print(animal.count('Human'))\n",
        "\n",
        "print(animal.index('rat'))\n",
        "\n",
        "print(len(animal))"
      ],
      "metadata": {
        "id": "JQWkaVNp2fLq"
      }
    },
    {
      "cell_type": "code",
      "source": [
        "name = [\"Bapuji\", \"dash\", \"karam\", \"chandra\",\"gandi\",\"Mohan\"]\n",
        "name.count(\"Bapuji\")\n",
        "name.index(\"Mohan\")"
      ],
      "metadata": {
        "colab": {
          "base_uri": "https://localhost:8080/"
        },
        "id": "djjzfBVUqtC0",
        "outputId": "f79c91b4-50ab-4987-9ee0-f6707e2a9cb2"
      },
      "execution_count": 5,
      "outputs": [
        {
          "output_type": "execute_result",
          "data": {
            "text/plain": [
              "5"
            ]
          },
          "metadata": {},
          "execution_count": 5
        }
      ]
    },
    {
      "cell_type": "markdown",
      "source": [
        "Question 1.5. tuple1=(10,20,\"Apple\",3.4,'a',[\"master\",\"ji\"],(\"sita\",\"geeta\",22),[{\"roll_no\"N1},\n",
        "{\"name\"N\"Navneet\"}])\n",
        "\n",
        "a)print(len(tuTle1)@\n",
        "\n",
        "b)print(tuTle1[-1][-1][\"name\"]@\n",
        "\n",
        "c)fetch the value of roll_no from this tuple.\n",
        "\n",
        "d)print(tuTle1[-3][1]@\n",
        "\n",
        "e)fetch the element \"22\" from this tuple."
      ],
      "metadata": {
        "id": "skh8L3oA2w6w"
      }
    },
    {
      "cell_type": "code",
      "source": [
        "tuple1=(10,20,\"Apple\",3.4,'a',[\"master\",\"ji\"],(\"sita\",\"geeta\",22),[{\"roll_no\":1} , {\"name\":\"Navneet\"}])\n",
        "print(len(tuple1))\n",
        "print(tuple1[-1][-1][\"name\"])\n",
        "print(tuple1[-1][0][\"roll_no\"])\n",
        "print(tuple1[-3][1])\n",
        "print(tuple1[-2][2])"
      ],
      "metadata": {
        "colab": {
          "base_uri": "https://localhost:8080/"
        },
        "id": "k5RVPlpsukGf",
        "outputId": "dd1e1ac5-fbf2-4d05-ca09-e6d8cee69d28"
      },
      "execution_count": 6,
      "outputs": [
        {
          "output_type": "stream",
          "name": "stdout",
          "text": [
            "8\n",
            "Navneet\n",
            "1\n",
            "ji\n",
            "22\n"
          ]
        }
      ]
    },
    {
      "cell_type": "markdown",
      "source": [
        "<br>1.6. Write a program to display the appropriate message as per the color of signal(RED-Stop/Yellow-Stay/\n",
        "Green-Go) at the road crossing."
      ],
      "metadata": {
        "id": "HcXDnP9eyBe9"
      }
    },
    {
      "cell_type": "code",
      "source": [
        "\n",
        "def traffic_signal_message(color):\n",
        "    if color.lower() == \"red\":\n",
        "        return \"Stop\"\n",
        "    elif color.lower() == \"yellow\":\n",
        "        return \"Stay\"\n",
        "    elif color.lower() == \"green\":\n",
        "        return \"Go\"\n",
        "    else:\n",
        "        return \"Invalid color\"\n",
        "\n",
        "\n",
        "signal_color = input(\"Enter the color of the traffic signal (Red/Yellow/Green): \")\n",
        "\n",
        "\n",
        "message = traffic_signal_message(signal_color)\n",
        "print(message)\n"
      ],
      "metadata": {
        "colab": {
          "base_uri": "https://localhost:8080/"
        },
        "id": "g1sDvZdywQ4l",
        "outputId": "a89a86ed-4376-48d9-ce21-c4552e4059f3"
      },
      "execution_count": 7,
      "outputs": [
        {
          "output_type": "stream",
          "name": "stdout",
          "text": [
            "Enter the color of the traffic signal (Red/Yellow/Green): red\n",
            "Stop\n"
          ]
        }
      ]
    },
    {
      "cell_type": "markdown",
      "source": [
        "<br>1.7. Write a program to create a simple calculator performing only four basic operations(+,-,/,*) ."
      ],
      "metadata": {
        "id": "zJW_GDw0EIXf"
      }
    },
    {
      "cell_type": "code",
      "source": [
        "def add(x, y):\n",
        "    return x + y\n",
        "\n",
        "def subtract(x, y):\n",
        "    return x - y\n",
        "\n",
        "def multiply(x, y):\n",
        "    return x * y\n",
        "\n",
        "def divide(x, y):\n",
        "    if y == 0:\n",
        "        return \"Error! Division by zero.\"\n",
        "    else:\n",
        "        return x / y\n",
        "\n",
        "def calculator():\n",
        "    print(\"Select operation:\")\n",
        "    print(\"1. Add\")\n",
        "    print(\"2. Subtract\")\n",
        "    print(\"3. Multiply\")\n",
        "    print(\"4. Divide\")\n",
        "\n",
        "    choice = input(\"Enter choice(1/2/3/4): \")\n",
        "\n",
        "    if choice in ['1', '2', '3', '4']:\n",
        "        num1 = float(input(\"Enter first number: \"))\n",
        "        num2 = float(input(\"Enter second number: \"))\n",
        "\n",
        "        if choice == '1':\n",
        "            print(f\"{num1} + {num2} = {add(num1, num2)}\")\n",
        "\n",
        "        elif choice == '2':\n",
        "            print(f\"{num1} - {num2} = {subtract(num1, num2)}\")\n",
        "\n",
        "        elif choice == '3':\n",
        "            print(f\"{num1} * {num2} = {multiply(num1, num2)}\")\n",
        "\n",
        "        elif choice == '4':\n",
        "            print(f\"{num1} / {num2} = {divide(num1, num2)}\")\n",
        "\n",
        "    else:\n",
        "        print(\"Invalid Input\")\n",
        "\n",
        "\n",
        "calculator()\n"
      ],
      "metadata": {
        "colab": {
          "base_uri": "https://localhost:8080/"
        },
        "id": "sw5XYr3LCWwG",
        "outputId": "ec16b7a3-c0d6-47ad-f1d5-582497f6f4b8"
      },
      "execution_count": 8,
      "outputs": [
        {
          "output_type": "stream",
          "name": "stdout",
          "text": [
            "Select operation:\n",
            "1. Add\n",
            "2. Subtract\n",
            "3. Multiply\n",
            "4. Divide\n",
            "Enter choice(1/2/3/4): 2\n",
            "Enter first number: 6\n",
            "Enter second number: 5\n",
            "6.0 - 5.0 = 1.0\n"
          ]
        }
      ]
    },
    {
      "cell_type": "markdown",
      "source": [
        "<br>1.8. Write a program to find the larger of the three pre-specified numbers using ternary operators."
      ],
      "metadata": {
        "id": "QleFn4IuEL4f"
      }
    },
    {
      "cell_type": "code",
      "source": [
        "\n",
        "a = 10\n",
        "b = 20\n",
        "c = 15\n",
        "\n",
        "\n",
        "def largest():\n",
        "    if (a > b and a > c):\n",
        "     return a\n",
        "    elif (b > a and b> c):\n",
        "     return b\n",
        "    else:\n",
        "     return c\n",
        "\n",
        "\n",
        "largest_number = largest()\n",
        "print(largest_number)\n",
        "\n",
        "\n"
      ],
      "metadata": {
        "colab": {
          "base_uri": "https://localhost:8080/"
        },
        "id": "RjhHozRNERLW",
        "outputId": "ec40fd31-1610-46cf-96e8-d2fe4329de28"
      },
      "execution_count": 9,
      "outputs": [
        {
          "output_type": "stream",
          "name": "stdout",
          "text": [
            "20\n"
          ]
        }
      ]
    },
    {
      "cell_type": "markdown",
      "source": [
        "1.9. Write a program to find the factors of a whole number using a while loop."
      ],
      "metadata": {
        "id": "b0hEsGPtFXof"
      }
    },
    {
      "cell_type": "code",
      "source": [
        "def factors(num):\n",
        "    i = 1\n",
        "    factors = []\n",
        "    while i <= num:\n",
        "        if num % i == 0:\n",
        "            factors.append(i)\n",
        "        i += 1\n",
        "    return factors\n",
        "\n",
        "\n",
        "number = int(input(\"Enter a number: \"))\n",
        "result = factors(number)\n",
        "print(\"Factors of\", number, \"are:\", result)"
      ],
      "metadata": {
        "colab": {
          "base_uri": "https://localhost:8080/"
        },
        "id": "8ypjt-OPFYtG",
        "outputId": "f4f10001-393d-413f-9eb7-82f5c5b573cb"
      },
      "execution_count": 10,
      "outputs": [
        {
          "output_type": "stream",
          "name": "stdout",
          "text": [
            "Enter a number: 6\n",
            "Factors of 6 are: [1, 2, 3, 6]\n"
          ]
        }
      ]
    },
    {
      "cell_type": "markdown",
      "source": [
        "<br>1.10. Write a program to find the sum of all the positive numbers entered by the user. As soon as the user\n",
        "enters a negative number, stop taking in any further input from the user and display the sum ."
      ],
      "metadata": {
        "id": "AImzwJs5Iren"
      }
    },
    {
      "cell_type": "code",
      "source": [
        "def sum_positive_numbers():\n",
        "    sum = 0\n",
        "    num = int(input(\"Enter a positive number (or negative to stop): \"))\n",
        "    while num >= 0:\n",
        "        sum += num\n",
        "        num = int(input(\"Enter a positive number (or negative to stop): \"))\n",
        "    return sum\n",
        "\n",
        "\n",
        "result = sum_positive_numbers()\n",
        "print(\"Sum of positive numbers:\", result)"
      ],
      "metadata": {
        "colab": {
          "base_uri": "https://localhost:8080/"
        },
        "id": "xbmSS_9BIq1T",
        "outputId": "32441255-d33b-4443-9a3c-def46f8f81d7"
      },
      "execution_count": 11,
      "outputs": [
        {
          "output_type": "stream",
          "name": "stdout",
          "text": [
            "Enter a positive number (or negative to stop): -4\n",
            "Sum of positive numbers: 0\n"
          ]
        }
      ]
    },
    {
      "cell_type": "markdown",
      "source": [
        "<br>1.11. Write a program to find prime numbers between 2 to 100 using nested for loops."
      ],
      "metadata": {
        "id": "8CXmzrP5J5ET"
      }
    },
    {
      "cell_type": "code",
      "source": [
        "\n",
        "primes = []\n",
        "\n",
        "\n",
        "for num in range(2, 101):\n",
        "    is_prime = True\n",
        "\n",
        "    for i in range(2, int(num ** 0.5) + 1):\n",
        "        if num % i == 0:\n",
        "            is_prime = False\n",
        "            break\n",
        "\n",
        "    if is_prime:\n",
        "        primes.append(num)\n",
        "\n",
        "\n",
        "print(\"Prime numbers between 2 and 100 are:\", primes)\n"
      ],
      "metadata": {
        "colab": {
          "base_uri": "https://localhost:8080/"
        },
        "id": "_sGbbfiOJ8iK",
        "outputId": "f32892fc-3733-44c2-e430-b56a86c33bbb"
      },
      "execution_count": 12,
      "outputs": [
        {
          "output_type": "stream",
          "name": "stdout",
          "text": [
            "Prime numbers between 2 and 100 are: [2, 3, 5, 7, 11, 13, 17, 19, 23, 29, 31, 37, 41, 43, 47, 53, 59, 61, 67, 71, 73, 79, 83, 89, 97]\n"
          ]
        }
      ]
    },
    {
      "cell_type": "markdown",
      "source": [
        "<br>1.12. Write the programs for the following? Accept the marks of the student in five major subjects and display the same?\n",
        "? Calculate the sum of the marks of all subjects.Divide the total marks by number of subjects (i.e. 5), calculate\n",
        "percentage = total marks/5 and display the percentage?"
      ],
      "metadata": {
        "id": "y8LNbhA1NkP9"
      }
    },
    {
      "cell_type": "code",
      "source": [
        "\n",
        "def grade_calculator():\n",
        "\n",
        "  total_marks = float(input(\"Enter the total marks: \"))\n",
        "  sub = int(input(\"Enter the number of subjects: \"))\n",
        "  percentage = total_marks / sub\n",
        "\n",
        "  if percentage > 85 :\n",
        "    return \"A\"\n",
        "  elif percentage >75 and percentage <= 85:\n",
        "    return \"B\"\n",
        "  elif percentage > 50 and percentage <= 75:\n",
        "    return \"c\"\n",
        "  elif percentage > 30 and percentage <= 50:\n",
        "    return \"D\"\n",
        "  else:\n",
        "    return \"reappear\"\n",
        "\n",
        "print(grade_calculator())\n"
      ],
      "metadata": {
        "colab": {
          "base_uri": "https://localhost:8080/"
        },
        "id": "XLjfum5VSZ1v",
        "outputId": "c39df104-452e-4b1d-8441-1ef78469d3a3"
      },
      "execution_count": 13,
      "outputs": [
        {
          "output_type": "stream",
          "name": "stdout",
          "text": [
            "Enter the total marks: 456\n",
            "Enter the number of subjects: 5\n",
            "A\n"
          ]
        }
      ]
    },
    {
      "cell_type": "markdown",
      "source": [
        "<br>1.13. Write a program for VIBGYOR Spectrum based on their Wavelength using.\n",
        "Wavelength Range:"
      ],
      "metadata": {
        "id": "6gIkZzVXSsgF"
      }
    },
    {
      "cell_type": "code",
      "source": [
        "def VIBGYOR(wavelength):\n",
        "    if 400.0 < wavelength <= 440.0:\n",
        "        return \"Violet\"\n",
        "    elif 440.0 < wavelength <= 460.0:\n",
        "        return \"Indigo\"\n",
        "    elif 460.0 < wavelength <= 500.0:\n",
        "        return \"Blue\"\n",
        "    elif 500.0 < wavelength <= 570.0:\n",
        "        return \"Green\"\n",
        "    elif 570.0 < wavelength <= 590.0:\n",
        "        return \"Yellow\"\n",
        "    elif 590.0 < wavelength <= 620.0:\n",
        "        return \"Orange\"\n",
        "    elif 620.0 < wavelength <= 720.0:\n",
        "        return \"Red\"\n",
        "    else:\n",
        "        return \"Invalid wavelength\"\n",
        "\n",
        "\n",
        "wavelength = float(input(\"Enter the wavelength: \"))\n",
        "\n",
        "VIBGYOR_Spectrum = VIBGYOR(wavelength)\n",
        "print(VIBGYOR_Spectrum)\n"
      ],
      "metadata": {
        "colab": {
          "base_uri": "https://localhost:8080/"
        },
        "id": "TZrtTHXJbO1u",
        "outputId": "270ee186-9f33-4bbd-c4fb-d9d9f05013c7"
      },
      "execution_count": 14,
      "outputs": [
        {
          "output_type": "stream",
          "name": "stdout",
          "text": [
            "Enter the wavelength: 569\n",
            "Green\n"
          ]
        }
      ]
    },
    {
      "cell_type": "markdown",
      "source": [
        "2. Design and implement a Python program for managing student information using object-oriented\n",
        "principles. Create a class called `Student` with encapsulated attributes for name, age, and roll number.\n",
        "Implement getter and setter methods for these attributes. Additionally, provide methods to display student\n",
        "information and update student details."
      ],
      "metadata": {
        "id": "BKWT2ozX3Iut"
      }
    },
    {
      "cell_type": "code",
      "source": [
        "class Student:\n",
        "    def __init__(self, name, age, roll_number):\n",
        "        self.__name = name\n",
        "        self.__age = age\n",
        "        self.__roll_number = roll_number\n",
        "\n",
        "\n",
        "    def get_name(self):\n",
        "        return self.__name\n",
        "\n",
        "    def get_age(self):\n",
        "        return self.__age\n",
        "\n",
        "    def get_roll_number(self):\n",
        "        return self.__roll_number\n",
        "\n",
        "\n",
        "    def set_name(self, name):\n",
        "        self.__name = name\n",
        "\n",
        "    def set_age(self, age):\n",
        "        self.__age = age\n",
        "\n",
        "    def set_roll_number(self, roll_number):\n",
        "        self.__roll_number = roll_number\n",
        "\n",
        "\n",
        "    def display_info(self):\n",
        "        print(f\"Name: {self.__name}, Age: {self.__age}, Roll Number: {self.__roll_number}\")\n",
        "\n",
        "\n",
        "    def update_details(self, name, age, roll_number):\n",
        "        self.__name = name\n",
        "        self.__age = age\n",
        "        self.__roll_number = roll_number\n",
        "\n",
        "\n",
        "if __name__ == \"__main__\":\n",
        "\n",
        "    student1 = Student(\"messi\", 20, \"2056\")\n",
        "    student2 = Student(\"bishwa\", 21, \"1245\")\n",
        "\n",
        "\n",
        "    print(\"Initial Information:\")\n",
        "    student1.display_info()\n",
        "    student2.display_info()\n",
        "\n",
        "    student1.update_details(\"lionerdo messi\", 21, \"4567\")\n",
        "\n",
        "\n",
        "    print(\"\\nUpdated Information:\")\n",
        "    student1.display_info()\n",
        "    student2.display_info()\n",
        "\n",
        "\n",
        "    print(\"\\nGetter and Setter Methods:\")\n",
        "    print(f\"Name of student1: {student1.get_name()}\")\n",
        "    print(f\"Age of student1: {student1.get_age()}\")\n",
        "    print(f\"Roll Number of student1: {student1.get_roll_number()}\")\n",
        "\n",
        "\n",
        "    student1.set_age(22)\n",
        "    print(f\"\\nUpdated Age of student1: {student1.get_age()}\")\n"
      ],
      "metadata": {
        "colab": {
          "base_uri": "https://localhost:8080/"
        },
        "id": "linifzXBrpH7",
        "outputId": "d6024aa8-287a-4302-ae3d-c91fb826418e"
      },
      "execution_count": 15,
      "outputs": [
        {
          "output_type": "stream",
          "name": "stdout",
          "text": [
            "Initial Information:\n",
            "Name: messi, Age: 20, Roll Number: 2056\n",
            "Name: bishwa, Age: 21, Roll Number: 1245\n",
            "\n",
            "Updated Information:\n",
            "Name: lionerdo messi, Age: 21, Roll Number: 4567\n",
            "Name: bishwa, Age: 21, Roll Number: 1245\n",
            "\n",
            "Getter and Setter Methods:\n",
            "Name of student1: lionerdo messi\n",
            "Age of student1: 21\n",
            "Roll Number of student1: 4567\n",
            "\n",
            "Updated Age of student1: 22\n"
          ]
        }
      ]
    },
    {
      "cell_type": "markdown",
      "source": [
        "<br>3.Develop a Python program for managing library resources efficiently. Design a class named `LibraryBoo`\n",
        "with attributes lie boo name, author, and availability status. Implement methods for borrowing and\n",
        "returning boos while ensuring proper encapsulation of attributes."
      ],
      "metadata": {
        "id": "NzJq2ieGf75f"
      }
    },
    {
      "cell_type": "code",
      "source": [
        "class LibraryBook:\n",
        "    def __init__(self, book_name, author, availability_status=True):\n",
        "        self.__book_name = book_name\n",
        "        self.__author = author\n",
        "        self.__availability_status = availability_status\n",
        "\n",
        "    def get_book_name(self):\n",
        "        return self.__book_name\n",
        "\n",
        "    def get_author(self):\n",
        "        return self.__author\n",
        "\n",
        "    def get_availability_status(self):\n",
        "        return self.__availability_status\n",
        "\n",
        "    def set_availability_status(self, status):\n",
        "        self.__availability_status = status\n",
        "\n",
        "    def borrow_book(self):\n",
        "        if self.__availability_status:\n",
        "            self.__availability_status = False\n",
        "            return f\"You have successfully borrowed '{self.__book_name}'.\"\n",
        "        else:\n",
        "            return f\"Sorry, '{self.__book_name}' is currently unavailable.\"\n",
        "\n",
        "\n",
        "    def return_book(self):\n",
        "        if not self.__availability_status:\n",
        "            self.__availability_status = True\n",
        "            return f\"'{self.__book_name}' has been successfully returned.\"\n",
        "        else:\n",
        "            return f\"'{self.__book_name}' was not borrowed.\"\n",
        "\n",
        "\n",
        "    def display_info(self):\n",
        "        status = \"Available\" if self.__availability_status else \"Unavailable\"\n",
        "        print(f\"Book Name: {self.__book_name}, Author: {self.__author}, Status: {status}\")\n",
        "\n",
        "\n",
        "if __name__ == \"__main__\":\n",
        "\n",
        "    book1 = LibraryBook(\"2003\", \"kalki\")\n",
        "    book2 = LibraryBook(\"kalyug\", \"Ad\")\n",
        "\n",
        "    print(\"Initial Information:\")\n",
        "    book1.display_info()\n",
        "    book2.display_info()\n",
        "\n",
        "    print(\"\\nBorrowing book1:\")\n",
        "    print(book1.borrow_book())\n",
        "\n",
        "\n",
        "    print(book1.borrow_book())\n",
        "\n",
        "\n",
        "    print(\"\\nReturning book1:\")\n",
        "    print(book1.return_book())\n",
        "\n",
        "\n",
        "    print(book1.return_book())\n",
        "\n",
        "\n",
        "    print(\"\\nUpdated Information:\")\n",
        "    book1.display_info()\n",
        "    book2.display_info()\n"
      ],
      "metadata": {
        "colab": {
          "base_uri": "https://localhost:8080/"
        },
        "id": "Xc8wXxfjgDbs",
        "outputId": "14b22004-22aa-41b1-e19e-ebc9960bf85b"
      },
      "execution_count": 16,
      "outputs": [
        {
          "output_type": "stream",
          "name": "stdout",
          "text": [
            "Initial Information:\n",
            "Book Name: 2003, Author: kalki, Status: Available\n",
            "Book Name: kalyug, Author: Ad, Status: Available\n",
            "\n",
            "Borrowing book1:\n",
            "You have successfully borrowed '2003'.\n",
            "Sorry, '2003' is currently unavailable.\n",
            "\n",
            "Returning book1:\n",
            "'2003' has been successfully returned.\n",
            "'2003' was not borrowed.\n",
            "\n",
            "Updated Information:\n",
            "Book Name: 2003, Author: kalki, Status: Available\n",
            "Book Name: kalyug, Author: Ad, Status: Available\n"
          ]
        }
      ]
    },
    {
      "cell_type": "markdown",
      "source": [
        "<br>4.Create a simple baning system using object-oriented concepts in Python. Design classes representing\n",
        "different types of ban accounts such as savings and checing. Implement methods for deposit, withdraw,\n",
        "and balance inquiry. Utilize inheritance to manage different account types efficiently."
      ],
      "metadata": {
        "id": "pWwgaFz92vmA"
      }
    },
    {
      "cell_type": "code",
      "source": [
        "class BankAccount:\n",
        "    def __init__(self, account_number, account_holder, balance=0):\n",
        "        self.account_number = account_number\n",
        "        self.account_holder = account_holder\n",
        "        self.balance = balance\n",
        "\n",
        "    def deposit(self,amount):\n",
        "      if self.balance>=amount:\n",
        "          self.balance+=amount\n",
        "          print(\"\\n You deposit:\", amount)\n",
        "      else:\n",
        "          print(\"\\n Insufficient balance  \")\n",
        "      print(\"\\n Net Available Balance=\",self.balance)\n",
        "\n",
        "    def withdraw(self,amount):\n",
        "      if self.balance>=amount:\n",
        "          self.balance-=amount\n",
        "          print(\"\\n You Withdrew:\", amount)\n",
        "      else:\n",
        "          print(\"\\n Insufficient balance  \")\n",
        "      print(\"\\n Net Available Balance=\",self.balance)\n",
        "\n",
        "    def get_balance(self):\n",
        "        return f\"Current balance: ${self.balance:.2f}\"\n",
        "\n",
        "    def display_info(self):\n",
        "        print(f\"Account Number: {self.account_number}, Account Holder: {self.account_holder}, Balance: ${self.balance:.2f}\")\n",
        "\n",
        "class SavingsAccount(BankAccount):\n",
        "    def __init__(self, account_number, account_holder, balance=0, interest_rate=0.02):\n",
        "        super().__init__(account_number, account_holder, balance)\n",
        "        self.interest_rate = interest_rate\n",
        "\n",
        "    def apply_interest(self):\n",
        "        interest = self.balance * self.interest_rate\n",
        "        self.balance += interest\n",
        "        return f\"Interest applied. New balance: ${self.balance:.2f}\"\n",
        "\n",
        "class CheckingAccount(BankAccount):\n",
        "    def __init__(self, account_number, account_holder, balance=0, overdraft_limit=100):\n",
        "        super().__init__(account_number, account_holder, balance)\n",
        "        self.overdraft_limit = overdraft_limit\n",
        "\n",
        "    def withdraw(self, amount):\n",
        "        if amount > 0 and amount <= (self.balance + self.overdraft_limit):\n",
        "            self.balance -= amount\n",
        "            return f\"Withdrawal successful. New balance: ${self.balance:.2f}\"\n",
        "        elif amount > (self.balance + self.overdraft_limit):\n",
        "            return \"Exceeded overdraft limit.\"\n",
        "        return \"Invalid withdrawal amount.\"\n",
        "\n",
        "if __name__ == \"__main__\":\n",
        "\n",
        "    savings = SavingsAccount(\"SA12345\", \"Alice\", 1000)\n",
        "    savings.display_info()\n",
        "    print(savings.deposit(500))\n",
        "    print(savings.withdraw(200))\n",
        "    print(savings.apply_interest())\n",
        "    print(savings.get_balance())\n",
        "\n",
        "\n",
        "    checking = CheckingAccount(\"CA12345\", \"Bob\", 500)\n",
        "    checking.display_info()\n",
        "    print(checking.deposit(300))\n",
        "    print(checking.withdraw(700))\n",
        "    print(checking.withdraw(200))\n",
        "    print(checking.get_balance())\n"
      ],
      "metadata": {
        "colab": {
          "base_uri": "https://localhost:8080/"
        },
        "id": "LdCvg3YKlyc7",
        "outputId": "892c3cf5-f0f7-4073-a865-172b00869a99"
      },
      "execution_count": 17,
      "outputs": [
        {
          "output_type": "stream",
          "name": "stdout",
          "text": [
            "Account Number: SA12345, Account Holder: Alice, Balance: $1000.00\n",
            "\n",
            " You deposit: 500\n",
            "\n",
            " Net Available Balance= 1500\n",
            "None\n",
            "\n",
            " You Withdrew: 200\n",
            "\n",
            " Net Available Balance= 1300\n",
            "None\n",
            "Interest applied. New balance: $1326.00\n",
            "Current balance: $1326.00\n",
            "Account Number: CA12345, Account Holder: Bob, Balance: $500.00\n",
            "\n",
            " You deposit: 300\n",
            "\n",
            " Net Available Balance= 800\n",
            "None\n",
            "Withdrawal successful. New balance: $100.00\n",
            "Withdrawal successful. New balance: $-100.00\n",
            "Current balance: $-100.00\n"
          ]
        }
      ]
    },
    {
      "cell_type": "markdown",
      "source": [
        "<br>5.Write a Python program that models different animals and their sounds. Design a base class called\n",
        "`Animal` with a method `mae_sound()`. Create subclasses lie `Dog` and `Cat` that override the\n",
        "`mae_sound()` method to produce appropriate sounds."
      ],
      "metadata": {
        "id": "ak9t9DrT2ppi"
      }
    },
    {
      "cell_type": "code",
      "source": [
        "class Animal:\n",
        "    def make_sound(self):\n",
        "        return \"Some generic sound\"\n",
        "\n",
        "class Dog(Animal):\n",
        "    def make_sound(self):\n",
        "        return \"Woof! Woof!\"\n",
        "\n",
        "class Cat(Animal):\n",
        "    def make_sound(self):\n",
        "        return \"Meow! Meow!\"\n",
        "\n",
        "if __name__ == \"__main__\":\n",
        "    dog = Dog()\n",
        "    cat = Cat()\n",
        "\n",
        "\n",
        "    print(\"Dog sound:\", dog.make_sound())\n",
        "    print(\"Cat sound:\", cat.make_sound())\n"
      ],
      "metadata": {
        "colab": {
          "base_uri": "https://localhost:8080/"
        },
        "id": "4UW9LUKHqGXf",
        "outputId": "743bbc85-df13-444b-9125-070a1bfaee6a"
      },
      "execution_count": 18,
      "outputs": [
        {
          "output_type": "stream",
          "name": "stdout",
          "text": [
            "Dog sound: Woof! Woof!\n",
            "Cat sound: Meow! Meow!\n"
          ]
        }
      ]
    },
    {
      "cell_type": "markdown",
      "source": [
        "<br>6.Write a code for Restaurant Management System Using OOPS?"
      ],
      "metadata": {
        "id": "Eq__A-W914br"
      }
    },
    {
      "cell_type": "code",
      "source": [
        "class MenuItem:\n",
        "    def __init__(self, name, description, price, category, item_id):\n",
        "        self.name = name\n",
        "        self.description = description\n",
        "        self.price = price\n",
        "        self.category = category\n",
        "        self.__item_id = item_id\n",
        "\n",
        "\n",
        "    def get_item_id(self):\n",
        "        return self.__item_id\n",
        "\n",
        "\n",
        "    def display_info(self):\n",
        "        return f\"ID: {self.__item_id}, Name: {self.name}, Description: {self.description}, Price: ${self.price:.2f}, Category: {self.category}\"\n",
        "\n",
        "\n",
        "    def update_info(self, name=None, description=None, price=None, category=None):\n",
        "        if name:\n",
        "            self.name = name\n",
        "        if description:\n",
        "            self.description = description\n",
        "        if price:\n",
        "            self.price = price\n",
        "        if category:\n",
        "            self.category = category\n",
        "\n",
        "class FoodItem(MenuItem):\n",
        "    def __init__(self, name, description, price, category, item_id, cuisine_type):\n",
        "        super().__init__(name, description, price, category, item_id)\n",
        "        self.cuisine_type = cuisine_type\n",
        "\n",
        "\n",
        "    def display_info(self):\n",
        "        base_info = super().display_info()\n",
        "        return f\"{base_info}, Cuisine Type: {self.cuisine_type}\"\n",
        "\n",
        "class BeverageItem(MenuItem):\n",
        "    def __init__(self, name, description, price, category, item_id, beverage_size):\n",
        "        super().__init__(name, description, price, category, item_id)\n",
        "        self.beverage_size = beverage_size\n",
        "\n",
        "    def display_info(self):\n",
        "        base_info = super().display_info()\n",
        "        return f\"{base_info}, Beverage Size: {self.beverage_size}\"\n",
        "\n",
        "\n",
        "class Menu:\n",
        "    def __init__(self):\n",
        "        self.menu_items = {}\n",
        "\n",
        "\n",
        "    def add_menu_item(self, item):\n",
        "        self.menu_items[item.get_item_id()] = item\n",
        "\n",
        "\n",
        "    def remove_menu_item(self, item_id):\n",
        "        if item_id in self.menu_items:\n",
        "            del self.menu_items[item_id]\n",
        "\n",
        "\n",
        "    def display_menu(self):\n",
        "        for item_id, item in self.menu_items.items():\n",
        "            print(item.display_info())\n",
        "\n",
        "\n",
        "if __name__ == \"__main__\":\n",
        "\n",
        "    menu = Menu()\n",
        "\n",
        "\n",
        "    food1 = FoodItem(\"Pasta\", \"Creamy Alfredo pasta\", 12.99, \"Main Course\", 1, \"korea\")\n",
        "    food2 = FoodItem(\"Sushi\", \"Fresh salmon sushi\", 15.99, \"Main Course\", 2, \"Japanese\")\n",
        "\n",
        "\n",
        "    beverage1 = BeverageItem(\"Coke\", \"Chilled Coca-Cola\", 1.99, \"Soft Drink\", 3, \"Medium\")\n",
        "    beverage2 = BeverageItem(\"Latte\", \"Hot Latte\", 3.99, \"Coffee\", 4, \"Large\")\n",
        "\n",
        "\n",
        "    menu.add_menu_item(food1)\n",
        "    menu.add_menu_item(food2)\n",
        "    menu.add_menu_item(beverage1)\n",
        "    menu.add_menu_item(beverage2)\n",
        "\n",
        "\n",
        "    print(\"Initial Menu:\")\n",
        "    menu.display_menu()\n",
        "\n",
        "\n",
        "    food1.update_info(price=13.99, description=\"Creamy Alfredo pasta with mushrooms\")\n",
        "\n",
        "    menu.remove_menu_item(2)\n",
        "\n",
        "    print(\"\\nUpdated Menu:\")\n",
        "    menu.display_menu()\n"
      ],
      "metadata": {
        "colab": {
          "base_uri": "https://localhost:8080/"
        },
        "id": "WEfqJnY9vM_w",
        "outputId": "601ea868-dd4c-47e6-e994-29ffecee151a"
      },
      "execution_count": 19,
      "outputs": [
        {
          "output_type": "stream",
          "name": "stdout",
          "text": [
            "Initial Menu:\n",
            "ID: 1, Name: Pasta, Description: Creamy Alfredo pasta, Price: $12.99, Category: Main Course, Cuisine Type: korea\n",
            "ID: 2, Name: Sushi, Description: Fresh salmon sushi, Price: $15.99, Category: Main Course, Cuisine Type: Japanese\n",
            "ID: 3, Name: Coke, Description: Chilled Coca-Cola, Price: $1.99, Category: Soft Drink, Beverage Size: Medium\n",
            "ID: 4, Name: Latte, Description: Hot Latte, Price: $3.99, Category: Coffee, Beverage Size: Large\n",
            "\n",
            "Updated Menu:\n",
            "ID: 1, Name: Pasta, Description: Creamy Alfredo pasta with mushrooms, Price: $13.99, Category: Main Course, Cuisine Type: korea\n",
            "ID: 3, Name: Coke, Description: Chilled Coca-Cola, Price: $1.99, Category: Soft Drink, Beverage Size: Medium\n",
            "ID: 4, Name: Latte, Description: Hot Latte, Price: $3.99, Category: Coffee, Beverage Size: Large\n"
          ]
        }
      ]
    },
    {
      "cell_type": "markdown",
      "source": [
        "<br>7.Write a code for Hotel Management System using OOPS?"
      ],
      "metadata": {
        "id": "0dERhz_M1qgT"
      }
    },
    {
      "cell_type": "code",
      "source": [
        "class Room:\n",
        "    def __init__(self, room_number, room_type, rate, availability=True):\n",
        "        self.__room_number = room_number\n",
        "        self.room_type = room_type\n",
        "        self.rate = rate\n",
        "        self.__availability = availability\n",
        "\n",
        "\n",
        "    def get_room_number(self):\n",
        "        return self.__room_number\n",
        "\n",
        "\n",
        "    def is_available(self):\n",
        "        return self.__availability\n",
        "\n",
        "    def set_availability(self, availability):\n",
        "        self.__availability = availability\n",
        "\n",
        "\n",
        "    def book_room(self):\n",
        "        if self.__availability:\n",
        "            self.__availability = False\n",
        "            return f\"Room {self.__room_number} has been booked.\"\n",
        "        else:\n",
        "            return f\"Room {self.__room_number} is not available.\"\n",
        "\n",
        "\n",
        "    def check_in(self):\n",
        "        if not self.__availability:\n",
        "            return f\"Guest has checked into room {self.__room_number}.\"\n",
        "        else:\n",
        "            return f\"Room {self.__room_number} is not booked yet.\"\n",
        "\n",
        "\n",
        "    def check_out(self):\n",
        "        if not self.__availability:\n",
        "            self.__availability = True\n",
        "            return f\"Guest has checked out of room {self.__room_number}.\"\n",
        "        else:\n",
        "            return f\"Room {self.__room_number} is already available.\"\n",
        "\n",
        "\n",
        "    def display_info(self):\n",
        "        availability_status = \"Available\" if self.__availability else \"Not Available\"\n",
        "        return f\"Room Number: {self.__room_number}, Type: {self.room_type}, Rate: ${self.rate:.2f}, Availability: {availability_status}\"\n",
        "\n",
        "class SuiteRoom(Room):\n",
        "    def __init__(self, room_number, rate, availability=True, has_living_area=True):\n",
        "        super().__init__(room_number, \"Suite\", rate, availability)\n",
        "        self.has_living_area = has_living_area\n",
        "\n",
        "\n",
        "    def display_info(self):\n",
        "        base_info = super().display_info()\n",
        "        living_area_status = \"Yes\" if self.has_living_area else \"No\"\n",
        "        return f\"{base_info}, Has Living Area: {living_area_status}\"\n",
        "\n",
        "class StandardRoom(Room):\n",
        "    def __init__(self, room_number, rate, availability=True, bed_type=\"Queen\"):\n",
        "        super().__init__(room_number, \"Standard\", rate, availability)\n",
        "        self.bed_type = bed_type\n",
        "\n",
        "\n",
        "    def display_info(self):\n",
        "        base_info = super().display_info()\n",
        "        return f\"{base_info}, Bed Type: {self.bed_type}\"\n",
        "\n",
        "\n",
        "if __name__ == \"__main__\":\n",
        "\n",
        "    suite = SuiteRoom(101, 200.00)\n",
        "    standard = StandardRoom(102, 100.00)\n",
        "\n",
        "\n",
        "    print(\"Initial Room Information:\")\n",
        "    print(suite.display_info())\n",
        "    print(standard.display_info())\n",
        "\n",
        "\n",
        "    print(\"\\nBooking and Checking In:\")\n",
        "    print(suite.book_room())\n",
        "    print(suite.check_in())\n",
        "    print(standard.book_room())\n",
        "    print(standard.check_in())\n",
        "\n",
        "    print(\"\\nUpdated Room Information:\")\n",
        "    print(suite.display_info())\n",
        "    print(standard.display_info())\n",
        "\n",
        "    print(\"\\nChecking Out:\")\n",
        "    print(suite.check_out())\n",
        "    print(standard.check_out())\n",
        "\n",
        "\n",
        "    print(\"\\nFinal Room Information:\")\n",
        "    print(suite.display_info())\n",
        "    print(standard.display_info())\n"
      ],
      "metadata": {
        "colab": {
          "base_uri": "https://localhost:8080/"
        },
        "id": "W0R4CTUezPVQ",
        "outputId": "c045e977-a2df-4041-a34e-2406e615c5d5"
      },
      "execution_count": 20,
      "outputs": [
        {
          "output_type": "stream",
          "name": "stdout",
          "text": [
            "Initial Room Information:\n",
            "Room Number: 101, Type: Suite, Rate: $200.00, Availability: Available, Has Living Area: Yes\n",
            "Room Number: 102, Type: Standard, Rate: $100.00, Availability: Available, Bed Type: Queen\n",
            "\n",
            "Booking and Checking In:\n",
            "Room 101 has been booked.\n",
            "Guest has checked into room 101.\n",
            "Room 102 has been booked.\n",
            "Guest has checked into room 102.\n",
            "\n",
            "Updated Room Information:\n",
            "Room Number: 101, Type: Suite, Rate: $200.00, Availability: Not Available, Has Living Area: Yes\n",
            "Room Number: 102, Type: Standard, Rate: $100.00, Availability: Not Available, Bed Type: Queen\n",
            "\n",
            "Checking Out:\n",
            "Guest has checked out of room 101.\n",
            "Guest has checked out of room 102.\n",
            "\n",
            "Final Room Information:\n",
            "Room Number: 101, Type: Suite, Rate: $200.00, Availability: Available, Has Living Area: Yes\n",
            "Room Number: 102, Type: Standard, Rate: $100.00, Availability: Available, Bed Type: Queen\n"
          ]
        }
      ]
    },
    {
      "cell_type": "markdown",
      "source": [
        "<br>8.Write a code for Fitness Club Management System using OOPS?"
      ],
      "metadata": {
        "id": "94LOVBwD24oD"
      }
    },
    {
      "cell_type": "code",
      "source": [
        "class Member:\n",
        "    def __init__(self, name, age, membership_type, member_id, membership_status=True):\n",
        "        self.name = name\n",
        "        self.age = age\n",
        "        self.membership_type = membership_type\n",
        "        self.__member_id = member_id\n",
        "        self.__membership_status = membership_status\n",
        "\n",
        "\n",
        "    def get_member_id(self):\n",
        "        return self.__member_id\n",
        "\n",
        "\n",
        "    def get_membership_status(self):\n",
        "        return self.__membership_status\n",
        "\n",
        "    def set_membership_status(self, status):\n",
        "        self.__membership_status = status\n",
        "\n",
        "\n",
        "    def register_member(self):\n",
        "        self.__membership_status = True\n",
        "        return f\"Member {self.name} has been registered.\"\n",
        "\n",
        "\n",
        "    def renew_membership(self):\n",
        "        if self.__membership_status:\n",
        "            return f\"Membership for {self.name} is already active.\"\n",
        "        else:\n",
        "            self.__membership_status = True\n",
        "            return f\"Membership for {self.name} has been renewed.\"\n",
        "\n",
        "\n",
        "    def cancel_membership(self):\n",
        "        if self.__membership_status:\n",
        "            self.__membership_status = False\n",
        "            return f\"Membership for {self.name} has been cancelled.\"\n",
        "        else:\n",
        "            return f\"Membership for {self.name} is already inactive.\"\n",
        "\n",
        "    def display_info(self):\n",
        "        status = \"Active\" if self.__membership_status else \"Inactive\"\n",
        "        return f\"ID: {self.__member_id}, Name: {self.name}, Age: {self.age}, Membership Type: {self.membership_type}, Status: {status}\"\n",
        "\n",
        "class FamilyMember(Member):\n",
        "    def __init__(self, name, age, membership_type, member_id, family_members_count, membership_status=True):\n",
        "        super().__init__(name, age, membership_type, member_id, membership_status)\n",
        "        self.family_members_count = family_members_count\n",
        "\n",
        "\n",
        "    def display_info(self):\n",
        "        base_info = super().display_info()\n",
        "        return f\"{base_info}, Family Members Count: {self.family_members_count}\"\n",
        "\n",
        "class IndividualMember(Member):\n",
        "    def __init__(self, name, age, membership_type, member_id, personal_trainer, membership_status=True):\n",
        "        super().__init__(name, age, membership_type, member_id, membership_status)\n",
        "        self.personal_trainer = personal_trainer\n",
        "\n",
        "\n",
        "    def display_info(self):\n",
        "        base_info = super().display_info()\n",
        "        trainer_status = \"Yes\" if self.personal_trainer else \"No\"\n",
        "        return f\"{base_info}, Personal Trainer: {trainer_status}\"\n",
        "\n",
        "\n",
        "if __name__ == \"__main__\":\n",
        "\n",
        "    family_member = FamilyMember(\"messi\", 40, \"Family\", 1, 4)\n",
        "    individual_member = IndividualMember(\"ronaldo\", 30, \"Individual\", 2, True)\n",
        "\n",
        "    print(\"Initial Member Information:\")\n",
        "    print(family_member.display_info())\n",
        "    print(individual_member.display_info())\n",
        "\n",
        "\n",
        "    print(\"\\nRegistering and Renewing Memberships:\")\n",
        "    print(family_member.register_member())\n",
        "    print(individual_member.register_member())\n",
        "    print(individual_member.renew_membership())\n",
        "\n",
        "    print(\"\\nCancelling Memberships:\")\n",
        "    print(family_member.cancel_membership())\n",
        "    print(individual_member.cancel_membership())\n",
        "\n",
        "\n",
        "    print(\"\\nUpdated Member Information:\")\n",
        "    print(family_member.display_info())\n",
        "    print(individual_member.display_info())\n"
      ],
      "metadata": {
        "colab": {
          "base_uri": "https://localhost:8080/"
        },
        "id": "oGccyIu13ZYV",
        "outputId": "58cfd7fe-d63e-4aa2-958c-7df4d6e16def"
      },
      "execution_count": 21,
      "outputs": [
        {
          "output_type": "stream",
          "name": "stdout",
          "text": [
            "Initial Member Information:\n",
            "ID: 1, Name: messi, Age: 40, Membership Type: Family, Status: Active, Family Members Count: 4\n",
            "ID: 2, Name: ronaldo, Age: 30, Membership Type: Individual, Status: Active, Personal Trainer: Yes\n",
            "\n",
            "Registering and Renewing Memberships:\n",
            "Member messi has been registered.\n",
            "Member ronaldo has been registered.\n",
            "Membership for ronaldo is already active.\n",
            "\n",
            "Cancelling Memberships:\n",
            "Membership for messi has been cancelled.\n",
            "Membership for ronaldo has been cancelled.\n",
            "\n",
            "Updated Member Information:\n",
            "ID: 1, Name: messi, Age: 40, Membership Type: Family, Status: Inactive, Family Members Count: 4\n",
            "ID: 2, Name: ronaldo, Age: 30, Membership Type: Individual, Status: Inactive, Personal Trainer: Yes\n"
          ]
        }
      ]
    },
    {
      "cell_type": "markdown",
      "source": [
        "9.Write a code for Event Management System using OOPS."
      ],
      "metadata": {
        "id": "H3aORcj33ahA"
      }
    },
    {
      "cell_type": "code",
      "source": [
        "class Event:\n",
        "    def __init__(self, name, date, time, location, event_id):\n",
        "        self.name = name\n",
        "        self.date = date\n",
        "        self.time = time\n",
        "        self.location = location\n",
        "        self.__event_id = event_id\n",
        "        self.__attendees = []\n",
        "\n",
        "\n",
        "    def get_event_id(self):\n",
        "        return self.__event_id\n",
        "\n",
        "\n",
        "    def add_attendee(self, attendee):\n",
        "        self.__attendees.append(attendee)\n",
        "\n",
        "\n",
        "    def remove_attendee(self, attendee):\n",
        "        if attendee in self.__attendees:\n",
        "            self.__attendees.remove(attendee)\n",
        "\n",
        "\n",
        "    def get_total_attendees(self):\n",
        "        return len(self.__attendees)\n",
        "\n",
        "\n",
        "    def display_info(self):\n",
        "        return f\"ID: {self.__event_id}, Name: {self.name}, Date: {self.date}, Time: {self.time}, Location: {self.location}, Total Attendees: {self.get_total_attendees()}\"\n",
        "\n",
        "class PrivateEvent(Event):\n",
        "    def __init__(self, name, date, time, location, event_id, invitation_required):\n",
        "        super().__init__(name, date, time, location, event_id)\n",
        "        self.invitation_required = invitation_required\n",
        "\n",
        "\n",
        "    def display_info(self):\n",
        "        base_info = super().display_info()\n",
        "        invitation_status = \"Yes\" if self.invitation_required else \"No\"\n",
        "        return f\"{base_info}, Invitation Required: {invitation_status}\"\n",
        "\n",
        "class PublicEvent(Event):\n",
        "    def __init__(self, name, date, time, location, event_id, max_attendees):\n",
        "        super().__init__(name, date, time, location, event_id)\n",
        "        self.max_attendees = max_attendees\n",
        "\n",
        "\n",
        "    def add_attendee(self, attendee):\n",
        "        if self.get_total_attendees() < self.max_attendees:\n",
        "            super().add_attendee(attendee)\n",
        "        else:\n",
        "            print(f\"Cannot add {attendee}. Maximum number of attendees reached.\")\n",
        "\n",
        "\n",
        "    def display_info(self):\n",
        "        base_info = super().display_info()\n",
        "        return f\"{base_info}, Max Attendees: {self.max_attendees}\"\n",
        "\n",
        "\n",
        "if __name__ == \"__main__\":\n",
        "\n",
        "    private_event = PrivateEvent(\"Private Party\", \"2024-07-15\", \"18:00\", \"John's House\", 1, True)\n",
        "    public_event = PublicEvent(\"Community Fair\", \"2024-07-20\", \"10:00\", \"Central Park\", 2, 100)\n",
        "\n",
        "\n",
        "    print(\"Initial Event Information:\")\n",
        "    print(private_event.display_info())\n",
        "    print(public_event.display_info())\n",
        "\n",
        "\n",
        "    print(\"\\nAdding and Removing Attendees:\")\n",
        "    private_event.add_attendee(\"san\")\n",
        "    private_event.add_attendee(\"messi\")\n",
        "    print(private_event.display_info())\n",
        "\n",
        "    public_event.add_attendee(\"david\")\n",
        "    public_event.add_attendee(\"ronaldo\")\n",
        "    public_event.add_attendee(\"luci\")\n",
        "    print(public_event.display_info())\n",
        "\n",
        "\n",
        "    for i in range(101):\n",
        "        public_event.add_attendee(f\"Attendee {i+1}\")\n",
        "\n",
        "\n",
        "    print(\"\\nUpdated Event Information:\")\n",
        "    print(private_event.display_info())\n",
        "    print(public_event.display_info())\n",
        "\n",
        "\n",
        "    private_event.remove_attendee(\"Bob\")\n",
        "    print(\"\\nAfter Removing an Attendee from Private Event:\")\n",
        "    print(private_event.display_info())\n"
      ],
      "metadata": {
        "colab": {
          "base_uri": "https://localhost:8080/"
        },
        "id": "m9yo2Bi_7OjK",
        "outputId": "a225f8c3-b6fd-45da-f7d8-20b7ad9f23ef"
      },
      "execution_count": 22,
      "outputs": [
        {
          "output_type": "stream",
          "name": "stdout",
          "text": [
            "Initial Event Information:\n",
            "ID: 1, Name: Private Party, Date: 2024-07-15, Time: 18:00, Location: John's House, Total Attendees: 0, Invitation Required: Yes\n",
            "ID: 2, Name: Community Fair, Date: 2024-07-20, Time: 10:00, Location: Central Park, Total Attendees: 0, Max Attendees: 100\n",
            "\n",
            "Adding and Removing Attendees:\n",
            "ID: 1, Name: Private Party, Date: 2024-07-15, Time: 18:00, Location: John's House, Total Attendees: 2, Invitation Required: Yes\n",
            "ID: 2, Name: Community Fair, Date: 2024-07-20, Time: 10:00, Location: Central Park, Total Attendees: 3, Max Attendees: 100\n",
            "Cannot add Attendee 98. Maximum number of attendees reached.\n",
            "Cannot add Attendee 99. Maximum number of attendees reached.\n",
            "Cannot add Attendee 100. Maximum number of attendees reached.\n",
            "Cannot add Attendee 101. Maximum number of attendees reached.\n",
            "\n",
            "Updated Event Information:\n",
            "ID: 1, Name: Private Party, Date: 2024-07-15, Time: 18:00, Location: John's House, Total Attendees: 2, Invitation Required: Yes\n",
            "ID: 2, Name: Community Fair, Date: 2024-07-20, Time: 10:00, Location: Central Park, Total Attendees: 100, Max Attendees: 100\n",
            "\n",
            "After Removing an Attendee from Private Event:\n",
            "ID: 1, Name: Private Party, Date: 2024-07-15, Time: 18:00, Location: John's House, Total Attendees: 2, Invitation Required: Yes\n"
          ]
        }
      ]
    }
  ]
}