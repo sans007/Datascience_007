{
  "nbformat": 4,
  "nbformat_minor": 0,
  "metadata": {
    "colab": {
      "provenance": []
    },
    "kernelspec": {
      "name": "python3",
      "display_name": "Python 3"
    },
    "language_info": {
      "name": "python"
    }
  },
  "cells": [
    {
      "cell_type": "markdown",
      "source": [
        "# Basic If-Else Statements:"
      ],
      "metadata": {
        "id": "NpRLdG26Tx94"
      }
    },
    {
      "cell_type": "markdown",
      "source": [
        "<br>1. Write a Python program to check if a given number is positive or negative."
      ],
      "metadata": {
        "id": "ThX6KIIpT1wY"
      }
    },
    {
      "cell_type": "code",
      "execution_count": 1,
      "metadata": {
        "colab": {
          "base_uri": "https://localhost:8080/"
        },
        "id": "AWB_ngm4Tn69",
        "outputId": "98a9ac61-0248-4d82-f6cb-c93b820d6ddc"
      },
      "outputs": [
        {
          "output_type": "stream",
          "name": "stdout",
          "text": [
            "Enter a number: 7\n",
            "7.0 is a positive number.\n"
          ]
        }
      ],
      "source": [
        "def check_number(num):\n",
        "    if num > 0:\n",
        "        print(f\"{num} is a positive number.\")\n",
        "    elif num < 0:\n",
        "        print(f\"{num} is a negative number.\")\n",
        "    else:\n",
        "        print(\"The number is zero.\")\n",
        "\n",
        "# Test the function\n",
        "number = float(input(\"Enter a number: \"))\n",
        "check_number(number)\n"
      ]
    },
    {
      "cell_type": "markdown",
      "source": [
        "<br>2. Create a program that determines if a person is eligible to vote based on their age."
      ],
      "metadata": {
        "id": "LeJnS0-bT_5C"
      }
    },
    {
      "cell_type": "code",
      "source": [
        "def is_eligible_to_vote(age):\n",
        "    if age >= 18:\n",
        "        print(\"You are eligible to vote.\")\n",
        "    else:\n",
        "        print(\"You are not eligible to vote.\")\n",
        "\n",
        "# Test the function\n",
        "age = int(input(\"Enter your age: \"))\n",
        "is_eligible_to_vote(age)\n"
      ],
      "metadata": {
        "colab": {
          "base_uri": "https://localhost:8080/"
        },
        "id": "I7hfk0UbUlc6",
        "outputId": "bc3716b3-e820-4691-fb04-927124778b86"
      },
      "execution_count": 2,
      "outputs": [
        {
          "output_type": "stream",
          "name": "stdout",
          "text": [
            "Enter your age: 67\n",
            "You are eligible to vote.\n"
          ]
        }
      ]
    },
    {
      "cell_type": "markdown",
      "source": [
        "<br>3. Develop a program to find the maximum of two numbers using if-else statements.\n"
      ],
      "metadata": {
        "id": "05PmkNk0UEjP"
      }
    },
    {
      "cell_type": "code",
      "source": [
        "def find_maximum(num1, num2):\n",
        "    if num1 > num2:\n",
        "        print(f\"The maximum number is {num1}.\")\n",
        "    elif num2 > num1:\n",
        "        print(f\"The maximum number is {num2}.\")\n",
        "    else:\n",
        "        print(\"Both numbers are equal.\")\n",
        "\n",
        "# Test the function\n",
        "num1 = float(input(\"Enter the first number: \"))\n",
        "num2 = float(input(\"Enter the second number: \"))\n",
        "find_maximum(num1, num2)\n"
      ],
      "metadata": {
        "colab": {
          "base_uri": "https://localhost:8080/"
        },
        "id": "SQe4Z_BRUqqw",
        "outputId": "8cdb4ebe-dfa6-4af7-b046-4d6613220450"
      },
      "execution_count": 3,
      "outputs": [
        {
          "output_type": "stream",
          "name": "stdout",
          "text": [
            "Enter the first number: 8\n",
            "Enter the second number: 9\n",
            "The maximum number is 9.0.\n"
          ]
        }
      ]
    },
    {
      "cell_type": "markdown",
      "source": [
        "<br>4. Write a Python script to classify a given year as a leap year or not.\n"
      ],
      "metadata": {
        "id": "96TXAtSoUTbU"
      }
    },
    {
      "cell_type": "code",
      "source": [
        "def is_leap_year(year):\n",
        "    if (year % 4 == 0 and year % 100 != 0) or (year % 400 == 0):\n",
        "        print(f\"{year} is a leap year.\")\n",
        "    else:\n",
        "        print(f\"{year} is not a leap year.\")\n",
        "\n",
        "# Test the function\n",
        "year = int(input(\"Enter a year: \"))\n",
        "is_leap_year(year)\n"
      ],
      "metadata": {
        "colab": {
          "base_uri": "https://localhost:8080/"
        },
        "id": "r-MsUw2KUt1V",
        "outputId": "729bba36-4088-477b-965c-048640b05326"
      },
      "execution_count": 4,
      "outputs": [
        {
          "output_type": "stream",
          "name": "stdout",
          "text": [
            "Enter a year: 2020\n",
            "2020 is a leap year.\n"
          ]
        }
      ]
    },
    {
      "cell_type": "markdown",
      "source": [
        "\n",
        "<br>5. Create a program that checks whether a character is a vowel or a consonant.\n"
      ],
      "metadata": {
        "id": "nrBFdfGtUWC7"
      }
    },
    {
      "cell_type": "code",
      "source": [
        "def check_character(char):\n",
        "    vowels = 'aeiouAEIOU'\n",
        "    if char in vowels:\n",
        "        print(f\"'{char}' is a vowel.\")\n",
        "    elif char.isalpha():\n",
        "        print(f\"'{char}' is a consonant.\")\n",
        "    else:\n",
        "        print(f\"'{char}' is not a valid alphabetic character.\")\n",
        "\n",
        "# Test the function\n",
        "char = input(\"Enter a single character: \")\n",
        "check_character(char)\n"
      ],
      "metadata": {
        "colab": {
          "base_uri": "https://localhost:8080/"
        },
        "id": "pMUaas5rU0MD",
        "outputId": "9a4c9330-76e0-48f0-bc9d-2d575a5fb5b5"
      },
      "execution_count": 5,
      "outputs": [
        {
          "output_type": "stream",
          "name": "stdout",
          "text": [
            "Enter a single character: a\n",
            "'a' is a vowel.\n"
          ]
        }
      ]
    },
    {
      "cell_type": "markdown",
      "source": [
        "<br>6. Implement a program to determine whether a given number is even or odd.\n"
      ],
      "metadata": {
        "id": "SiJuNxyLUaiU"
      }
    },
    {
      "cell_type": "code",
      "source": [
        "def check_even_odd(num):\n",
        "    if num % 2 == 0:\n",
        "        print(f\"{num} is an even number.\")\n",
        "    else:\n",
        "        print(f\"{num} is an odd number.\")\n",
        "\n",
        "# Test the function\n",
        "number = int(input(\"Enter a number: \"))\n",
        "check_even_odd(number)\n",
        "\n"
      ],
      "metadata": {
        "colab": {
          "base_uri": "https://localhost:8080/"
        },
        "id": "Z5gq4j7KU4tG",
        "outputId": "d06d5e0d-98ef-4c55-8580-6b8cc7696b1d"
      },
      "execution_count": 6,
      "outputs": [
        {
          "output_type": "stream",
          "name": "stdout",
          "text": [
            "Enter a number: 8\n",
            "8 is an even number.\n"
          ]
        }
      ]
    },
    {
      "cell_type": "markdown",
      "source": [
        "<br>7. Write a Python function to calculate the absolute value of a number without using the abs() function."
      ],
      "metadata": {
        "id": "CcgeXexkUc4o"
      }
    },
    {
      "cell_type": "code",
      "source": [
        "def calculate_absolute_value(num):\n",
        "    if num < 0:\n",
        "        return -num\n",
        "    return num\n",
        "\n",
        "# Test the function\n",
        "number = float(input(\"Enter a number: \"))\n",
        "print(f\"The absolute value of {number} is {calculate_absolute_value(number)}.\")\n",
        "\n"
      ],
      "metadata": {
        "colab": {
          "base_uri": "https://localhost:8080/"
        },
        "id": "-rBkYyhZU9xV",
        "outputId": "b5cc29cd-7bbc-4373-87e5-ff84dab51353"
      },
      "execution_count": 7,
      "outputs": [
        {
          "output_type": "stream",
          "name": "stdout",
          "text": [
            "Enter a number: -9\n",
            "The absolute value of -9.0 is 9.0.\n"
          ]
        }
      ]
    },
    {
      "cell_type": "markdown",
      "source": [
        "# Nested If-Else Statements:\n"
      ],
      "metadata": {
        "id": "BP1jvvqpWXaZ"
      }
    },
    {
      "cell_type": "markdown",
      "source": [
        "11. Write a program to find the largest among three numbers using nested if-else statements.\n"
      ],
      "metadata": {
        "id": "XHbceaVPWiRy"
      }
    },
    {
      "cell_type": "code",
      "source": [
        "def find_largest(a, b, c):\n",
        "    if a >= b:\n",
        "        if a >= c:\n",
        "            print(f\"The largest number is {a}.\")\n",
        "        else:\n",
        "            print(f\"The largest number is {c}.\")\n",
        "    else:\n",
        "        if b >= c:\n",
        "            print(f\"The largest number is {b}.\")\n",
        "        else:\n",
        "            print(f\"The largest number is {c}.\")\n",
        "\n",
        "# Test the function\n",
        "a, b, c = map(float, input(\"Enter three numbers separated by spaces: \").split())\n",
        "find_largest(a, b, c)\n"
      ],
      "metadata": {
        "colab": {
          "base_uri": "https://localhost:8080/"
        },
        "id": "YYFaBVP_XqtZ",
        "outputId": "ebc3fc5e-3c02-4235-bd06-76f3542a6ada"
      },
      "execution_count": 9,
      "outputs": [
        {
          "output_type": "stream",
          "name": "stdout",
          "text": [
            "Enter three numbers separated by spaces: 3 4 5\n",
            "The largest number is 5.0.\n"
          ]
        }
      ]
    },
    {
      "cell_type": "markdown",
      "source": [
        "\n",
        "12. Implement a program to determine if a triangle is equilateral, isosceles, or scalene."
      ],
      "metadata": {
        "id": "4usfzvefWlnw"
      }
    },
    {
      "cell_type": "code",
      "source": [
        "def triangle_type(a, b, c):\n",
        "    if a == b == c:\n",
        "        print(\"The triangle is equilateral.\")\n",
        "    elif a == b or b == c or a == c:\n",
        "        print(\"The triangle is isosceles.\")\n",
        "    else:\n",
        "        print(\"The triangle is scalene.\")\n",
        "\n",
        "# Test the function\n",
        "a, b, c = map(float, input(\"Enter the three sides of the triangle separated by spaces: \").split())\n",
        "triangle_type(a, b, c)\n"
      ],
      "metadata": {
        "colab": {
          "base_uri": "https://localhost:8080/"
        },
        "id": "yOeTTZIAhhKS",
        "outputId": "335d3c75-13fa-4338-cc39-be807c4d6de5"
      },
      "execution_count": 10,
      "outputs": [
        {
          "output_type": "stream",
          "name": "stdout",
          "text": [
            "Enter the three sides of the triangle separated by spaces: 34 45 45\n",
            "The triangle is isosceles.\n"
          ]
        }
      ]
    },
    {
      "cell_type": "markdown",
      "source": [
        "13. Develop a program that checks if a year is a leap year and also if it is a century year.\n"
      ],
      "metadata": {
        "id": "H2WpRMNvWuTL"
      }
    },
    {
      "cell_type": "code",
      "source": [
        "def check_year(year):\n",
        "    if year % 4 == 0 and (year % 100 != 0 or year % 400 == 0):\n",
        "        if year % 100 == 0:\n",
        "            print(f\"{year} is a leap year and a century year.\")\n",
        "        else:\n",
        "            print(f\"{year} is a leap year but not a century year.\")\n",
        "    else:\n",
        "        print(f\"{year} is not a leap year.\")\n",
        "\n",
        "# Test the function\n",
        "year = int(input(\"Enter a year: \"))\n",
        "check_year(year)\n"
      ],
      "metadata": {
        "colab": {
          "base_uri": "https://localhost:8080/"
        },
        "id": "_rUmjrB8hqP_",
        "outputId": "2e4bd661-23dd-4c38-8f50-59ae487be09a"
      },
      "execution_count": 11,
      "outputs": [
        {
          "output_type": "stream",
          "name": "stdout",
          "text": [
            "Enter a year: 2025\n",
            "2025 is not a leap year.\n"
          ]
        }
      ]
    },
    {
      "cell_type": "markdown",
      "source": [
        "14. Write a Python script to determine if a number is positive, negative, or zero.\n"
      ],
      "metadata": {
        "id": "usOZ0XfDWwcf"
      }
    },
    {
      "cell_type": "code",
      "source": [
        "def number_classification(num):\n",
        "    if num > 0:\n",
        "        print(f\"{num} is positive.\")\n",
        "    elif num < 0:\n",
        "        print(f\"{num} is negative.\")\n",
        "    else:\n",
        "        print(\"The number is zero.\")\n",
        "\n",
        "# Test the function\n",
        "num = float(input(\"Enter a number: \"))\n",
        "number_classification(num)\n"
      ],
      "metadata": {
        "colab": {
          "base_uri": "https://localhost:8080/"
        },
        "id": "kOFmeA8khzl9",
        "outputId": "0abcf401-d583-41aa-f23f-03da558a1189"
      },
      "execution_count": 12,
      "outputs": [
        {
          "output_type": "stream",
          "name": "stdout",
          "text": [
            "Enter a number: 5\n",
            "5.0 is positive.\n"
          ]
        }
      ]
    },
    {
      "cell_type": "markdown",
      "source": [
        "15. Create a program to check if a person is a teenager (between 13 and 19 years old).\n"
      ],
      "metadata": {
        "id": "lXt-VvicWydT"
      }
    },
    {
      "cell_type": "code",
      "source": [
        "def is_teenager(age):\n",
        "    if 13 <= age <= 19:\n",
        "        print(\"The person is a teenager.\")\n",
        "    else:\n",
        "        print(\"The person is not a teenager.\")\n",
        "\n",
        "# Test the function\n",
        "age = int(input(\"Enter the person's age: \"))\n",
        "is_teenager(age)\n"
      ],
      "metadata": {
        "colab": {
          "base_uri": "https://localhost:8080/"
        },
        "id": "5FLSlKeGh374",
        "outputId": "9b42bb5d-bba1-4dbc-8198-a749b63284fa"
      },
      "execution_count": 13,
      "outputs": [
        {
          "output_type": "stream",
          "name": "stdout",
          "text": [
            "Enter the person's age: 45\n",
            "The person is not a teenager.\n"
          ]
        }
      ]
    },
    {
      "cell_type": "markdown",
      "source": [
        "16. Develop a program that determines the type of angle based on its measure (acute, obtuse, or right)."
      ],
      "metadata": {
        "id": "0fENGnyPW0Yo"
      }
    },
    {
      "cell_type": "code",
      "source": [
        "def angle_type(angle):\n",
        "    if 0 < angle < 90:\n",
        "        print(\"The angle is acute.\")\n",
        "    elif angle == 90:\n",
        "        print(\"The angle is a right angle.\")\n",
        "    elif 90 < angle < 180:\n",
        "        print(\"The angle is obtuse.\")\n",
        "    else:\n",
        "        print(\"Invalid angle measure.\")\n",
        "\n",
        "# Test the function\n",
        "angle = float(input(\"Enter the angle in degrees: \"))\n",
        "angle_type(angle)\n"
      ],
      "metadata": {
        "colab": {
          "base_uri": "https://localhost:8080/"
        },
        "id": "RHMKHUVBh8qE",
        "outputId": "ca3367f1-9528-4600-b0e5-b73168744847"
      },
      "execution_count": 14,
      "outputs": [
        {
          "output_type": "stream",
          "name": "stdout",
          "text": [
            "Enter the angle in degrees: 45\n",
            "The angle is acute.\n"
          ]
        }
      ]
    },
    {
      "cell_type": "markdown",
      "source": [
        "# Elif Statements:\n"
      ],
      "metadata": {
        "id": "xxO1oXKOW1pH"
      }
    },
    {
      "cell_type": "markdown",
      "source": [
        "21. Write a Python program to assign grades based on different ranges of scores using elif statements.\n"
      ],
      "metadata": {
        "id": "rM1akSPZXTCG"
      }
    },
    {
      "cell_type": "code",
      "source": [
        "def assign_grade(score):\n",
        "    if score >= 90:\n",
        "        grade = \"A\"\n",
        "    elif score >= 80:\n",
        "        grade = \"B\"\n",
        "    elif score >= 70:\n",
        "        grade = \"C\"\n",
        "    elif score >= 60:\n",
        "        grade = \"D\"\n",
        "    else:\n",
        "        grade = \"F\"\n",
        "    print(f\"Score: {score} - Grade: {grade}\")\n",
        "\n",
        "# Test the function\n",
        "score = int(input(\"Enter the score (0-100): \"))\n",
        "assign_grade(score)\n"
      ],
      "metadata": {
        "colab": {
          "base_uri": "https://localhost:8080/"
        },
        "id": "kLGT0fIEiHq-",
        "outputId": "733d1d15-a3a5-48d1-a771-13b35eb725af"
      },
      "execution_count": 15,
      "outputs": [
        {
          "output_type": "stream",
          "name": "stdout",
          "text": [
            "Enter the score (0-100): 78\n",
            "Score: 78 - Grade: C\n"
          ]
        }
      ]
    },
    {
      "cell_type": "markdown",
      "source": [
        "22. Implement a program to determine the type of a triangle based on its angles.\n"
      ],
      "metadata": {
        "id": "YSR_tIk0XVmi"
      }
    },
    {
      "cell_type": "code",
      "source": [
        "def triangle_by_angles(angle1, angle2, angle3):\n",
        "    if angle1 + angle2 + angle3 != 180:\n",
        "        print(\"Invalid triangle angles.\")\n",
        "    elif angle1 == 90 or angle2 == 90 or angle3 == 90:\n",
        "        print(\"The triangle is a right triangle.\")\n",
        "    elif angle1 < 90 and angle2 < 90 and angle3 < 90:\n",
        "        print(\"The triangle is an acute triangle.\")\n",
        "    else:\n",
        "        print(\"The triangle is an obtuse triangle.\")\n",
        "\n",
        "# Test the function\n",
        "angles = list(map(float, input(\"Enter the three angles separated by spaces: \").split()))\n",
        "triangle_by_angles(*angles)\n"
      ],
      "metadata": {
        "colab": {
          "base_uri": "https://localhost:8080/"
        },
        "id": "XCZmyTB7iKpt",
        "outputId": "c05c43a2-769e-43b3-9909-6b177ac6b589"
      },
      "execution_count": 16,
      "outputs": [
        {
          "output_type": "stream",
          "name": "stdout",
          "text": [
            "Enter the three angles separated by spaces: 45 56 67\n",
            "Invalid triangle angles.\n"
          ]
        }
      ]
    },
    {
      "cell_type": "markdown",
      "source": [
        "23. Develop a program to categorize a given person's BMI into underweight, normal, overweight, or obese using\n",
        "elif statements.\n"
      ],
      "metadata": {
        "id": "riHTEJkwXYB-"
      }
    },
    {
      "cell_type": "code",
      "source": [
        "def categorize_bmi(bmi):\n",
        "    if bmi < 18.5:\n",
        "        category = \"Underweight\"\n",
        "    elif 18.5 <= bmi < 24.9:\n",
        "        category = \"Normal weight\"\n",
        "    elif 25.0 <= bmi < 29.9:\n",
        "        category = \"Overweight\"\n",
        "    else:\n",
        "        category = \"Obese\"\n",
        "    print(f\"BMI: {bmi:.1f} - Category: {category}\")\n",
        "\n",
        "# Test the function\n",
        "weight = float(input(\"Enter weight in kilograms: \"))\n",
        "height = float(input(\"Enter height in meters: \"))\n",
        "bmi = weight / (height ** 2)\n",
        "categorize_bmi(bmi)\n"
      ],
      "metadata": {
        "colab": {
          "base_uri": "https://localhost:8080/"
        },
        "id": "MLhtXKG5iRwD",
        "outputId": "2ca7676f-44f9-4e93-aeb9-58121b6aaf6d"
      },
      "execution_count": 18,
      "outputs": [
        {
          "output_type": "stream",
          "name": "stdout",
          "text": [
            "Enter weight in kilograms: 80\n",
            "Enter height in meters: 1.7\n",
            "BMI: 27.7 - Category: Overweight\n"
          ]
        }
      ]
    },
    {
      "cell_type": "markdown",
      "source": [
        "24. Create a program that determines whether a given number is positive, negative, or zero using elif\n",
        "statements.\n"
      ],
      "metadata": {
        "id": "mZXUIJ-6XauM"
      }
    },
    {
      "cell_type": "code",
      "source": [
        "def check_number(num):\n",
        "    if num > 0:\n",
        "        print(\"The number is positive.\")\n",
        "    elif num < 0:\n",
        "        print(\"The number is negative.\")\n",
        "    else:\n",
        "        print(\"The number is zero.\")\n",
        "\n",
        "# Test the function\n",
        "num = float(input(\"Enter a number: \"))\n",
        "check_number(num)\n"
      ],
      "metadata": {
        "colab": {
          "base_uri": "https://localhost:8080/"
        },
        "id": "rivS36sFigV_",
        "outputId": "a816d13f-4fc6-4255-83d2-a580896b3920"
      },
      "execution_count": 19,
      "outputs": [
        {
          "output_type": "stream",
          "name": "stdout",
          "text": [
            "Enter a number: 9\n",
            "The number is positive.\n"
          ]
        }
      ]
    },
    {
      "cell_type": "markdown",
      "source": [
        "25. Write a Python script to determine the type of a character (uppercase, lowercase, or special) using elif\n",
        "statements.\n"
      ],
      "metadata": {
        "id": "azBqpoi-XeJE"
      }
    },
    {
      "cell_type": "code",
      "source": [
        "def character_type(char):\n",
        "    if char.isupper():\n",
        "        print(f\"'{char}' is an uppercase letter.\")\n",
        "    elif char.islower():\n",
        "        print(f\"'{char}' is a lowercase letter.\")\n",
        "    elif char.isdigit():\n",
        "        print(f\"'{char}' is a digit.\")\n",
        "    else:\n",
        "        print(f\"'{char}' is a special character.\")\n",
        "\n",
        "# Test the function\n",
        "char = input(\"Enter a character: \")\n",
        "if len(char) == 1:\n",
        "    character_type(char)\n",
        "else:\n",
        "    print(\"Please enter a single character.\")\n"
      ],
      "metadata": {
        "colab": {
          "base_uri": "https://localhost:8080/"
        },
        "id": "vlbkc7ndim8x",
        "outputId": "aa1524c9-469c-4206-8c4a-6839d9e23d95"
      },
      "execution_count": 20,
      "outputs": [
        {
          "output_type": "stream",
          "name": "stdout",
          "text": [
            "Enter a character: u\n",
            "'u' is a lowercase letter.\n"
          ]
        }
      ]
    },
    {
      "cell_type": "markdown",
      "source": [
        "26. Implement a program to calculate the discounted price based on different purchase amounts using elif\n",
        "statements."
      ],
      "metadata": {
        "id": "j_UZoSJcXhM9"
      }
    },
    {
      "cell_type": "code",
      "source": [
        "def calculate_discount(price):\n",
        "    if price > 5000:\n",
        "        discount = 0.20  # 20%\n",
        "    elif price > 3000:\n",
        "        discount = 0.15  # 15%\n",
        "    elif price > 1000:\n",
        "        discount = 0.10  # 10%\n",
        "    else:\n",
        "        discount = 0.05  # 5%\n",
        "    discounted_price = price - (price * discount)\n",
        "    print(f\"Original Price: ${price:.2f}, Discounted Price: ${discounted_price:.2f}\")\n",
        "\n",
        "# Test the function\n",
        "price = float(input(\"Enter the purchase amount: \"))\n",
        "calculate_discount(price)\n"
      ],
      "metadata": {
        "colab": {
          "base_uri": "https://localhost:8080/"
        },
        "id": "a-8JLyEtir75",
        "outputId": "1bb9e39a-3501-4779-8f7c-74d77a6f906b"
      },
      "execution_count": 21,
      "outputs": [
        {
          "output_type": "stream",
          "name": "stdout",
          "text": [
            "Enter the purchase amount: 7000\n",
            "Original Price: $7000.00, Discounted Price: $5600.00\n"
          ]
        }
      ]
    },
    {
      "cell_type": "markdown",
      "source": [
        "# Basic Level:\n"
      ],
      "metadata": {
        "id": "Go5ww1EoXihG"
      }
    },
    {
      "cell_type": "markdown",
      "source": [
        "1. Write a Python program that checks if a given number is positive, negative, or zero.\n"
      ],
      "metadata": {
        "id": "OogOls25jCVU"
      }
    },
    {
      "cell_type": "code",
      "source": [
        "def check_number(num):\n",
        "    if num > 0:\n",
        "        print(f\"{num} is a positive number.\")\n",
        "    elif num < 0:\n",
        "        print(f\"{num} is a negative number.\")\n",
        "    else:\n",
        "        print(\"The number is zero.\")\n",
        "\n",
        "# Test the function\n",
        "number = float(input(\"Enter a number: \"))\n",
        "check_number(number)\n"
      ],
      "metadata": {
        "colab": {
          "base_uri": "https://localhost:8080/"
        },
        "id": "XxIOCa08jBt7",
        "outputId": "926143ef-d972-406a-f3a5-af46c200b3cc"
      },
      "execution_count": 22,
      "outputs": [
        {
          "output_type": "stream",
          "name": "stdout",
          "text": [
            "Enter a number: -9\n",
            "-9.0 is a negative number.\n"
          ]
        }
      ]
    },
    {
      "cell_type": "markdown",
      "source": [
        "2. Create a program to determine if a person is eligible to vote based on their age.\n"
      ],
      "metadata": {
        "id": "UkCgh0GYjFDa"
      }
    },
    {
      "cell_type": "code",
      "source": [
        "def is_eligible_to_vote(age):\n",
        "    if age >= 18:\n",
        "        print(\"You are eligible to vote.\")\n",
        "    else:\n",
        "        print(\"You are not eligible to vote.\")\n",
        "\n",
        "# Test the function\n",
        "age = int(input(\"Enter your age: \"))\n",
        "is_eligible_to_vote(age)\n"
      ],
      "metadata": {
        "colab": {
          "base_uri": "https://localhost:8080/"
        },
        "id": "zbZ-9wa4jbuo",
        "outputId": "84851018-769c-471a-d813-74092150a215"
      },
      "execution_count": 23,
      "outputs": [
        {
          "output_type": "stream",
          "name": "stdout",
          "text": [
            "Enter your age: 15\n",
            "You are not eligible to vote.\n"
          ]
        }
      ]
    },
    {
      "cell_type": "markdown",
      "source": [
        "3. Write a program to find the maximum of two given numbers using conditional statements.\n"
      ],
      "metadata": {
        "id": "RIz6cbaBjIJj"
      }
    },
    {
      "cell_type": "code",
      "source": [
        "def find_maximum(num1, num2):\n",
        "    if num1 > num2:\n",
        "        print(f\"The maximum number is {num1}.\")\n",
        "    elif num2 > num1:\n",
        "        print(f\"The maximum number is {num2}.\")\n",
        "    else:\n",
        "        print(\"Both numbers are equal.\")\n",
        "\n",
        "# Test the function\n",
        "num1 = float(input(\"Enter the first number: \"))\n",
        "num2 = float(input(\"Enter the second number: \"))\n",
        "find_maximum(num1, num2)\n"
      ],
      "metadata": {
        "colab": {
          "base_uri": "https://localhost:8080/"
        },
        "id": "ZyM-bpirjhsI",
        "outputId": "2533fb2c-1a30-470c-9244-42dd8f8399fc"
      },
      "execution_count": 24,
      "outputs": [
        {
          "output_type": "stream",
          "name": "stdout",
          "text": [
            "Enter the first number: 7\n",
            "Enter the second number: 9\n",
            "The maximum number is 9.0.\n"
          ]
        }
      ]
    },
    {
      "cell_type": "markdown",
      "source": [
        "4. Develop a program that calculates the grade of a student based on their exam score.\n"
      ],
      "metadata": {
        "id": "5v4ltTvBjKtV"
      }
    },
    {
      "cell_type": "code",
      "source": [
        "def assign_grade(score):\n",
        "    if score >= 90:\n",
        "        grade = \"A\"\n",
        "    elif score >= 80:\n",
        "        grade = \"B\"\n",
        "    elif score >= 70:\n",
        "        grade = \"C\"\n",
        "    elif score >= 60:\n",
        "        grade = \"D\"\n",
        "    else:\n",
        "        grade = \"F\"\n",
        "    print(f\"Score: {score} - Grade: {grade}\")\n",
        "\n",
        "# Test the function\n",
        "score = int(input(\"Enter the score (0-100): \"))\n",
        "assign_grade(score)\n"
      ],
      "metadata": {
        "colab": {
          "base_uri": "https://localhost:8080/"
        },
        "id": "oDcRfW7Pjkvf",
        "outputId": "c9f62fb7-e19f-4a23-97d3-02dfa8bca7b6"
      },
      "execution_count": 26,
      "outputs": [
        {
          "output_type": "stream",
          "name": "stdout",
          "text": [
            "Enter the score (0-100): 99\n",
            "Score: 99 - Grade: A\n"
          ]
        }
      ]
    },
    {
      "cell_type": "markdown",
      "source": [
        "5. Create a program that checks if a year is a leap year or not."
      ],
      "metadata": {
        "id": "gW8Vy4HVjM6V"
      }
    },
    {
      "cell_type": "code",
      "source": [
        "def is_leap_year(year):\n",
        "    if (year % 4 == 0 and year % 100 != 0) or (year % 400 == 0):\n",
        "        print(f\"{year} is a leap year.\")\n",
        "    else:\n",
        "        print(f\"{year} is not a leap year.\")\n",
        "\n",
        "# Test the function\n",
        "year = int(input(\"Enter a year: \"))\n",
        "is_leap_year(year)\n"
      ],
      "metadata": {
        "colab": {
          "base_uri": "https://localhost:8080/"
        },
        "id": "fyPzjRH3jOf5",
        "outputId": "5eb6ecb9-af1b-48be-c5d4-0d0cb7ce6e95"
      },
      "execution_count": 25,
      "outputs": [
        {
          "output_type": "stream",
          "name": "stdout",
          "text": [
            "Enter a year: 2020\n",
            "2020 is a leap year.\n"
          ]
        }
      ]
    },
    {
      "cell_type": "markdown",
      "source": [
        "# Intermediate Level:\n"
      ],
      "metadata": {
        "id": "0fHLHcOfj3wM"
      }
    },
    {
      "cell_type": "markdown",
      "source": [
        "11. Write a program that calculates the roots of a quadratic equation .\n"
      ],
      "metadata": {
        "id": "sr8bQQh4kAwq"
      }
    },
    {
      "cell_type": "code",
      "source": [
        "import math\n",
        "\n",
        "def quadratic_roots(a, b, c):\n",
        "    discriminant = b**2 - 4*a*c\n",
        "    if discriminant > 0:\n",
        "        root1 = (-b + math.sqrt(discriminant)) / (2*a)\n",
        "        root2 = (-b - math.sqrt(discriminant)) / (2*a)\n",
        "        print(f\"Roots are real and distinct: {root1}, {root2}\")\n",
        "    elif discriminant == 0:\n",
        "        root = -b / (2*a)\n",
        "        print(f\"Roots are real and equal: {root}\")\n",
        "    else:\n",
        "        real_part = -b / (2*a)\n",
        "        imaginary_part = math.sqrt(-discriminant) / (2*a)\n",
        "        print(f\"Roots are complex: {real_part} ± {imaginary_part}i\")\n",
        "\n",
        "# Test the function\n",
        "a, b, c = map(float, input(\"Enter coefficients a, b, and c separated by spaces: \").split())\n",
        "quadratic_roots(a, b, c)\n"
      ],
      "metadata": {
        "colab": {
          "base_uri": "https://localhost:8080/"
        },
        "id": "zPnHYtMKkRp8",
        "outputId": "a7820368-0433-4e29-ef59-5b1267dbe239"
      },
      "execution_count": 27,
      "outputs": [
        {
          "output_type": "stream",
          "name": "stdout",
          "text": [
            "Enter coefficients a, b, and c separated by spaces: 4 5 6\n",
            "Roots are complex: -0.625 ± 1.0532687216470449i\n"
          ]
        }
      ]
    },
    {
      "cell_type": "markdown",
      "source": [
        "12. Create a program that determines the day of the week based on the day number (1-7).\n"
      ],
      "metadata": {
        "id": "0THuZEdUkDgK"
      }
    },
    {
      "cell_type": "code",
      "source": [
        "def day_of_week(day_number):\n",
        "    days = {\n",
        "        1: \"Monday\",\n",
        "        2: \"Tuesday\",\n",
        "        3: \"Wednesday\",\n",
        "        4: \"Thursday\",\n",
        "        5: \"Friday\",\n",
        "        6: \"Saturday\",\n",
        "        7: \"Sunday\"\n",
        "    }\n",
        "    print(days.get(day_number, \"Invalid day number. Please enter a number between 1 and 7.\"))\n",
        "\n",
        "# Test the function\n",
        "day_number = int(input(\"Enter day number (1-7): \"))\n",
        "day_of_week(day_number)\n"
      ],
      "metadata": {
        "colab": {
          "base_uri": "https://localhost:8080/"
        },
        "id": "5sCErEHqkanN",
        "outputId": "019f7409-4206-42fc-dd7e-2d81ba3f3c87"
      },
      "execution_count": 28,
      "outputs": [
        {
          "output_type": "stream",
          "name": "stdout",
          "text": [
            "Enter day number (1-7): 8\n",
            "Invalid day number. Please enter a number between 1 and 7.\n"
          ]
        }
      ]
    },
    {
      "cell_type": "markdown",
      "source": [
        "13. Develop a program that calculates the factorial of a given number using recursion.\n"
      ],
      "metadata": {
        "id": "pYel83VkkGaM"
      }
    },
    {
      "cell_type": "code",
      "source": [
        "def factorial(n):\n",
        "    if n == 0 or n == 1:\n",
        "        return 1\n",
        "    return n * factorial(n - 1)\n",
        "\n",
        "# Test the function\n",
        "num = int(input(\"Enter a number to calculate its factorial: \"))\n",
        "if num < 0:\n",
        "    print(\"Factorial is not defined for negative numbers.\")\n",
        "else:\n",
        "    print(f\"Factorial of {num} is {factorial(num)}\")\n"
      ],
      "metadata": {
        "colab": {
          "base_uri": "https://localhost:8080/"
        },
        "id": "zM6GmZx2kgBg",
        "outputId": "0baa5637-52f4-4000-eb9c-d72ef18d8ae2"
      },
      "execution_count": 29,
      "outputs": [
        {
          "output_type": "stream",
          "name": "stdout",
          "text": [
            "Enter a number to calculate its factorial: 78\n",
            "Factorial of 78 is 11324281178206297831457521158732046228731749579488251990048962825668835325234200766245086213177344000000000000000000\n"
          ]
        }
      ]
    },
    {
      "cell_type": "markdown",
      "source": [
        "14. Write a program to find the largest among three numbers without using the `max()` function."
      ],
      "metadata": {
        "id": "4_xnkRFJkJY7"
      }
    },
    {
      "cell_type": "code",
      "source": [
        "def largest_of_three(a, b, c):\n",
        "    if a > b and a > c:\n",
        "        largest = a\n",
        "    elif b > c:\n",
        "        largest = b\n",
        "    else:\n",
        "        largest = c\n",
        "    print(f\"The largest number is {largest}\")\n",
        "\n",
        "# Test the function\n",
        "a, b, c = map(float, input(\"Enter three numbers separated by spaces: \").split())\n",
        "largest_of_three(a, b, c)\n"
      ],
      "metadata": {
        "colab": {
          "base_uri": "https://localhost:8080/"
        },
        "id": "lNbNoJmaklRQ",
        "outputId": "935bd988-81e4-4ae4-d982-e7b5e35872b9"
      },
      "execution_count": 30,
      "outputs": [
        {
          "output_type": "stream",
          "name": "stdout",
          "text": [
            "Enter three numbers separated by spaces: 45 55 56\n",
            "The largest number is 56.0\n"
          ]
        }
      ]
    },
    {
      "cell_type": "markdown",
      "source": [
        "15. Create a program that simulates a basic ATM transaction menu.\n"
      ],
      "metadata": {
        "id": "Os9Y6gIjkMDD"
      }
    },
    {
      "cell_type": "code",
      "source": [
        "def atm_menu():\n",
        "    balance = 5000  # Initial balance\n",
        "    while True:\n",
        "        print(\"\\nATM Menu:\")\n",
        "        print(\"1. Check Balance\")\n",
        "        print(\"2. Deposit\")\n",
        "        print(\"3. Withdraw\")\n",
        "        print(\"4. Exit\")\n",
        "        choice = int(input(\"Enter your choice: \"))\n",
        "\n",
        "        if choice == 1:\n",
        "            print(f\"Your current balance is ${balance}\")\n",
        "        elif choice == 2:\n",
        "            deposit = float(input(\"Enter amount to deposit: \"))\n",
        "            balance += deposit\n",
        "            print(f\"Deposited ${deposit}. New balance is ${balance}\")\n",
        "        elif choice == 3:\n",
        "            withdraw = float(input(\"Enter amount to withdraw: \"))\n",
        "            if withdraw > balance:\n",
        "                print(\"Insufficient balance.\")\n",
        "            else:\n",
        "                balance -= withdraw\n",
        "                print(f\"Withdrew ${withdraw}. New balance is ${balance}\")\n",
        "        elif choice == 4:\n",
        "            print(\"Thank you for using the ATM. Goodbye!\")\n",
        "            break\n",
        "        else:\n",
        "            print(\"Invalid choice. Please try again.\")\n",
        "\n",
        "# Run the ATM menu\n",
        "atm_menu()\n"
      ],
      "metadata": {
        "colab": {
          "base_uri": "https://localhost:8080/"
        },
        "id": "UXJ8pZ3nksB6",
        "outputId": "d80743b9-c3ec-4826-f8b0-664f6989676b"
      },
      "execution_count": 31,
      "outputs": [
        {
          "output_type": "stream",
          "name": "stdout",
          "text": [
            "\n",
            "ATM Menu:\n",
            "1. Check Balance\n",
            "2. Deposit\n",
            "3. Withdraw\n",
            "4. Exit\n",
            "Enter your choice: 4\n",
            "Thank you for using the ATM. Goodbye!\n"
          ]
        }
      ]
    },
    {
      "cell_type": "markdown",
      "source": [
        "16. Build a program that checks if a given string is a palindrome or not."
      ],
      "metadata": {
        "id": "nGwXGfKrkO6V"
      }
    },
    {
      "cell_type": "code",
      "source": [
        "def is_palindrome(string):\n",
        "    cleaned_string = ''.join(filter(str.isalnum, string)).lower()  # Remove non-alphanumeric characters\n",
        "    if cleaned_string == cleaned_string[::-1]:\n",
        "        print(f\"'{string}' is a palindrome.\")\n",
        "    else:\n",
        "        print(f\"'{string}' is not a palindrome.\")\n",
        "\n",
        "# Test the function\n",
        "string = input(\"Enter a string: \")\n",
        "is_palindrome(string)\n"
      ],
      "metadata": {
        "colab": {
          "base_uri": "https://localhost:8080/"
        },
        "id": "vQNUaBFSkQbN",
        "outputId": "002fd5de-65d6-4ca4-d1a2-9c782df7a52a"
      },
      "execution_count": 32,
      "outputs": [
        {
          "output_type": "stream",
          "name": "stdout",
          "text": [
            "Enter a string: abccba\n",
            "'abccba' is a palindrome.\n"
          ]
        }
      ]
    },
    {
      "cell_type": "markdown",
      "source": [
        "# Advanced Level:\n"
      ],
      "metadata": {
        "id": "uAC5j4FDk8MS"
      }
    },
    {
      "cell_type": "markdown",
      "source": [
        "21. Create a program that calculates the income tax based on the user's income and tax brackets.\n"
      ],
      "metadata": {
        "id": "ALh2S-RflArr"
      }
    },
    {
      "cell_type": "code",
      "source": [
        "def calculate_tax(income):\n",
        "    tax = 0\n",
        "    if income <= 10000:\n",
        "        tax = 0\n",
        "    elif income <= 50000:\n",
        "        tax = (income - 10000) * 0.1\n",
        "    elif income <= 100000:\n",
        "        tax = (40000 * 0.1) + (income - 50000) * 0.2\n",
        "    else:\n",
        "        tax = (40000 * 0.1) + (50000 * 0.2) + (income - 100000) * 0.3\n",
        "\n",
        "    return tax\n",
        "\n",
        "# Test the function\n",
        "income = float(input(\"Enter your annual income: \"))\n",
        "tax = calculate_tax(income)\n",
        "print(f\"Your income tax is: ${tax:.2f}\")\n"
      ],
      "metadata": {
        "colab": {
          "base_uri": "https://localhost:8080/"
        },
        "id": "DUQyidDElPKh",
        "outputId": "0b8b0e60-db93-44b7-e007-a657c5e1a7c8"
      },
      "execution_count": 33,
      "outputs": [
        {
          "output_type": "stream",
          "name": "stdout",
          "text": [
            "Enter your annual income: 80000\n",
            "Your income tax is: $10000.00\n"
          ]
        }
      ]
    },
    {
      "cell_type": "markdown",
      "source": [
        "22. Write a program that simulates a rock-paper-scissors game against the computer.\n"
      ],
      "metadata": {
        "id": "9HmH-1jGlDLv"
      }
    },
    {
      "cell_type": "code",
      "source": [
        "import random\n",
        "\n",
        "def rock_paper_scissors():\n",
        "    choices = [\"rock\", \"paper\", \"scissors\"]\n",
        "    computer_choice = random.choice(choices)\n",
        "    user_choice = input(\"Enter rock, paper, or scissors: \").lower()\n",
        "\n",
        "    if user_choice not in choices:\n",
        "        print(\"Invalid choice. Try again.\")\n",
        "        return\n",
        "\n",
        "    print(f\"You chose: {user_choice}\")\n",
        "    print(f\"Computer chose: {computer_choice}\")\n",
        "\n",
        "    if user_choice == computer_choice:\n",
        "        print(\"It's a tie!\")\n",
        "    elif (user_choice == \"rock\" and computer_choice == \"scissors\") or \\\n",
        "         (user_choice == \"paper\" and computer_choice == \"rock\") or \\\n",
        "         (user_choice == \"scissors\" and computer_choice == \"paper\"):\n",
        "        print(\"You win!\")\n",
        "    else:\n",
        "        print(\"Computer wins!\")\n",
        "\n",
        "# Play the game\n",
        "rock_paper_scissors()\n"
      ],
      "metadata": {
        "colab": {
          "base_uri": "https://localhost:8080/"
        },
        "id": "uM8KtjyslWSc",
        "outputId": "7769b3ef-5c72-4f8b-adc2-0b7fd3b8009b"
      },
      "execution_count": 34,
      "outputs": [
        {
          "output_type": "stream",
          "name": "stdout",
          "text": [
            "Enter rock, paper, or scissors: rock\n",
            "You chose: rock\n",
            "Computer chose: rock\n",
            "It's a tie!\n"
          ]
        }
      ]
    },
    {
      "cell_type": "markdown",
      "source": [
        "23. Develop a program that generates a random password based on user preferences (length, complexity).\n"
      ],
      "metadata": {
        "id": "nH_-5avrlF7J"
      }
    },
    {
      "cell_type": "code",
      "source": [
        "import random\n",
        "import string\n",
        "\n",
        "def generate_password(length, use_special_chars):\n",
        "    characters = string.ascii_letters + string.digits\n",
        "    if use_special_chars:\n",
        "        characters += string.punctuation\n",
        "\n",
        "    password = ''.join(random.choice(characters) for _ in range(length))\n",
        "    return password\n",
        "\n",
        "# Test the function\n",
        "length = int(input(\"Enter the desired password length: \"))\n",
        "use_special_chars = input(\"Include special characters? (yes/no): \").lower() == \"yes\"\n",
        "password = generate_password(length, use_special_chars)\n",
        "print(f\"Generated password: {password}\")\n"
      ],
      "metadata": {
        "colab": {
          "base_uri": "https://localhost:8080/"
        },
        "id": "OIRoVxYWlcj2",
        "outputId": "83274d5d-1d7f-4a0b-ef3c-54938071904f"
      },
      "execution_count": 35,
      "outputs": [
        {
          "output_type": "stream",
          "name": "stdout",
          "text": [
            "Enter the desired password length: 9\n",
            "Include special characters? (yes/no): no\n",
            "Generated password: gGlDEa01q\n"
          ]
        }
      ]
    },
    {
      "cell_type": "markdown",
      "source": [
        "24. Create a program that implements a simple text-based adventure game with branching scenarios.\n"
      ],
      "metadata": {
        "id": "6HPs_VtOlIgI"
      }
    },
    {
      "cell_type": "code",
      "source": [
        "def adventure_game():\n",
        "    print(\"You wake up in a dark forest. Two paths lie ahead.\")\n",
        "    choice1 = input(\"Do you take the left path or the right path? (left/right): \").lower()\n",
        "\n",
        "    if choice1 == \"left\":\n",
        "        print(\"You encounter a friendly elf who offers you a magical sword.\")\n",
        "        choice2 = input(\"Do you accept the sword or decline? (accept/decline): \").lower()\n",
        "        if choice2 == \"accept\":\n",
        "            print(\"With the magical sword, you defeat a lurking monster and find treasure. You win!\")\n",
        "        else:\n",
        "            print(\"Without the sword, you are unable to fight the monster. Game over.\")\n",
        "    elif choice1 == \"right\":\n",
        "        print(\"You find a cave filled with glowing crystals.\")\n",
        "        choice2 = input(\"Do you explore the cave or return to the forest? (explore/return): \").lower()\n",
        "        if choice2 == \"explore\":\n",
        "            print(\"You discover ancient ruins and hidden knowledge. You win!\")\n",
        "        else:\n",
        "            print(\"Returning to the forest, you get lost. Game over.\")\n",
        "    else:\n",
        "        print(\"Invalid choice. Game over.\")\n",
        "\n",
        "# Play the game\n",
        "adventure_game()\n"
      ],
      "metadata": {
        "colab": {
          "base_uri": "https://localhost:8080/"
        },
        "id": "EVOwuXgyllIl",
        "outputId": "8b60c821-5af3-4d56-a030-c17baf8db328"
      },
      "execution_count": 36,
      "outputs": [
        {
          "output_type": "stream",
          "name": "stdout",
          "text": [
            "You wake up in a dark forest. Two paths lie ahead.\n",
            "Do you take the left path or the right path? (left/right): left\n",
            "You encounter a friendly elf who offers you a magical sword.\n",
            "Do you accept the sword or decline? (accept/decline): accept\n",
            "With the magical sword, you defeat a lurking monster and find treasure. You win!\n"
          ]
        }
      ]
    },
    {
      "cell_type": "markdown",
      "source": [
        "25. Build a program that solves a linear equation for x, considering different cases.\n"
      ],
      "metadata": {
        "id": "jw422_vnlK0N"
      }
    },
    {
      "cell_type": "code",
      "source": [
        "def solve_linear_equation(a, b):\n",
        "    if a == 0:\n",
        "        if b == 0:\n",
        "            return \"Infinite solutions.\"\n",
        "        else:\n",
        "            return \"No solution.\"\n",
        "    else:\n",
        "        x = -b / a\n",
        "        return f\"The solution is x = {x:.2f}\"\n",
        "\n",
        "# Test the function\n",
        "a = float(input(\"Enter the coefficient of x (a): \"))\n",
        "b = float(input(\"Enter the constant term (b): \"))\n",
        "solution = solve_linear_equation(a, b)\n",
        "print(solution)\n"
      ],
      "metadata": {
        "colab": {
          "base_uri": "https://localhost:8080/"
        },
        "id": "p93RXlJplsSG",
        "outputId": "3915a7fa-1389-448f-cd99-734feda4ebe7"
      },
      "execution_count": 38,
      "outputs": [
        {
          "output_type": "stream",
          "name": "stdout",
          "text": [
            "Enter the coefficient of x (a): 4\n",
            "Enter the constant term (b): 6\n",
            "The solution is x = -1.50\n"
          ]
        }
      ]
    },
    {
      "cell_type": "markdown",
      "source": [
        "# Challenge Level"
      ],
      "metadata": {
        "id": "XmWTV8TrmBwo"
      }
    },
    {
      "cell_type": "markdown",
      "source": [
        "31. Create a program that validates a password based on complexity rules (length, characters, etc.).\n"
      ],
      "metadata": {
        "id": "vHHLhoJ3mGuX"
      }
    },
    {
      "cell_type": "code",
      "source": [
        "import re\n",
        "\n",
        "def validate_password(password):\n",
        "    if len(password) < 8:\n",
        "        return \"Password must be at least 8 characters long.\"\n",
        "    if not re.search(r\"[A-Z]\", password):\n",
        "        return \"Password must contain at least one uppercase letter.\"\n",
        "    if not re.search(r\"[a-z]\", password):\n",
        "        return \"Password must contain at least one lowercase letter.\"\n",
        "    if not re.search(r\"\\d\", password):\n",
        "        return \"Password must contain at least one digit.\"\n",
        "    if not re.search(r\"[!@#$%^&*(),.?\\\":{}|<>]\", password):\n",
        "        return \"Password must contain at least one special character.\"\n",
        "    return \"Password is valid.\"\n",
        "\n",
        "# Test the function\n",
        "password = input(\"Enter a password: \")\n",
        "result = validate_password(password)\n",
        "print(result)\n"
      ],
      "metadata": {
        "colab": {
          "base_uri": "https://localhost:8080/"
        },
        "id": "pyd7HcIdmUM7",
        "outputId": "4d9468e0-959b-4447-8eea-050652071150"
      },
      "execution_count": 39,
      "outputs": [
        {
          "output_type": "stream",
          "name": "stdout",
          "text": [
            "Enter a password: yu7788-0\n",
            "Password must contain at least one uppercase letter.\n"
          ]
        }
      ]
    },
    {
      "cell_type": "markdown",
      "source": [
        "33. Write a program that calculates the greatest common divisor (GCD) of two numbers using the Euclidean\n",
        "algorithm.\n"
      ],
      "metadata": {
        "id": "b5iN-snWmM78"
      }
    },
    {
      "cell_type": "code",
      "source": [
        "def gcd(a, b):\n",
        "    while b:\n",
        "        a, b = b, a % b\n",
        "    return a\n",
        "\n",
        "# Test the function\n",
        "num1 = int(input(\"Enter the first number: \"))\n",
        "num2 = int(input(\"Enter the second number: \"))\n",
        "result = gcd(num1, num2)\n",
        "print(f\"The GCD of {num1} and {num2} is {result}.\")\n"
      ],
      "metadata": {
        "colab": {
          "base_uri": "https://localhost:8080/"
        },
        "id": "s9vlQoHVmhzf",
        "outputId": "d435dddd-0d38-4cc0-df07-8f62e56180aa"
      },
      "execution_count": 41,
      "outputs": [
        {
          "output_type": "stream",
          "name": "stdout",
          "text": [
            "Enter the first number: 5\n",
            "Enter the second number: 6\n",
            "The GCD of 5 and 6 is 1.\n"
          ]
        }
      ]
    },
    {
      "cell_type": "markdown",
      "source": [
        "36. Write a program that generates Fibonacci numbers up to a specified term using iterative methods.\n"
      ],
      "metadata": {
        "id": "adDEV5UOmxZ_"
      }
    },
    {
      "cell_type": "code",
      "source": [
        "def generate_fibonacci(n):\n",
        "    if n <= 0:\n",
        "        print(\"Please enter a positive integer.\")\n",
        "        return\n",
        "    elif n == 1:\n",
        "        print([0])\n",
        "        return\n",
        "\n",
        "    fibonacci = [0, 1]\n",
        "    for i in range(2, n):\n",
        "        fibonacci.append(fibonacci[i - 1] + fibonacci[i - 2])\n",
        "\n",
        "    print(f\"First {n} terms of the Fibonacci sequence: {fibonacci}\")\n",
        "\n",
        "# Input for the number of terms\n",
        "num_terms = int(input(\"Enter the number of terms: \"))\n",
        "generate_fibonacci(num_terms)\n"
      ],
      "metadata": {
        "colab": {
          "base_uri": "https://localhost:8080/"
        },
        "id": "ms7QYIqBm6ix",
        "outputId": "16958c7a-9105-4928-f78e-fa6b69c0e864"
      },
      "execution_count": 42,
      "outputs": [
        {
          "output_type": "stream",
          "name": "stdout",
          "text": [
            "Enter the number of terms: 7\n",
            "First 7 terms of the Fibonacci sequence: [0, 1, 1, 2, 3, 5, 8]\n"
          ]
        }
      ]
    },
    {
      "cell_type": "markdown",
      "source": [
        "37. Develop a program that calculates the nth term of the Fibonacci sequence using memoization.\n"
      ],
      "metadata": {
        "id": "BGzZI_Dvm0Gp"
      }
    },
    {
      "cell_type": "code",
      "source": [
        "def fibonacci_memoization(n, memo={}):\n",
        "    if n in memo:\n",
        "        return memo[n]\n",
        "    if n <= 1:\n",
        "        return n\n",
        "\n",
        "    memo[n] = fibonacci_memoization(n - 1, memo) + fibonacci_memoization(n - 2, memo)\n",
        "    return memo[n]\n",
        "\n",
        "# Input for the nth term\n",
        "nth_term = int(input(\"Enter the nth term: \"))\n",
        "result = fibonacci_memoization(nth_term)\n",
        "print(f\"The {nth_term}th term in the Fibonacci sequence is {result}.\")\n"
      ],
      "metadata": {
        "colab": {
          "base_uri": "https://localhost:8080/"
        },
        "id": "Lb-cubTGm9eO",
        "outputId": "8a0151c0-9535-4255-dec5-be66750562ef"
      },
      "execution_count": 43,
      "outputs": [
        {
          "output_type": "stream",
          "name": "stdout",
          "text": [
            "Enter the nth term: 8\n",
            "The 8th term in the Fibonacci sequence is 21.\n"
          ]
        }
      ]
    },
    {
      "cell_type": "markdown",
      "source": [
        "38. Create a program that generates a calendar for a given month and year using conditional statements."
      ],
      "metadata": {
        "id": "7APaHoSPm3jv"
      }
    },
    {
      "cell_type": "code",
      "source": [
        "import calendar\n",
        "\n",
        "def display_calendar():\n",
        "    year = int(input(\"Enter the year: \"))\n",
        "    month = int(input(\"Enter the month (1-12): \"))\n",
        "\n",
        "    if 1 <= month <= 12:\n",
        "        print(calendar.month(year, month))\n",
        "    else:\n",
        "        print(\"Invalid month. Please enter a value between 1 and 12.\")\n",
        "\n",
        "# Generate calendar\n",
        "display_calendar()\n"
      ],
      "metadata": {
        "colab": {
          "base_uri": "https://localhost:8080/"
        },
        "id": "klV8gP1Rm6Im",
        "outputId": "a84587d1-8ec1-4c07-b978-52cc213b625a"
      },
      "execution_count": 44,
      "outputs": [
        {
          "output_type": "stream",
          "name": "stdout",
          "text": [
            "Enter the year: 2089\n",
            "Enter the month (1-12): 7\n",
            "     July 2089\n",
            "Mo Tu We Th Fr Sa Su\n",
            "             1  2  3\n",
            " 4  5  6  7  8  9 10\n",
            "11 12 13 14 15 16 17\n",
            "18 19 20 21 22 23 24\n",
            "25 26 27 28 29 30 31\n",
            "\n"
          ]
        }
      ]
    }
  ]
}