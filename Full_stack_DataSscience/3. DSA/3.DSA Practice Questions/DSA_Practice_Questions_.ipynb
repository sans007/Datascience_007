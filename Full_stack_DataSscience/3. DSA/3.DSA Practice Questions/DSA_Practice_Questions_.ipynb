{
  "cells": [
    {
      "cell_type": "markdown",
      "metadata": {
        "id": "gqnTvw_IHOFP"
      },
      "source": [
        "2. Write a function to reverse a linked list in-place"
      ]
    },
    {
      "cell_type": "code",
      "execution_count": 1,
      "metadata": {
        "colab": {
          "base_uri": "https://localhost:8080/"
        },
        "id": "H7h9-sUyGjvl",
        "outputId": "b61a4b13-6f29-4ac6-cc9e-f4489e809ee6"
      },
      "outputs": [
        {
          "name": "stdout",
          "output_type": "stream",
          "text": [
            "1->2->3->4->5->\n",
            "Reverse LinkedList-\n",
            "5->4->3->2->1->"
          ]
        }
      ],
      "source": [
        "class Node:\n",
        "\n",
        "  def __init__(self,data=None,next=None):\n",
        "    self.data = data\n",
        "    self.next = next\n",
        "\n",
        "class LinkedList:\n",
        "\n",
        "  def __init__(self):\n",
        "    self.head = None\n",
        "\n",
        "  def reverse(self):\n",
        "    prev = None\n",
        "    curr = self.head\n",
        "\n",
        "    while(curr!= None):\n",
        "      next = curr.next\n",
        "      curr.next = prev\n",
        "      prev = curr\n",
        "      curr = next\n",
        "\n",
        "    self.head = prev\n",
        "\n",
        "  def append(self,new_data):\n",
        "        new_node = Node(new_data)\n",
        "\n",
        "        if self.head is None:\n",
        "            self.head = new_node\n",
        "            return\n",
        "        last = self.head\n",
        "\n",
        "        while last.next:\n",
        "            last = last.next\n",
        "        last.next = new_node\n",
        "\n",
        "  def traverse(self):\n",
        "        temp = self.head\n",
        "        while temp != None:\n",
        "            print(temp.data,end=\"->\")\n",
        "            temp = temp.next\n",
        "\n",
        "l1 = LinkedList()\n",
        "l1.append(1)\n",
        "l1.append(2)\n",
        "l1.append(3)\n",
        "l1.append(4)\n",
        "l1.append(5)\n",
        "\n",
        "l1.traverse()\n",
        "\n",
        "l1.reverse()\n",
        "\n",
        "print('\\nReverse LinkedList-')\n",
        "l1.traverse()"
      ]
    },
    {
      "cell_type": "markdown",
      "metadata": {
        "id": "B3Nvj2yJSmE_"
      },
      "source": [
        "3. Detect cycle in a linked list"
      ]
    },
    {
      "cell_type": "code",
      "execution_count": 2,
      "metadata": {
        "colab": {
          "base_uri": "https://localhost:8080/"
        },
        "id": "KCxXbEoCSlu-",
        "outputId": "7faecc85-38b5-4158-f388-dbb534ddceb2"
      },
      "outputs": [
        {
          "data": {
            "text/plain": [
              "True"
            ]
          },
          "execution_count": 2,
          "metadata": {},
          "output_type": "execute_result"
        }
      ],
      "source": [
        "class Node:\n",
        "\n",
        "  def __init__(self,data=None,next=None):\n",
        "    self.data = data\n",
        "    self.next = next\n",
        "\n",
        "class LinkedList:\n",
        "\n",
        "  def __init__(self):\n",
        "    self.head = None\n",
        "\n",
        "  def isCyclePresent(self):\n",
        "    slow = self.head\n",
        "    fast = self.head\n",
        "\n",
        "    while(fast and fast.next):\n",
        "      slow = slow.next\n",
        "      fast = fast.next.next\n",
        "\n",
        "      if fast and slow.data == fast.data:\n",
        "        return True\n",
        "\n",
        "    return False\n",
        "\n",
        "\n",
        "  def append(self,new_data):\n",
        "        new_node = Node(new_data)\n",
        "\n",
        "        if self.head is None:\n",
        "            self.head = new_node\n",
        "            return\n",
        "        last = self.head\n",
        "\n",
        "        while last.next:\n",
        "            last = last.next\n",
        "        last.next = new_node\n",
        "\n",
        "  def traverse(self):\n",
        "        temp = self.head\n",
        "        while temp != None:\n",
        "            print(temp.data,end=\"->\")\n",
        "            temp = temp.next\n",
        "\n",
        "l1 = LinkedList()\n",
        "l1.append(1)\n",
        "l1.append(2)\n",
        "l1.append(3)\n",
        "l1.append(4)\n",
        "l1.append(5)\n",
        "\n",
        "l1.head.next.next.next.next.next = l1.head\n",
        "\n",
        "l1.isCyclePresent()\n"
      ]
    },
    {
      "cell_type": "markdown",
      "metadata": {
        "id": "Ol1-lDGbWZUJ"
      },
      "source": [
        "<br>4.Merge two sorted linked list into one\n",
        " <br>1->3->5->6->null and 2->4->6->8->null should <br>be merged to make\n",
        " 1->2->3->4->5->6->7->8"
      ]
    },
    {
      "cell_type": "code",
      "execution_count": 3,
      "metadata": {
        "colab": {
          "base_uri": "https://localhost:8080/"
        },
        "id": "2brhoJMNWbIX",
        "outputId": "14b0838a-51dc-4656-b520-f05e00d2b4f2"
      },
      "outputs": [
        {
          "name": "stdout",
          "output_type": "stream",
          "text": [
            "Merged Linked List is:\n",
            "1->2->3->4->5->6->7->8->"
          ]
        }
      ],
      "source": [
        "class Node:\n",
        "\n",
        "  def __init__(self,data=None,next=None):\n",
        "    self.data = data\n",
        "    self.next = next\n",
        "\n",
        "\n",
        "\n",
        "class LinkedList():\n",
        "\n",
        "  def __init__(self):\n",
        "    self.head = None\n",
        "\n",
        "  def traverse(self):\n",
        "    temp = self.head\n",
        "    while(temp != None):\n",
        "      print(temp.data,end=\"->\")\n",
        "      temp = temp.next\n",
        "\n",
        "  def append(self,new_data):\n",
        "        new_node = Node(new_data)\n",
        "\n",
        "        if self.head is None:\n",
        "            self.head = new_node\n",
        "            return\n",
        "        last = self.head\n",
        "\n",
        "        while last.next:\n",
        "            last = last.next\n",
        "        last.next = new_node\n",
        "\n",
        "\n",
        "def mergeLists(head1, head2):\n",
        "\n",
        "    temp = None\n",
        "\n",
        "    if head1 is None:\n",
        "        return head2\n",
        "\n",
        "    if head2 is None:\n",
        "        return head1\n",
        "\n",
        "\n",
        "    if head1.data <= head2.data:\n",
        "\n",
        "        temp = head1\n",
        "        temp.next = mergeLists(head1.next, head2)\n",
        "\n",
        "    else:\n",
        "\n",
        "        temp = head2\n",
        "        temp.next = mergeLists(head1, head2.next)\n",
        "\n",
        "    return temp\n",
        "\n",
        "\n",
        "\n",
        "\n",
        "\n",
        "list1 = LinkedList()\n",
        "list1.append(1)\n",
        "list1.append(3)\n",
        "list1.append(5)\n",
        "list1.append(7)\n",
        "\n",
        "list2 = LinkedList()\n",
        "list2.append(2)\n",
        "list2.append(4)\n",
        "list2.append(6)\n",
        "list2.append(8)\n",
        "\n",
        "\n",
        "\n",
        "\n",
        "list1.head = mergeLists(list1.head,list2.head)\n",
        "print(\"Merged Linked List is:\")\n",
        "list1.traverse()\n",
        "\n",
        "\n"
      ]
    },
    {
      "cell_type": "markdown",
      "metadata": {
        "id": "vXZgtrI8ZMFK"
      },
      "source": [
        " 5.Write a function to remove nth node from the end in a linked list\n",
        " 1->2->3->4->5->6, removing 2nd node from end will return 1->2->3->4->6"
      ]
    },
    {
      "cell_type": "code",
      "execution_count": 4,
      "metadata": {
        "colab": {
          "base_uri": "https://localhost:8080/"
        },
        "id": "-yltcbR0Xe8G",
        "outputId": "8e52254e-9185-4b80-d21e-7cde4ec1b6da"
      },
      "outputs": [
        {
          "name": "stdout",
          "output_type": "stream",
          "text": [
            "1->2->3->4->5->6->\n",
            "Linked List after Deletion-\n",
            "1->2->3->4->6->"
          ]
        }
      ],
      "source": [
        "class Node:\n",
        "    def __init__(self, data):\n",
        "        self.data = data\n",
        "        self.next = None\n",
        "\n",
        "\n",
        "class LinkedList:\n",
        "    def __init__(self):\n",
        "        self.head = None\n",
        "\n",
        "    def append(self,new_data):\n",
        "        new_node = Node(new_data)\n",
        "\n",
        "        if self.head is None:\n",
        "            self.head = new_node\n",
        "            return\n",
        "        last = self.head\n",
        "\n",
        "        while last.next:\n",
        "            last = last.next\n",
        "        last.next = new_node\n",
        "\n",
        "\n",
        "    def traverse(self):\n",
        "        temp = self.head\n",
        "        while temp != None:\n",
        "            print(temp.data,end=\"->\")\n",
        "            temp = temp.next\n",
        "\n",
        "    def deleteNthNodeFromEnd(self,head, n):\n",
        "        fast = head\n",
        "        slow = head\n",
        "\n",
        "        for i in range(n):\n",
        "            fast = fast.next\n",
        "\n",
        "        if not fast:\n",
        "            return head.next\n",
        "\n",
        "        while fast.next:\n",
        "            fast = fast.next\n",
        "            slow = slow.next\n",
        "\n",
        "        slow.next = slow.next.next\n",
        "        return head\n",
        "\n",
        "l1 = LinkedList()\n",
        "l1.append(1)\n",
        "l1.append(2)\n",
        "l1.append(3)\n",
        "l1.append(4)\n",
        "l1.append(5)\n",
        "l1.append(6)\n",
        "\n",
        "\n",
        "l1.traverse()\n",
        "\n",
        "l1.deleteNthNodeFromEnd(l1.head, 2)\n",
        "\n",
        "print(\"\\nLinked List after Deletion-\")\n",
        "l1.traverse()"
      ]
    },
    {
      "cell_type": "markdown",
      "metadata": {
        "id": "w-uPsgwnke2J"
      },
      "source": [
        "6.Remove duplicates from a sorted linked list\n",
        " 1->2->3->3->4->4->4->5  should be changed to 1->2->3->4->5"
      ]
    },
    {
      "cell_type": "code",
      "execution_count": 5,
      "metadata": {
        "colab": {
          "base_uri": "https://localhost:8080/"
        },
        "id": "fSP3htmRXe4s",
        "outputId": "30c36895-9768-409b-f42d-156d3b7987de"
      },
      "outputs": [
        {
          "name": "stdout",
          "output_type": "stream",
          "text": [
            "1-> 2-> 3-> 4-> 5-> "
          ]
        }
      ],
      "source": [
        "class Node:\n",
        "\n",
        "  def __init__(self,data=None,next=None):\n",
        "    self.data = data\n",
        "    self.next = next\n",
        "\n",
        "class LinkedList:\n",
        "\n",
        "  def __init__(self):\n",
        "    self.head = None\n",
        "\n",
        "  def append(self,newData):\n",
        "    new_node = Node(newData)\n",
        "\n",
        "    if self.head == None:\n",
        "      self.head = new_node\n",
        "      return\n",
        "    last = self.head\n",
        "\n",
        "    while last.next:\n",
        "      last = last.next\n",
        "    last.next = new_node\n",
        "\n",
        "  def traverse(self):\n",
        "    temp = self.head\n",
        "    while temp:\n",
        "      print(temp.data,end=\"->\")\n",
        "      temp = temp.next\n",
        "\n",
        "  def removeDuplicates(self,head):\n",
        "    track = {}\n",
        "    temp = head\n",
        "\n",
        "    while(temp != None):\n",
        "        if (not temp.data in track):\n",
        "            print(temp.data, end=\"-> \")\n",
        "\n",
        "        track[temp.data] = True\n",
        "        temp = temp.next\n",
        "\n",
        "\n",
        "l1 = LinkedList()\n",
        "l1.append(1)\n",
        "l1.append(2)\n",
        "l1.append(3)\n",
        "l1.append(3)\n",
        "l1.append(4)\n",
        "l1.append(4)\n",
        "l1.append(4)\n",
        "l1.append(5)\n",
        "\n",
        "\n",
        "l1.removeDuplicates(l1.head)\n",
        "\n"
      ]
    },
    {
      "cell_type": "markdown",
      "metadata": {
        "id": "yAaqlxLnl-R-"
      },
      "source": [
        "7.Find the intersection of the two linked lists\n",
        " 1->2->3->4->8->6->9  5->1->6->7  , intersection 1->6"
      ]
    },
    {
      "cell_type": "code",
      "execution_count": 6,
      "metadata": {
        "colab": {
          "base_uri": "https://localhost:8080/"
        },
        "id": "YuPYqDp4Xe1h",
        "outputId": "b7cb3642-ad19-414f-d0eb-4dc867f77bd9"
      },
      "outputs": [
        {
          "name": "stdout",
          "output_type": "stream",
          "text": [
            "Intersection Point: 1\n"
          ]
        }
      ],
      "source": [
        "class Node:\n",
        "\n",
        "  def __init__(self,data=None,next=None):\n",
        "    self.data = data\n",
        "    self.next = next\n",
        "\n",
        "class LinkedList:\n",
        "\n",
        "  def __init__(self):\n",
        "    self.head = None\n",
        "\n",
        "  def append(self,newData):\n",
        "    new_node = Node(newData)\n",
        "\n",
        "    if self.head == None:\n",
        "      self.head = new_node\n",
        "      return\n",
        "    last = self.head\n",
        "\n",
        "    while last.next:\n",
        "      last = last.next\n",
        "    last.next = new_node\n",
        "\n",
        "  def traverse(self):\n",
        "    temp = self.head\n",
        "    while temp:\n",
        "      print(temp.data,end=\"->\")\n",
        "      temp = temp.next\n",
        "\n",
        "def intersectionNode(head1,head2):\n",
        "  while head2:\n",
        "    temp = head1\n",
        "    while temp:\n",
        "      if temp.data == head2.data:\n",
        "         return head2.data\n",
        "      temp = temp.next\n",
        "    head2 = head2.next\n",
        "  return None\n",
        "\n",
        "\n",
        "\n",
        "List1 = LinkedList()\n",
        "List2 = LinkedList()\n",
        "\n",
        "List1.append(1)\n",
        "List1.append(2)\n",
        "List1.append(3)\n",
        "List1.append(4)\n",
        "List1.append(8)\n",
        "List1.append(6)\n",
        "List1.append(9)\n",
        "\n",
        "List2.append(5)\n",
        "List2.append(1)\n",
        "List2.append(6)\n",
        "List2.append(7)\n",
        "\n",
        "# List1.traverse()\n",
        "# List2.traverse()\n",
        "\n",
        "intersectionPoint = intersectionNode(List1.head, List2.head)\n",
        "if not intersectionPoint:\n",
        "        print(\" No Intersection Point \")\n",
        "else:\n",
        "        print(\"Intersection Point:\", intersectionPoint)\n",
        "\n"
      ]
    },
    {
      "cell_type": "markdown",
      "metadata": {
        "id": "WCA6Zz9itM8D"
      },
      "source": [
        "8.Rotate a linked list by k positions to the right\n",
        " 1->2->3->4->8->6->9 , after rotating for 2 times becomes , 3->4->8->6->9->1->2"
      ]
    },
    {
      "cell_type": "code",
      "execution_count": 7,
      "metadata": {
        "colab": {
          "base_uri": "https://localhost:8080/"
        },
        "id": "CapN7QcWXew4",
        "outputId": "2b3e3a8e-ed41-406d-be5c-b7410cf7d4a4"
      },
      "outputs": [
        {
          "name": "stdout",
          "output_type": "stream",
          "text": [
            "3->4->8->6->9->1->2->"
          ]
        }
      ],
      "source": [
        "class Node:\n",
        "\n",
        "  def __init__(self,data=None,next=None):\n",
        "    self.data = data\n",
        "    self.next = next\n",
        "\n",
        "class LinkedList:\n",
        "\n",
        "  def __init__(self):\n",
        "    self.head = None\n",
        "\n",
        "  def length(self):\n",
        "      temp = self.head\n",
        "      len = 0\n",
        "      while(temp):\n",
        "        len+=1\n",
        "        temp = temp.next\n",
        "      return len\n",
        "\n",
        "  def append(self,newData):\n",
        "    new_node = Node(newData)\n",
        "\n",
        "    if self.head == None:\n",
        "      self.head = new_node\n",
        "      return\n",
        "    last = self.head\n",
        "\n",
        "    while last.next:\n",
        "      last = last.next\n",
        "    last.next = new_node\n",
        "\n",
        "  def traverse(self):\n",
        "    temp = self.head\n",
        "    while temp:\n",
        "      print(temp.data,end=\"->\")\n",
        "      temp = temp.next\n",
        "\n",
        "  def rotate(self, k):\n",
        "\n",
        "        if k == 0:\n",
        "            return\n",
        "\n",
        "        current = self.head\n",
        "\n",
        "        count = 1\n",
        "        while(count < k and current is not None):\n",
        "            current = current.next\n",
        "            count += 1\n",
        "\n",
        "        if current is None:\n",
        "            return\n",
        "\n",
        "        kthNode = current\n",
        "\n",
        "        while(current.next is not None):\n",
        "            current = current.next\n",
        "\n",
        "        current.next = self.head\n",
        "\n",
        "        self.head = kthNode.next\n",
        "\n",
        "        kthNode.next = None\n",
        "\n",
        "\n",
        "l1 = LinkedList()\n",
        "l1.append(1)\n",
        "l1.append(2)\n",
        "l1.append(3)\n",
        "l1.append(4)\n",
        "l1.append(8)\n",
        "l1.append(6)\n",
        "l1.append(9)\n",
        "\n",
        "\n",
        "l1.rotate(2)\n",
        "l1.traverse()\n"
      ]
    },
    {
      "cell_type": "markdown",
      "metadata": {
        "id": "knu_RnF0xkE_"
      },
      "source": [
        "9.Add Two Numbers Represented by LinkedLists:"
      ]
    },
    {
      "cell_type": "code",
      "execution_count": 8,
      "metadata": {
        "colab": {
          "base_uri": "https://localhost:8080/"
        },
        "id": "5_4r5ur8XedY",
        "outputId": "4d20795c-98d3-4289-bedd-92472b86f1bb"
      },
      "outputs": [
        {
          "name": "stdout",
          "output_type": "stream",
          "text": [
            "7->0->8->"
          ]
        }
      ],
      "source": [
        "class Node:\n",
        "\n",
        "  def __init__(self,data=None,next=None):\n",
        "    self.data = data\n",
        "    self.next = next\n",
        "\n",
        "class LinkedList:\n",
        "\n",
        "  def __init__(self):\n",
        "    self.head = None\n",
        "\n",
        "  def append(self,newData):\n",
        "    new_node = Node(newData)\n",
        "\n",
        "    if self.head == None:\n",
        "      self.head = new_node\n",
        "      return\n",
        "    last = self.head\n",
        "\n",
        "    while last.next:\n",
        "      last = last.next\n",
        "    last.next = new_node\n",
        "\n",
        "  def reverse(self):\n",
        "        previous = None\n",
        "        current = self.head\n",
        "\n",
        "        while (current != None):\n",
        "            tmp = current.next\n",
        "\n",
        "            current.next = previous\n",
        "\n",
        "            previous = current\n",
        "            current = tmp\n",
        "        self.head = previous\n",
        "\n",
        "\n",
        "  def traverse(self):\n",
        "    temp = self.head\n",
        "    while temp:\n",
        "      print(temp.data,end=\"->\")\n",
        "      temp = temp.next\n",
        "\n",
        "\n",
        "def addTwoLists(first, second):\n",
        "\n",
        "      first.reverse()\n",
        "      second.reverse()\n",
        "\n",
        "      curr1 = first.head\n",
        "      curr2 = second.head\n",
        "\n",
        "      num1 = num2 = 0\n",
        "\n",
        "\n",
        "      while curr1:\n",
        "        num1  = num1*10 + curr1.data\n",
        "        curr1 = curr1.next\n",
        "      while curr2:\n",
        "        num2 = num2*10 +curr2.data\n",
        "        curr2 = curr2.next\n",
        "      num3 = num1 + num2\n",
        "      temp = LinkedList()\n",
        "      while num3:\n",
        "        mod = num3%10\n",
        "        temp.append(mod)\n",
        "        num3 = num3//10\n",
        "      return temp\n",
        "\n",
        "\n",
        "\n",
        "\n",
        "l1=LinkedList()\n",
        "l2 = LinkedList()\n",
        "\n",
        "l1.append(2)\n",
        "l1.append(4)\n",
        "l1.append(3)\n",
        "\n",
        "l2.append(5)\n",
        "l2.append(6)\n",
        "l2.append(4)\n",
        "\n",
        "\n",
        "addTwoLists( l1, l2).traverse()\n",
        "\n"
      ]
    }
  ],
  "metadata": {
    "colab": {
      "provenance": []
    },
    "kernelspec": {
      "display_name": "Python 3",
      "name": "python3"
    },
    "language_info": {
      "codemirror_mode": {
        "name": "ipython",
        "version": 3
      },
      "file_extension": ".py",
      "mimetype": "text/x-python",
      "name": "python",
      "nbconvert_exporter": "python",
      "pygments_lexer": "ipython3",
      "version": "3.12.2"
    }
  },
  "nbformat": 4,
  "nbformat_minor": 0
}
