{
  "cells": [
    {
      "cell_type": "code",
      "execution_count": 2,
      "metadata": {
        "id": "L__wrmjkswzm"
      },
      "outputs": [],
      "source": [
        "import numpy as np"
      ]
    },
    {
      "cell_type": "markdown",
      "metadata": {
        "id": "QWUQYtAIsbXD"
      },
      "source": [
        "3. Find the shape, size and dimension of the following array?"
      ]
    },
    {
      "cell_type": "code",
      "execution_count": 3,
      "metadata": {
        "colab": {
          "base_uri": "https://localhost:8080/"
        },
        "id": "wwwUIgA8sJLb",
        "outputId": "d4b61a43-1202-4a76-97cb-75e3f02b31fc"
      },
      "outputs": [
        {
          "name": "stdout",
          "output_type": "stream",
          "text": [
            "shape- (3, 4)\n",
            "size= 12\n",
            "dimension= 2\n"
          ]
        }
      ],
      "source": [
        "arr1 = np.array([[1, 2, 3, 4],[5, 6, 7, 8],[9, 10, 11, 12]])\n",
        "arr1\n",
        "print('shape-',arr1.shape)\n",
        "print('size=',arr1.size)\n",
        "print('dimension=',arr1.ndim)"
      ]
    },
    {
      "cell_type": "markdown",
      "metadata": {
        "id": "EDkTK71Vvso7"
      },
      "source": [
        " 4. Write python code to access the first row of the following array?"
      ]
    },
    {
      "cell_type": "code",
      "execution_count": 4,
      "metadata": {
        "colab": {
          "base_uri": "https://localhost:8080/"
        },
        "id": "m6Mv0V5Hvkay",
        "outputId": "84c63a9e-e9c5-4d7c-93df-691c6286b35b"
      },
      "outputs": [
        {
          "data": {
            "text/plain": [
              "array([1, 2, 3, 4])"
            ]
          },
          "execution_count": 4,
          "metadata": {},
          "output_type": "execute_result"
        }
      ],
      "source": [
        "arr2 = np.array([[1, 2, 3, 4],[5, 6, 7, 8],[9, 10, 11, 12]])\n",
        "arr2\n",
        "arr2[0]"
      ]
    },
    {
      "cell_type": "markdown",
      "metadata": {
        "id": "RXLfMKp52toM"
      },
      "source": [
        "5. How do you access the element at the third row and fourth column from the given numpy array?"
      ]
    },
    {
      "cell_type": "code",
      "execution_count": 5,
      "metadata": {
        "colab": {
          "base_uri": "https://localhost:8080/"
        },
        "id": "vzZqt_0Q2ux3",
        "outputId": "f432f35b-ed84-4e7a-85b8-9a7c16889141"
      },
      "outputs": [
        {
          "data": {
            "text/plain": [
              "12"
            ]
          },
          "execution_count": 5,
          "metadata": {},
          "output_type": "execute_result"
        }
      ],
      "source": [
        "arr2[2,3]"
      ]
    },
    {
      "cell_type": "markdown",
      "metadata": {
        "id": "wCQJzVOm7l2p"
      },
      "source": [
        " 7. How can you generate a random 3x3 matrix with values between 0 and 1?"
      ]
    },
    {
      "cell_type": "code",
      "execution_count": 6,
      "metadata": {
        "colab": {
          "base_uri": "https://localhost:8080/"
        },
        "id": "gi0Rc7cN7e0Z",
        "outputId": "ac066882-18b0-45a3-9079-53c424c3ddda"
      },
      "outputs": [
        {
          "data": {
            "text/plain": [
              "array([[0, 0, 0],\n",
              "       [0, 0, 0],\n",
              "       [0, 0, 0]])"
            ]
          },
          "execution_count": 6,
          "metadata": {},
          "output_type": "execute_result"
        }
      ],
      "source": [
        "arr3 = np.random.randint(0,1, size=(3,3))\n",
        "arr3"
      ]
    },
    {
      "cell_type": "markdown",
      "metadata": {
        "id": "ndYi1lfu8WD7"
      },
      "source": [
        "8. Describe the difference between np.random.rand and np.random.randn?\n",
        "\n",
        "Ans-\n",
        "<br>\"numpy.random.rand()\" generates an array of specified shapes and fills it with random values uniformly distributed between 0 and 1.\n",
        "<br><br>\"np.random.randn()\"generates an array of shape filled with random floats sampled from a univariate “normal” distribution of mean 0 and variance 1"
      ]
    },
    {
      "cell_type": "markdown",
      "metadata": {
        "id": "1Pln0_B-A1Cj"
      },
      "source": [
        "<br><br>  9. Write code to increase the dimension of the following array?\n",
        " <br>[[1, 2, 3, 4]\n",
        " <br>[5, 6, 7, 8],\n",
        " <br>[9, 10, 11, 12]]"
      ]
    },
    {
      "cell_type": "code",
      "execution_count": 7,
      "metadata": {
        "colab": {
          "base_uri": "https://localhost:8080/"
        },
        "id": "2UqdoC1MAQdP",
        "outputId": "5b83119f-f99e-4bff-a9b8-3901698900f6"
      },
      "outputs": [
        {
          "data": {
            "text/plain": [
              "array([[[ 1,  2,  3,  4],\n",
              "        [ 5,  6,  7,  8],\n",
              "        [ 9, 10, 11, 12]]])"
            ]
          },
          "execution_count": 7,
          "metadata": {},
          "output_type": "execute_result"
        }
      ],
      "source": [
        "arr3 = np.array([[1, 2, 3, 4],[5, 6, 7, 8],[9, 10, 11, 12]])\n",
        "arr3 = np.expand_dims(arr3, axis=(0))\n",
        "arr3"
      ]
    },
    {
      "cell_type": "markdown",
      "metadata": {
        "id": "jeKS3ZsSEmgS"
      },
      "source": [
        "\n",
        "<br><br> 10. How to transpose the following array in NumPy?\n",
        " <br>[[1, 2, 3, 4]\n",
        " <br>[5, 6, 7, 8],\n",
        " <br>[9, 10, 11, 12]]\n",
        "\n"
      ]
    },
    {
      "cell_type": "code",
      "execution_count": 8,
      "metadata": {
        "colab": {
          "base_uri": "https://localhost:8080/"
        },
        "id": "D8J6fLB6E3Fl",
        "outputId": "9e09a885-1ea6-4bcd-f2ed-f6b02500fc6d"
      },
      "outputs": [
        {
          "data": {
            "text/plain": [
              "array([[ 1,  5,  9],\n",
              "       [ 2,  6, 10],\n",
              "       [ 3,  7, 11],\n",
              "       [ 4,  8, 12]])"
            ]
          },
          "execution_count": 8,
          "metadata": {},
          "output_type": "execute_result"
        }
      ],
      "source": [
        "arr4 = np.array([[1, 2, 3, 4],[5, 6, 7, 8],[9, 10, 11, 12]])\n",
        "arr4.T"
      ]
    },
    {
      "cell_type": "markdown",
      "metadata": {
        "id": "zAb-KL0cIesa"
      },
      "source": [
        "<br><br> 11. Consider the following matrix:\n",
        " <br>Matrix A: [[1, 2, 3, 4] [5, 6, 7, 8],[9, 10, 11, 12]]\n",
        " <br>Matrix B: [[1, 2, 3, 4] [5, 6, 7, 8],[9, 10, 11, 12]]"
      ]
    },
    {
      "cell_type": "code",
      "execution_count": 9,
      "metadata": {
        "colab": {
          "base_uri": "https://localhost:8080/"
        },
        "id": "F7Rz7DZMIpm6",
        "outputId": "ad1686d7-ff21-4bc8-e431-278d0f35a86b"
      },
      "outputs": [
        {
          "data": {
            "text/plain": [
              "array([[  1,   4,   9,  16],\n",
              "       [ 25,  36,  49,  64],\n",
              "       [ 81, 100, 121, 144]])"
            ]
          },
          "execution_count": 9,
          "metadata": {},
          "output_type": "execute_result"
        }
      ],
      "source": [
        "MatrixA = np.array ([[1, 2, 3, 4] ,[5, 6, 7, 8],[9, 10, 11, 12]])\n",
        "MatrixB = np.array([[1, 2, 3, 4], [5, 6, 7, 8],[9, 10, 11, 12]])\n",
        "\n",
        "# 1. indexwise multiplication\n",
        "MatrixA * MatrixB"
      ]
    },
    {
      "cell_type": "code",
      "execution_count": 10,
      "metadata": {
        "colab": {
          "base_uri": "https://localhost:8080/"
        },
        "id": "SUROq82ZFZKJ",
        "outputId": "0ba32a29-9698-4a69-967b-272250741827"
      },
      "outputs": [
        {
          "data": {
            "text/plain": [
              "array([[ 70,  80,  90],\n",
              "       [158, 184, 210],\n",
              "       [246, 288, 330]])"
            ]
          },
          "execution_count": 10,
          "metadata": {},
          "output_type": "execute_result"
        }
      ],
      "source": [
        "# 2. Matrix Multiplication\n",
        "MatrixA = np.array ([[1, 2, 3, 4] ,[5, 6, 7, 8],[9, 10, 11, 12]])\n",
        "MatrixB = MatrixB.reshape(4,3)\n",
        "\n",
        "\n",
        "MatrixA @ MatrixB"
      ]
    },
    {
      "cell_type": "code",
      "execution_count": 11,
      "metadata": {
        "colab": {
          "base_uri": "https://localhost:8080/"
        },
        "id": "38Umc9RIRMxJ",
        "outputId": "011df895-ee19-42b4-c9e6-76a4b280eaad"
      },
      "outputs": [
        {
          "data": {
            "text/plain": [
              "array([[ 2,  4,  6,  8],\n",
              "       [10, 12, 14, 16],\n",
              "       [18, 20, 22, 24]])"
            ]
          },
          "execution_count": 11,
          "metadata": {},
          "output_type": "execute_result"
        }
      ],
      "source": [
        "#3.Add both the matrics\n",
        "MatrixA = np.array ([[1, 2, 3, 4] ,[5, 6, 7, 8],[9, 10, 11, 12]])\n",
        "MatrixB = np.array([[1, 2, 3, 4], [5, 6, 7, 8],[9, 10, 11, 12]])\n",
        "\n",
        "MatrixA + MatrixB"
      ]
    },
    {
      "cell_type": "code",
      "execution_count": 12,
      "metadata": {
        "colab": {
          "base_uri": "https://localhost:8080/"
        },
        "id": "z7hXAM4ERhyw",
        "outputId": "cbb162f7-dd7a-4c33-ac73-2baeaaf8f908"
      },
      "outputs": [
        {
          "data": {
            "text/plain": [
              "array([[0, 0, 0, 0],\n",
              "       [0, 0, 0, 0],\n",
              "       [0, 0, 0, 0]])"
            ]
          },
          "execution_count": 12,
          "metadata": {},
          "output_type": "execute_result"
        }
      ],
      "source": [
        "# 4. Subtract matrix B from A\n",
        "MatrixA = np.array ([[1, 2, 3, 4] ,[5, 6, 7, 8],[9, 10, 11, 12]])\n",
        "MatrixB = np.array([[1, 2, 3, 4], [5, 6, 7, 8],[9, 10, 11, 12]])\n",
        "\n",
        "MatrixA - MatrixB"
      ]
    },
    {
      "cell_type": "code",
      "execution_count": 13,
      "metadata": {
        "colab": {
          "base_uri": "https://localhost:8080/"
        },
        "id": "iwEct2uSSAnJ",
        "outputId": "9045e479-e268-4514-a8d5-6729bc0f8ae6"
      },
      "outputs": [
        {
          "data": {
            "text/plain": [
              "array([[1., 1., 1., 1.],\n",
              "       [1., 1., 1., 1.],\n",
              "       [1., 1., 1., 1.]])"
            ]
          },
          "execution_count": 13,
          "metadata": {},
          "output_type": "execute_result"
        }
      ],
      "source": [
        "# 5. Divide Matrix B by A\n",
        "MatrixA = np.array ([[1, 2, 3, 4] ,[5, 6, 7, 8],[9, 10, 11, 12]])\n",
        "MatrixB = np.array([[1, 2, 3, 4], [5, 6, 7, 8],[9, 10, 11, 12]])\n",
        "\n",
        "MatrixB / MatrixA"
      ]
    },
    {
      "cell_type": "markdown",
      "metadata": {
        "id": "wqSr3lOFDUt2"
      },
      "source": [
        "<br><br>12.  Which function in Numpy can be used to swap the byte order of an array?\n"
      ]
    },
    {
      "cell_type": "code",
      "execution_count": 14,
      "metadata": {
        "colab": {
          "base_uri": "https://localhost:8080/"
        },
        "id": "3I2-jsM-DZlR",
        "outputId": "77580025-6c25-4f34-ded6-f19ae676981d"
      },
      "outputs": [
        {
          "data": {
            "text/plain": [
              "array([ 16777216,  33554432,  50331648,         0, 100663296, 117440512,\n",
              "       134217728])"
            ]
          },
          "execution_count": 14,
          "metadata": {},
          "output_type": "execute_result"
        }
      ],
      "source": [
        "arr5 = np.array([1,2,3,0,6,7,8])\n",
        "arr5.byteswap()"
      ]
    },
    {
      "cell_type": "markdown",
      "metadata": {
        "id": "VbiPjD-0IE63"
      },
      "source": [
        "<br><br>13.  What is the significance of the np.linalg.inv function?\n"
      ]
    },
    {
      "cell_type": "code",
      "execution_count": 15,
      "metadata": {
        "colab": {
          "base_uri": "https://localhost:8080/"
        },
        "id": "Z4Ucj-RnIR9f",
        "outputId": "f2ed8bb3-7343-4fd6-f8c5-6291f69666f1"
      },
      "outputs": [
        {
          "name": "stdout",
          "output_type": "stream",
          "text": [
            "\n",
            "Inverse of A:\n",
            " [[-2.5  1.5]\n",
            " [ 2.  -1. ]]\n"
          ]
        }
      ],
      "source": [
        "A = np.array([[2,3],[4,5]])\n",
        "\n",
        "# inverse of Matrix A\n",
        "\n",
        "print(\"\\nInverse of A:\\n\", np.linalg.inv(A))"
      ]
    },
    {
      "cell_type": "markdown",
      "metadata": {
        "id": "lK6YwY2nRf_s"
      },
      "source": [
        "<br>14. What does the np.reshape function do, and how is it used?"
      ]
    },
    {
      "cell_type": "code",
      "execution_count": 16,
      "metadata": {
        "colab": {
          "base_uri": "https://localhost:8080/"
        },
        "id": "Rgqk309nRkZD",
        "outputId": "15171fe7-b942-40ed-9031-24a57b1aff97"
      },
      "outputs": [
        {
          "data": {
            "text/plain": [
              "array([[ 1,  2,  3],\n",
              "       [ 4,  5,  6],\n",
              "       [ 7,  8,  9],\n",
              "       [10, 11, 12]])"
            ]
          },
          "execution_count": 16,
          "metadata": {},
          "output_type": "execute_result"
        }
      ],
      "source": [
        "MatrixB = np.array([[1, 2, 3, 4],\n",
        "                    [5, 6, 7, 8],\n",
        "                    [9, 10, 11, 12]])\n",
        "\n",
        "MatrixB.reshape(4,3)"
      ]
    }
  ],
  "metadata": {
    "colab": {
      "provenance": []
    },
    "kernelspec": {
      "display_name": "Python 3",
      "name": "python3"
    },
    "language_info": {
      "codemirror_mode": {
        "name": "ipython",
        "version": 3
      },
      "file_extension": ".py",
      "mimetype": "text/x-python",
      "name": "python",
      "nbconvert_exporter": "python",
      "pygments_lexer": "ipython3",
      "version": "3.12.2"
    }
  },
  "nbformat": 4,
  "nbformat_minor": 0
}
