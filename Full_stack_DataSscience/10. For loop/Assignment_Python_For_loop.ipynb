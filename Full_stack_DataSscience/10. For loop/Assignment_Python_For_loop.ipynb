{
  "cells": [
    {
      "cell_type": "markdown",
      "metadata": {
        "id": "l9ZV1gfINALv"
      },
      "source": [
        "1. Write a Python program to print the numbers from 1 to 10 using a `for` loop.\n"
      ]
    },
    {
      "cell_type": "code",
      "execution_count": 3,
      "metadata": {
        "colab": {
          "base_uri": "https://localhost:8080/"
        },
        "id": "X9DuJ4CkM_ai",
        "outputId": "b6ac2885-de38-48d1-8a2c-61ca95ba798c"
      },
      "outputs": [
        {
          "name": "stdout",
          "output_type": "stream",
          "text": [
            "1\n",
            "2\n",
            "3\n",
            "4\n",
            "5\n",
            "6\n",
            "7\n",
            "8\n",
            "9\n",
            "10\n"
          ]
        }
      ],
      "source": [
        "for i in range(1,11):\n",
        "  print(i)"
      ]
    },
    {
      "cell_type": "markdown",
      "metadata": {
        "id": "JmRQePOnNM9L"
      },
      "source": [
        "2. Create a program that calculates the sum of all numbers in a list using a `for` loop.\n"
      ]
    },
    {
      "cell_type": "code",
      "execution_count": 4,
      "metadata": {
        "colab": {
          "base_uri": "https://localhost:8080/"
        },
        "id": "eFS1ozu0IH4p",
        "outputId": "686d659d-c2ba-4ac8-8faa-3b12302641eb"
      },
      "outputs": [
        {
          "name": "stdout",
          "output_type": "stream",
          "text": [
            "36\n"
          ]
        }
      ],
      "source": [
        "l1 = [1,2,3,4,5,6,7,8]\n",
        "sum = 0\n",
        "for i in l1:\n",
        "  sum = sum + i\n",
        "print(sum)"
      ]
    },
    {
      "cell_type": "markdown",
      "metadata": {
        "id": "8AiOzfdXNeDt"
      },
      "source": [
        "3. Write a program to print the characters of a string in reverse order using a `for` loop.\n"
      ]
    },
    {
      "cell_type": "code",
      "execution_count": 5,
      "metadata": {
        "colab": {
          "base_uri": "https://localhost:8080/"
        },
        "id": "aTcGUIf_Nhjh",
        "outputId": "dcdaab14-451b-4d09-9c17-f45de4bc7f2c"
      },
      "outputs": [
        {
          "name": "stdout",
          "output_type": "stream",
          "text": [
            "olleh\n"
          ]
        }
      ],
      "source": [
        "s1 = \"hello\"\n",
        "s2 = \"\"\n",
        "for i in s1:\n",
        "  s2 = i + s2\n",
        "print(s2)\n",
        "\n"
      ]
    },
    {
      "cell_type": "markdown",
      "metadata": {
        "id": "UTzQA-qTQOcP"
      },
      "source": [
        "4. Develop a program that finds the factorial of a given number using a `for` loop.\n"
      ]
    },
    {
      "cell_type": "code",
      "execution_count": 6,
      "metadata": {
        "colab": {
          "base_uri": "https://localhost:8080/"
        },
        "id": "SlmabT-dQRe3",
        "outputId": "8ebd0eb5-6a25-48c6-f3ba-7a067665794a"
      },
      "outputs": [
        {
          "data": {
            "text/plain": [
              "720"
            ]
          },
          "execution_count": 6,
          "metadata": {},
          "output_type": "execute_result"
        }
      ],
      "source": [
        "def factorial(n):\n",
        "  fact = 1\n",
        "  for i in range(1,n+1):\n",
        "    fact = fact * i\n",
        "  return fact\n",
        "\n",
        "factorial(6)"
      ]
    },
    {
      "cell_type": "markdown",
      "metadata": {
        "id": "j0PhyUNpS6Q0"
      },
      "source": [
        "5. Create a program to print the multiplication table of a given number using a `for` loop.\n"
      ]
    },
    {
      "cell_type": "code",
      "execution_count": 7,
      "metadata": {
        "colab": {
          "base_uri": "https://localhost:8080/"
        },
        "id": "14kzoaeBS9tP",
        "outputId": "b2f42a98-95b5-4e55-a043-3d147136d022"
      },
      "outputs": [
        {
          "name": "stdout",
          "output_type": "stream",
          "text": [
            "6 X 1 = 6\n",
            "6 X 2 = 12\n",
            "6 X 3 = 18\n",
            "6 X 4 = 24\n",
            "6 X 5 = 30\n",
            "6 X 6 = 36\n",
            "6 X 7 = 42\n",
            "6 X 8 = 48\n",
            "6 X 9 = 54\n",
            "6 X 10 = 60\n"
          ]
        }
      ],
      "source": [
        "a = 6\n",
        "for i in range(1,11):\n",
        "  print(a,'X',i,'=',a*i)"
      ]
    },
    {
      "cell_type": "markdown",
      "metadata": {
        "id": "ZiclHpvVTvAQ"
      },
      "source": [
        "6. Write a program that counts the number of even and odd numbers in a list using a `for` loop.\n"
      ]
    },
    {
      "cell_type": "code",
      "execution_count": 8,
      "metadata": {
        "colab": {
          "base_uri": "https://localhost:8080/"
        },
        "id": "KXMzS1tOTx6e",
        "outputId": "bdab56c1-5349-42ec-a0ae-1a300c138cd7"
      },
      "outputs": [
        {
          "name": "stdout",
          "output_type": "stream",
          "text": [
            "Even numbers:  4\n",
            "Odd numbers:  5\n"
          ]
        }
      ],
      "source": [
        "l2 = [1,2,3,4,5,6,7,8,9]\n",
        "even = 0\n",
        "odd = 0\n",
        "for i in l2:\n",
        "  if i % 2 == 0:\n",
        "    even = even + 1\n",
        "  else:\n",
        "    odd = odd + 1\n",
        "print(\"Even numbers: \",even)\n",
        "print(\"Odd numbers: \",odd)\n"
      ]
    },
    {
      "cell_type": "markdown",
      "metadata": {
        "id": "-Z0t-tpCUMZv"
      },
      "source": [
        "\n",
        "7. Develop a program that prints the squares of numbers from 1 to 5 using a `for` loop.\n"
      ]
    },
    {
      "cell_type": "code",
      "execution_count": 9,
      "metadata": {
        "colab": {
          "base_uri": "https://localhost:8080/"
        },
        "id": "o3zm6ffHURWM",
        "outputId": "aed4d596-7fe1-434b-ea96-59c87e29414e"
      },
      "outputs": [
        {
          "name": "stdout",
          "output_type": "stream",
          "text": [
            "1\n",
            "4\n",
            "9\n",
            "16\n",
            "25\n"
          ]
        }
      ],
      "source": [
        "for i in range(1,6):\n",
        "  print(i**2)"
      ]
    },
    {
      "cell_type": "markdown",
      "metadata": {
        "id": "DZYDmgNiU5k-"
      },
      "source": [
        "8. Create a program to find the length of a string without using the `len()` function.\n"
      ]
    },
    {
      "cell_type": "code",
      "execution_count": 10,
      "metadata": {
        "colab": {
          "base_uri": "https://localhost:8080/"
        },
        "id": "CQAVAhjhU8fp",
        "outputId": "592c1f34-9db8-4158-97fa-bc579b5b444c"
      },
      "outputs": [
        {
          "name": "stdout",
          "output_type": "stream",
          "text": [
            "5\n"
          ]
        }
      ],
      "source": [
        "length = 0\n",
        "s1 = \"hello\"\n",
        "for i in s1:\n",
        "  length = length + 1\n",
        "print(length)"
      ]
    },
    {
      "cell_type": "markdown",
      "metadata": {
        "id": "DWFd2-duVSJH"
      },
      "source": [
        "9. Write a program that calculates the average of a list of numbers using a `for` loop.\n"
      ]
    },
    {
      "cell_type": "code",
      "execution_count": 11,
      "metadata": {
        "colab": {
          "base_uri": "https://localhost:8080/"
        },
        "id": "Nl0h_eUdVRqs",
        "outputId": "3996c115-4c2f-4586-9001-6cebf9beac0a"
      },
      "outputs": [
        {
          "name": "stdout",
          "output_type": "stream",
          "text": [
            "5.0\n"
          ]
        }
      ],
      "source": [
        "l3 = [1,2,3,4,5,6,7,8,9]\n",
        "sum = 0\n",
        "for i in l3:\n",
        "  sum = sum + i\n",
        "print(sum/len(l3))"
      ]
    },
    {
      "cell_type": "markdown",
      "metadata": {
        "id": "ywj-2TLfVmzv"
      },
      "source": [
        "10. Develop a program that prints the first `n` Fibonacci numbers using a `for` loop."
      ]
    },
    {
      "cell_type": "code",
      "execution_count": 12,
      "metadata": {
        "colab": {
          "base_uri": "https://localhost:8080/"
        },
        "id": "iGCuNqztVn_y",
        "outputId": "ec68f07d-19ea-446c-ed59-9d775db969be"
      },
      "outputs": [
        {
          "name": "stdout",
          "output_type": "stream",
          "text": [
            "1\n",
            "3\n",
            "5\n",
            "7\n",
            "9\n",
            "11\n",
            "13\n",
            "15\n",
            "17\n",
            "19\n"
          ]
        }
      ],
      "source": [
        "def fibonacci(n):\n",
        "  a = 0\n",
        "  for i in range(1,n+1):\n",
        "    b = a + i\n",
        "    a = i\n",
        "    print(b)\n",
        "fibonacci(10)"
      ]
    },
    {
      "cell_type": "markdown",
      "metadata": {
        "id": "4Acm2ZCuaGM-"
      },
      "source": [
        "11. Write a program to check if a given list contains any duplicates using a `for` loop.\n"
      ]
    },
    {
      "cell_type": "code",
      "execution_count": 13,
      "metadata": {
        "colab": {
          "base_uri": "https://localhost:8080/"
        },
        "id": "o3lh3PP7aJyk",
        "outputId": "37ea8d04-c945-4284-f1a1-fe901b2e53c9"
      },
      "outputs": [
        {
          "data": {
            "text/plain": [
              "True"
            ]
          },
          "execution_count": 13,
          "metadata": {},
          "output_type": "execute_result"
        }
      ],
      "source": [
        "l4 = [1,2,3,4,5,6,7,8,9,1]\n",
        "def duplicate(l4):\n",
        "  for i in l4:\n",
        "    if l4.count(i) > 1:\n",
        "      return True\n",
        "  return False\n",
        "\n",
        "duplicate(l4)"
      ]
    },
    {
      "cell_type": "markdown",
      "metadata": {
        "id": "iosg8rqdblwg"
      },
      "source": [
        "\n",
        "12. Create a program that prints the prime numbers in a given range using a `for` loop.\n"
      ]
    },
    {
      "cell_type": "code",
      "execution_count": 14,
      "metadata": {
        "colab": {
          "base_uri": "https://localhost:8080/"
        },
        "id": "GJe-q5zWbrS8",
        "outputId": "00497f9d-6a3c-49be-9785-13cb46080ee3"
      },
      "outputs": [
        {
          "name": "stdout",
          "output_type": "stream",
          "text": [
            "2 ,3 ,5 ,7 ,11 ,13 ,17 ,19 ,23 ,29 ,31 ,37 ,41 ,43 ,47 ,53 ,59 ,61 ,67 ,71 ,73 ,79 ,83 ,89 ,97 ,"
          ]
        }
      ],
      "source": [
        "for i in range(1,100):\n",
        "  if i > 1:\n",
        "    for j in range(2,i):\n",
        "      if i % j == 0:\n",
        "        break\n",
        "    else:\n",
        "      print(i,',',end='')"
      ]
    },
    {
      "cell_type": "markdown",
      "metadata": {
        "id": "M6s7Lvtcc3d6"
      },
      "source": [
        "13. Develop a program that counts the number of vowels in a string using a `for` loop.\n"
      ]
    },
    {
      "cell_type": "code",
      "execution_count": 15,
      "metadata": {
        "colab": {
          "base_uri": "https://localhost:8080/"
        },
        "id": "NoqJVEmic6vW",
        "outputId": "47abb11a-95d6-48f9-f6c4-ebf49e79cd78"
      },
      "outputs": [
        {
          "name": "stdout",
          "output_type": "stream",
          "text": [
            "2\n"
          ]
        }
      ],
      "source": [
        "s2 = \"hello\"\n",
        "vowels = ['a','e','i','o','u']\n",
        "count = 0\n",
        "for i in s2:\n",
        "  if i in vowels:\n",
        "    count = count + 1\n",
        "print(count)"
      ]
    },
    {
      "cell_type": "markdown",
      "metadata": {
        "id": "ZJCoQBdEdKRt"
      },
      "source": [
        "14. Write a program to find the maximum element in a 2D list using a nested `for` loop.\n"
      ]
    },
    {
      "cell_type": "code",
      "execution_count": 16,
      "metadata": {
        "colab": {
          "base_uri": "https://localhost:8080/"
        },
        "id": "LocwhWLhdOt0",
        "outputId": "f7cb6a27-4a87-4733-b21c-2d7c2509375b"
      },
      "outputs": [
        {
          "data": {
            "text/plain": [
              "9"
            ]
          },
          "execution_count": 16,
          "metadata": {},
          "output_type": "execute_result"
        }
      ],
      "source": [
        "l5 = [[1,2,3],[4,5,6],[7,8,9]]\n",
        "def max_element(l5):\n",
        "  max = l5[0][0]\n",
        "  for i in l5:\n",
        "    for j in i:\n",
        "      if j > max:\n",
        "        max = j\n",
        "  return max\n",
        "\n",
        "max_element(l5)"
      ]
    },
    {
      "cell_type": "markdown",
      "metadata": {
        "id": "jq6GuREkdtza"
      },
      "source": [
        "15. Create a program that removes all occurrences of a specific element from a list using a `for` loop.\n"
      ]
    },
    {
      "cell_type": "code",
      "execution_count": 17,
      "metadata": {
        "colab": {
          "base_uri": "https://localhost:8080/"
        },
        "id": "ExwKdfUFdxkS",
        "outputId": "33eae3df-d1f2-433d-beaf-2b94e5b73b69"
      },
      "outputs": [
        {
          "data": {
            "text/plain": [
              "[1, 2, 3, 4, 6, 7, 8, 9, 1]"
            ]
          },
          "execution_count": 17,
          "metadata": {},
          "output_type": "execute_result"
        }
      ],
      "source": [
        "l6 = [1,2,3,4,5,6,7,8,9,1]\n",
        "def remove_element(l6,element):\n",
        "  for i in l6:\n",
        "    if i == element:\n",
        "      l6.remove(i)\n",
        "  return l6\n",
        "\n",
        "remove_element(l6,5)"
      ]
    },
    {
      "cell_type": "markdown",
      "metadata": {
        "id": "dqQnS2QpeCS2"
      },
      "source": [
        "16. Develop a program that generates a multiplication table for numbers from 1 to 5 using a nested `for` loop.\n"
      ]
    },
    {
      "cell_type": "code",
      "execution_count": 18,
      "metadata": {
        "colab": {
          "base_uri": "https://localhost:8080/"
        },
        "id": "oalAB8dheGF0",
        "outputId": "c319c447-cf85-4706-bff7-52798f6a969e"
      },
      "outputs": [
        {
          "name": "stdout",
          "output_type": "stream",
          "text": [
            "1 X 1 = 1\n",
            "1 X 2 = 2\n",
            "1 X 3 = 3\n",
            "1 X 4 = 4\n",
            "1 X 5 = 5\n",
            "1 X 6 = 6\n",
            "1 X 7 = 7\n",
            "1 X 8 = 8\n",
            "1 X 9 = 9\n",
            "1 X 10 = 10\n",
            "\n",
            "2 X 1 = 2\n",
            "2 X 2 = 4\n",
            "2 X 3 = 6\n",
            "2 X 4 = 8\n",
            "2 X 5 = 10\n",
            "2 X 6 = 12\n",
            "2 X 7 = 14\n",
            "2 X 8 = 16\n",
            "2 X 9 = 18\n",
            "2 X 10 = 20\n",
            "\n",
            "3 X 1 = 3\n",
            "3 X 2 = 6\n",
            "3 X 3 = 9\n",
            "3 X 4 = 12\n",
            "3 X 5 = 15\n",
            "3 X 6 = 18\n",
            "3 X 7 = 21\n",
            "3 X 8 = 24\n",
            "3 X 9 = 27\n",
            "3 X 10 = 30\n",
            "\n",
            "4 X 1 = 4\n",
            "4 X 2 = 8\n",
            "4 X 3 = 12\n",
            "4 X 4 = 16\n",
            "4 X 5 = 20\n",
            "4 X 6 = 24\n",
            "4 X 7 = 28\n",
            "4 X 8 = 32\n",
            "4 X 9 = 36\n",
            "4 X 10 = 40\n",
            "\n",
            "5 X 1 = 5\n",
            "5 X 2 = 10\n",
            "5 X 3 = 15\n",
            "5 X 4 = 20\n",
            "5 X 5 = 25\n",
            "5 X 6 = 30\n",
            "5 X 7 = 35\n",
            "5 X 8 = 40\n",
            "5 X 9 = 45\n",
            "5 X 10 = 50\n",
            "\n"
          ]
        }
      ],
      "source": [
        "def multiplication_table():\n",
        "  for i in range(1,6):\n",
        "    for j in range(1,11):\n",
        "      print(i,'X',j,'=',i*j,end='')\n",
        "      print()\n",
        "    print()\n",
        "\n",
        "\n",
        "multiplication_table()"
      ]
    },
    {
      "cell_type": "markdown",
      "metadata": {
        "id": "_E9OTzLDfSDQ"
      },
      "source": [
        "\n",
        "17. Write a program that converts a list of Fahrenheit temperatures to Celsius using a `for` loop.\n"
      ]
    },
    {
      "cell_type": "code",
      "execution_count": 19,
      "metadata": {
        "colab": {
          "base_uri": "https://localhost:8080/"
        },
        "id": "G7sFbEC3fVKV",
        "outputId": "d17c7c61-5add-4b7f-e9f3-0e8aaf1cc1d9"
      },
      "outputs": [
        {
          "data": {
            "text/plain": [
              "[-17.22222222222222,\n",
              " -16.666666666666668,\n",
              " -16.11111111111111,\n",
              " -15.555555555555555,\n",
              " -15.0,\n",
              " -14.444444444444445,\n",
              " -13.88888888888889,\n",
              " -13.333333333333334,\n",
              " -12.777777777777779]"
            ]
          },
          "execution_count": 19,
          "metadata": {},
          "output_type": "execute_result"
        }
      ],
      "source": [
        "l7 = [1,2,3,4,5,6,7,8,9]\n",
        "def fahrenheit_to_celsius(l7):\n",
        "  for i in range(len(l7)):\n",
        "    l7[i] = (l7[i] - 32) * 5/9\n",
        "  return l7\n",
        "\n",
        "fahrenheit_to_celsius(l7)"
      ]
    },
    {
      "cell_type": "markdown",
      "metadata": {
        "id": "tL9yaJowfyRQ"
      },
      "source": [
        "18. Create a program to print the common elements from two lists using a `for` loop.\n"
      ]
    },
    {
      "cell_type": "code",
      "execution_count": 20,
      "metadata": {
        "colab": {
          "base_uri": "https://localhost:8080/"
        },
        "id": "TFrJq1edf2Bn",
        "outputId": "05fed069-0abd-447e-85ce-d9575e132b94"
      },
      "outputs": [
        {
          "name": "stdout",
          "output_type": "stream",
          "text": [
            "5\n",
            "9\n"
          ]
        }
      ],
      "source": [
        "l8 = [1,2,3,4,5,6,7,8,9]\n",
        "l9 = [11,12,13,14,5,16,17,18,9]\n",
        "def common_elements(l8,l9):\n",
        "  for i in l8:\n",
        "    if i in l9:\n",
        "      print(i)\n",
        "\n",
        "common_elements(l8,l9)"
      ]
    },
    {
      "cell_type": "markdown",
      "metadata": {
        "id": "Ehs7YmWhgG12"
      },
      "source": [
        "\n",
        "19. Develop a program that prints the pattern of right-angled triangles using a `for` loop. Use ‘*’ to draw the\n",
        "pattern\n"
      ]
    },
    {
      "cell_type": "code",
      "execution_count": 21,
      "metadata": {
        "colab": {
          "base_uri": "https://localhost:8080/"
        },
        "id": "VWHcHx12gGVT",
        "outputId": "2570d269-4eb5-4d23-e62d-d8a6b9bf965c"
      },
      "outputs": [
        {
          "name": "stdout",
          "output_type": "stream",
          "text": [
            "*\n",
            "**\n",
            "***\n",
            "****\n",
            "*****\n"
          ]
        }
      ],
      "source": [
        "def pattern(n):\n",
        "  for i in range(1,n+1):\n",
        "    for j in range(1,i+1):\n",
        "      print('*',end='')\n",
        "    print()\n",
        "\n",
        "pattern(5)"
      ]
    },
    {
      "cell_type": "markdown",
      "metadata": {
        "id": "z28KMohBgXiW"
      },
      "source": [
        "20. Write a program to find the greatest common divisor (GCD) of two numbers using a `for` loop."
      ]
    },
    {
      "cell_type": "code",
      "execution_count": 22,
      "metadata": {
        "colab": {
          "base_uri": "https://localhost:8080/"
        },
        "id": "52gJAfZLgYzp",
        "outputId": "64b39d18-c464-4446-af7c-8e7d4a9a1da8"
      },
      "outputs": [
        {
          "data": {
            "text/plain": [
              "5"
            ]
          },
          "execution_count": 22,
          "metadata": {},
          "output_type": "execute_result"
        }
      ],
      "source": [
        "def gcd(a,b):\n",
        "  if a < b:\n",
        "    smaller = a\n",
        "  else:\n",
        "    smaller = b\n",
        "\n",
        "  for i in range(1,smaller+1):\n",
        "    if a % i == 0 and b % i == 0:\n",
        "      gcd = i\n",
        "  return gcd\n",
        "\n",
        "gcd(10,15)"
      ]
    },
    {
      "cell_type": "markdown",
      "metadata": {
        "id": "IDf_Yx_tbUSi"
      },
      "source": [
        "22. Write a program to find the prime factors of a given number using a `for` loop and list comprehension.\n"
      ]
    },
    {
      "cell_type": "code",
      "execution_count": 23,
      "metadata": {
        "colab": {
          "base_uri": "https://localhost:8080/"
        },
        "id": "aj1SXx--fe82",
        "outputId": "66383098-e56b-49a0-9e23-2f2a74dabeb6"
      },
      "outputs": [
        {
          "data": {
            "text/plain": [
              "[2, 2, 2, 7]"
            ]
          },
          "execution_count": 23,
          "metadata": {},
          "output_type": "execute_result"
        }
      ],
      "source": [
        "def prime_factors(n):\n",
        "  factors = []\n",
        "  for i in range(2,n+1):\n",
        "    while n % i == 0:\n",
        "      factors.append(i)\n",
        "      n = n // i\n",
        "  return factors\n",
        "\n",
        "prime_factors(56)\n"
      ]
    },
    {
      "cell_type": "markdown",
      "metadata": {
        "id": "UuyJGX5tbwH2"
      },
      "source": [
        "23. Develop a program that extracts unique elements from a list and stores them in a new list using a list\n",
        "comprehension.\n"
      ]
    },
    {
      "cell_type": "code",
      "execution_count": 24,
      "metadata": {
        "colab": {
          "base_uri": "https://localhost:8080/"
        },
        "id": "uGpPnxF-b5fo",
        "outputId": "aad12126-0646-4cd7-9951-1aad7e690d8d"
      },
      "outputs": [
        {
          "name": "stdout",
          "output_type": "stream",
          "text": [
            "[1, 2, 3, 4, 5]\n"
          ]
        }
      ],
      "source": [
        "lst = [1, 2, 2, 3, 4, 4, 5]\n",
        "unique_lst = [x for i, x in enumerate(lst) if x not in lst[:i]]\n",
        "print(unique_lst)\n"
      ]
    },
    {
      "cell_type": "markdown",
      "metadata": {
        "id": "UXRhtLmHb6G9"
      },
      "source": [
        "24. Create a program that generates a list of all palindromic numbers up to a specified limit using a list\n",
        "comprehension.\n"
      ]
    },
    {
      "cell_type": "code",
      "execution_count": 25,
      "metadata": {
        "colab": {
          "base_uri": "https://localhost:8080/"
        },
        "id": "pxnDRvIMb-Wc",
        "outputId": "899f406b-7eb2-4387-a9cb-94e2255c91eb"
      },
      "outputs": [
        {
          "name": "stdout",
          "output_type": "stream",
          "text": [
            "[1, 2, 3, 4, 5, 6, 7, 8, 9, 11, 22, 33, 44, 55, 66, 77, 88, 99, 101, 111, 121, 131, 141, 151, 161, 171, 181, 191]\n"
          ]
        }
      ],
      "source": [
        "limit = 200\n",
        "palindromes = [n for n in range(1, limit+1) if str(n) == str(n)[::-1]]\n",
        "print(palindromes)\n"
      ]
    },
    {
      "cell_type": "markdown",
      "metadata": {
        "id": "MvDFtMX5b-2w"
      },
      "source": [
        "25. Write a program to flatten a nested list using list comprehension.\n"
      ]
    },
    {
      "cell_type": "code",
      "execution_count": 26,
      "metadata": {
        "colab": {
          "base_uri": "https://localhost:8080/"
        },
        "id": "ZQ7XpIVfcCEu",
        "outputId": "d0b8ad53-572d-4a1c-b27d-af23f5de8085"
      },
      "outputs": [
        {
          "name": "stdout",
          "output_type": "stream",
          "text": [
            "[1, 2, 3, 4, 5, 6]\n"
          ]
        }
      ],
      "source": [
        "nested_list = [[1, 2], [3, 4], [5, 6]]\n",
        "flat_list = [item for sublist in nested_list for item in sublist]\n",
        "print(flat_list)\n"
      ]
    },
    {
      "cell_type": "markdown",
      "metadata": {
        "id": "UirEMIC2cHkt"
      },
      "source": [
        "27. Create a program that generates a list of squares of odd numbers between 1 and 10 using list\n",
        "comprehension.\n"
      ]
    },
    {
      "cell_type": "code",
      "execution_count": 27,
      "metadata": {
        "colab": {
          "base_uri": "https://localhost:8080/"
        },
        "id": "pTYLMpNLcKgC",
        "outputId": "2bd0d279-727f-4c84-ae9a-3af1c4d3e24e"
      },
      "outputs": [
        {
          "name": "stdout",
          "output_type": "stream",
          "text": [
            "[1, 9, 25, 49, 81]\n"
          ]
        }
      ],
      "source": [
        "squares_of_odd_numbers = [x**2 for x in range(1, 11) if x % 2 != 0]\n",
        "print(squares_of_odd_numbers)\n"
      ]
    },
    {
      "cell_type": "markdown",
      "metadata": {
        "id": "mHFkxa46cLJ4"
      },
      "source": [
        "28. Write a program that combines two lists into a dictionary using list comprehension.\n"
      ]
    },
    {
      "cell_type": "code",
      "execution_count": 28,
      "metadata": {
        "colab": {
          "base_uri": "https://localhost:8080/"
        },
        "id": "rj-zUbI1cNwn",
        "outputId": "f3efc3cd-b853-47db-bb5e-9df4fa7d379b"
      },
      "outputs": [
        {
          "name": "stdout",
          "output_type": "stream",
          "text": [
            "{'a': 1, 'b': 2, 'c': 3}\n"
          ]
        }
      ],
      "source": [
        "keys = ['a', 'b', 'c']\n",
        "values = [1, 2, 3]\n",
        "combined_dict = {keys[i]: values[i] for i in range(len(keys))}\n",
        "print(combined_dict)\n"
      ]
    },
    {
      "cell_type": "markdown",
      "metadata": {
        "id": "WjF48oAycOPA"
      },
      "source": [
        "29. Develop a program that extracts the vowels from a string and stores them in a list using list comprehension.\n"
      ]
    },
    {
      "cell_type": "code",
      "execution_count": 29,
      "metadata": {
        "colab": {
          "base_uri": "https://localhost:8080/"
        },
        "id": "XTOqDT_5cQry",
        "outputId": "2adfe8b0-76e7-4dfb-930d-63d3dc8d7d55"
      },
      "outputs": [
        {
          "name": "stdout",
          "output_type": "stream",
          "text": [
            "['e', 'o', 'o']\n"
          ]
        }
      ],
      "source": [
        "string = \"Hello World\"\n",
        "vowels = [char for char in string if char.lower() in 'aeiou']\n",
        "print(vowels)\n"
      ]
    },
    {
      "cell_type": "markdown",
      "metadata": {
        "id": "Z180aDDmcRL1"
      },
      "source": [
        "30. Create a program that removes all non-numeric characters from a list of strings using list comprehension."
      ]
    },
    {
      "cell_type": "code",
      "execution_count": 30,
      "metadata": {
        "colab": {
          "base_uri": "https://localhost:8080/"
        },
        "id": "26opmNI1cSPA",
        "outputId": "6e9c1c30-050a-4a98-e79f-e0f8a3a499b1"
      },
      "outputs": [
        {
          "name": "stdout",
          "output_type": "stream",
          "text": [
            "['123', '456', '789']\n"
          ]
        }
      ],
      "source": [
        "strings = ['abc123', 'def456', 'ghi789']\n",
        "numeric_strings = [''.join([char for char in s if char.isdigit()]) for s in strings]\n",
        "print(numeric_strings)\n"
      ]
    },
    {
      "cell_type": "markdown",
      "metadata": {
        "id": "49JskgAUqmTY"
      },
      "source": [
        "32. Create a program that generates a list of all Pythagorean triplets up to a specified limit using list\n",
        "comprehension."
      ]
    },
    {
      "cell_type": "code",
      "execution_count": 31,
      "metadata": {
        "colab": {
          "base_uri": "https://localhost:8080/"
        },
        "id": "BSvwQlOUwnFu",
        "outputId": "48bad450-20d6-499f-a14a-3d25e0beac74"
      },
      "outputs": [
        {
          "name": "stdout",
          "output_type": "stream",
          "text": [
            "[(3, 4, 5), (5, 12, 13), (6, 8, 10), (8, 15, 17), (9, 12, 15)]\n"
          ]
        }
      ],
      "source": [
        "limit = 20\n",
        "pythagorean_triplets = [(a, b, c) for a in range(1, limit) for b in range(a, limit) for c in range(b, limit) if a**2 + b**2 == c**2]\n",
        "print(pythagorean_triplets)\n"
      ]
    },
    {
      "cell_type": "markdown",
      "metadata": {
        "id": "yYJChEl9wxGE"
      },
      "source": [
        "33. Develop a program that generates a list of all possible combinations of two lists using list comprehension.\n"
      ]
    },
    {
      "cell_type": "code",
      "execution_count": 32,
      "metadata": {
        "colab": {
          "base_uri": "https://localhost:8080/"
        },
        "id": "dYXKj4Ecw2lU",
        "outputId": "e9e48bfb-d988-4ab3-acdd-b2da933cfa93"
      },
      "outputs": [
        {
          "name": "stdout",
          "output_type": "stream",
          "text": [
            "[(1, 'a'), (1, 'b'), (1, 'c'), (2, 'a'), (2, 'b'), (2, 'c'), (3, 'a'), (3, 'b'), (3, 'c')]\n"
          ]
        }
      ],
      "source": [
        "list1 = [1, 2, 3]\n",
        "list2 = ['a', 'b', 'c']\n",
        "combinations = [(x, y) for x in list1 for y in list2]\n",
        "print(combinations)\n"
      ]
    },
    {
      "cell_type": "markdown",
      "metadata": {
        "id": "ckMSNSiqxAMp"
      },
      "source": [
        "\n",
        "34. Write a program that calculates the mean, median, and mode of a list of numbers using list\n",
        "comprehension.\n"
      ]
    },
    {
      "cell_type": "code",
      "execution_count": 33,
      "metadata": {
        "colab": {
          "base_uri": "https://localhost:8080/"
        },
        "id": "q92cJIbYxccK",
        "outputId": "ea64964b-263c-48b0-c047-85b3cb25aaa9"
      },
      "outputs": [
        {
          "name": "stdout",
          "output_type": "stream",
          "text": [
            "Mean: 5.363636363636363, Median: 5, Mode: 5\n"
          ]
        }
      ],
      "source": [
        "from statistics import mean, median, mode\n",
        "\n",
        "numbers = [1, 2, 3, 4, 5, 5, 6, 7, 8, 9, 9]\n",
        "mean_value = mean([x for x in numbers])\n",
        "median_value = median([x for x in numbers])\n",
        "mode_value = mode([x for x in numbers])\n",
        "\n",
        "print(f\"Mean: {mean_value}, Median: {median_value}, Mode: {mode_value}\")\n"
      ]
    },
    {
      "cell_type": "markdown",
      "metadata": {
        "id": "xOc2TbaPyiCw"
      },
      "source": [
        "37. Write a program that finds the longest word in a sentence using list comprehension."
      ]
    },
    {
      "cell_type": "code",
      "execution_count": 34,
      "metadata": {
        "colab": {
          "base_uri": "https://localhost:8080/"
        },
        "id": "eAxkeNM6ydyT",
        "outputId": "6d0187e0-7e51-4fef-ae8f-ab0068e932af"
      },
      "outputs": [
        {
          "name": "stdout",
          "output_type": "stream",
          "text": [
            "Longest word: quick\n"
          ]
        }
      ],
      "source": [
        "sentence = \"The quick brown fox jumps over the lazy dog\"\n",
        "words = sentence.split()\n",
        "longest_word = max([word for word in words], key=len)\n",
        "print(f\"Longest word: {longest_word}\")\n"
      ]
    }
  ],
  "metadata": {
    "colab": {
      "provenance": []
    },
    "kernelspec": {
      "display_name": "Python 3",
      "name": "python3"
    },
    "language_info": {
      "codemirror_mode": {
        "name": "ipython",
        "version": 3
      },
      "file_extension": ".py",
      "mimetype": "text/x-python",
      "name": "python",
      "nbconvert_exporter": "python",
      "pygments_lexer": "ipython3",
      "version": "3.12.4"
    }
  },
  "nbformat": 4,
  "nbformat_minor": 0
}
