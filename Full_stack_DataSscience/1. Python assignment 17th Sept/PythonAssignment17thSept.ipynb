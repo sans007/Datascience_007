{
  "cells": [
    {
      "cell_type": "markdown",
      "metadata": {
        "id": "0pgu_DETr6us"
      },
      "source": [
        "Python assignment"
      ]
    },
    {
      "cell_type": "markdown",
      "metadata": {
        "id": "dIBPdyKrsLjp"
      },
      "source": [
        "# For loop"
      ]
    },
    {
      "cell_type": "code",
      "execution_count": 3,
      "metadata": {
        "colab": {
          "base_uri": "https://localhost:8080/"
        },
        "id": "aKzu_ERcsTS9",
        "outputId": "bd3781d4-f568-4f9f-fb57-cb7f2e0f93ef"
      },
      "outputs": [
        {
          "name": "stdout",
          "output_type": "stream",
          "text": [
            "1\n",
            "2\n",
            "3\n",
            "4\n",
            "5\n",
            "6\n",
            "7\n",
            "8\n",
            "9\n",
            "10\n"
          ]
        }
      ],
      "source": [
        "# 1.Write a Python program to print numbers from 1 to 10 using a for loop.\n",
        "\n",
        "for i in range(1,11):\n",
        "  print(i)"
      ]
    },
    {
      "cell_type": "code",
      "execution_count": 4,
      "metadata": {
        "colab": {
          "base_uri": "https://localhost:8080/"
        },
        "id": "gdA5rmnOsTZP",
        "outputId": "3ae53843-c31c-4496-c7bb-249cbf5bc0ff"
      },
      "outputs": [
        {
          "name": "stdout",
          "output_type": "stream",
          "text": [
            "5050\n"
          ]
        }
      ],
      "source": [
        "#3.Write a Python program to calculate the sum of all numbers from 1 to 100 using a for loop.\n",
        "\n",
        "\n",
        "a=0\n",
        "for i in range(1,101):\n",
        "  a=i+a\n",
        "print(a)\n",
        "\n"
      ]
    },
    {
      "cell_type": "code",
      "execution_count": 15,
      "metadata": {
        "colab": {
          "base_uri": "https://localhost:8080/"
        },
        "id": "CPb_xp1LsTeF",
        "outputId": "e4cfd1ff-010e-4582-a376-14b03782b76b"
      },
      "outputs": [
        {
          "name": "stdout",
          "output_type": "stream",
          "text": [
            "1260\n"
          ]
        }
      ],
      "source": [
        "# 5.Write a Python program to find the product of all elements in a list using a for loop.\n",
        "\n",
        "l=(1,2,3,5,6,7)\n",
        "b=1\n",
        "for i in l:\n",
        "  b=i*b\n",
        "print(b)\n"
      ]
    },
    {
      "cell_type": "code",
      "execution_count": 16,
      "metadata": {
        "colab": {
          "base_uri": "https://localhost:8080/"
        },
        "id": "trBtB6aZsTiI",
        "outputId": "015ed233-6254-43ff-8822-c1491971f69a"
      },
      "outputs": [
        {
          "name": "stdout",
          "output_type": "stream",
          "text": [
            "2\n",
            "4\n",
            "6\n",
            "8\n",
            "10\n",
            "12\n",
            "14\n",
            "16\n",
            "18\n",
            "20\n"
          ]
        }
      ],
      "source": [
        "# 6.Create a Python program that prints all even numbers from 1 to 20 using a for loop.\n",
        "\n",
        "for i in range(1,21):\n",
        "  if i%2==0:\n",
        "    print(i)\n"
      ]
    },
    {
      "cell_type": "code",
      "execution_count": 5,
      "metadata": {
        "colab": {
          "base_uri": "https://localhost:8080/"
        },
        "id": "9C9qftCYsTmC",
        "outputId": "9bcc2e10-d0e4-4d91-d4f6-abb366eeac85"
      },
      "outputs": [
        {
          "name": "stdout",
          "output_type": "stream",
          "text": [
            "factorial of given number  362880\n"
          ]
        }
      ],
      "source": [
        "#7.Write a Python program that calculates the factorial of a number using a for loop.\n",
        "\n",
        "n=int(input())\n",
        "b=1\n",
        "for i in range(1,n+1):\n",
        " b=i*b\n",
        "print('factorial of given number ',b)\n",
        "\n"
      ]
    },
    {
      "cell_type": "code",
      "execution_count": 18,
      "metadata": {
        "colab": {
          "base_uri": "https://localhost:8080/"
        },
        "id": "X0tNAgDQsTph",
        "outputId": "7767bc94-a12b-4adb-b293-fe777942bcbb"
      },
      "outputs": [
        {
          "name": "stdout",
          "output_type": "stream",
          "text": [
            "largest number  78\n"
          ]
        }
      ],
      "source": [
        "#9.How can you iterate through the characters of a string using a for loop in Python?\n",
        "l=[1,2,3,4,5,6,7,34,78,23]\n",
        "a=l[0]\n",
        "for i in l:\n",
        "  if i>a:\n",
        "    a=i\n",
        "print('largest number ',a)"
      ]
    },
    {
      "cell_type": "code",
      "execution_count": 19,
      "metadata": {
        "colab": {
          "base_uri": "https://localhost:8080/"
        },
        "id": "IYrlmWaUsTtb",
        "outputId": "83b09df9-b017-47ff-8253-83b40ee0e74a"
      },
      "outputs": [
        {
          "name": "stdout",
          "output_type": "stream",
          "text": [
            "1 2 3 5 8 13 21 34 55 89 "
          ]
        }
      ],
      "source": [
        "# 10.Create a Python program that prints the Fibonacci sequence up to a specified limit using a for loop.\n",
        "\n",
        "a=0\n",
        "b=1\n",
        "for i in range(10):\n",
        "  c=a+b\n",
        "  a=b\n",
        "  b=c\n",
        "  print(c,end=' ')\n"
      ]
    },
    {
      "cell_type": "code",
      "execution_count": 20,
      "metadata": {
        "colab": {
          "base_uri": "https://localhost:8080/"
        },
        "id": "MUs0xUzRsQbP",
        "outputId": "a1bf7ccc-930b-4fe3-ba8a-61b435e548c6"
      },
      "outputs": [
        {
          "name": "stdout",
          "output_type": "stream",
          "text": [
            "enter your string: lucifer\n",
            "number of vowels 3\n"
          ]
        }
      ],
      "source": [
        "# 11.Write a Python program to count the number of vowels in a given string using a for loop.\n",
        "\n",
        "s=input('enter your string: ')\n",
        "c=0\n",
        "for i in s:\n",
        "  if (i=='a'or i=='e'or i=='i'or i=='o'or i=='u'or i=='A'or i=='E'or i=='I'or i=='O'or i=='U'):\n",
        "    c=c+1\n",
        "print('number of vowels' ,c)"
      ]
    },
    {
      "cell_type": "code",
      "execution_count": 21,
      "metadata": {
        "colab": {
          "base_uri": "https://localhost:8080/"
        },
        "id": "_NxxpVD55hxO",
        "outputId": "ba71f858-eecc-4459-fc1a-577c5650fc15"
      },
      "outputs": [
        {
          "name": "stdout",
          "output_type": "stream",
          "text": [
            "Given numbers: 12\n",
            "12  x  1  =  12\n",
            "12  x  2  =  24\n",
            "12  x  3  =  36\n",
            "12  x  4  =  48\n",
            "12  x  5  =  60\n",
            "12  x  6  =  72\n",
            "12  x  7  =  84\n",
            "12  x  8  =  96\n",
            "12  x  9  =  108\n",
            "12  x  10  =  120\n"
          ]
        }
      ],
      "source": [
        "#12.Create a Python program that generates a multiplication table for a given number using a for loop.\n",
        "\n",
        "l1=int(input('Given numbers: '))\n",
        "\n",
        "for i in range(1,11):\n",
        "  mul=l1*i\n",
        "  print(l1 ,\" x \" ,i,' = ',mul)\n"
      ]
    },
    {
      "cell_type": "code",
      "execution_count": 22,
      "metadata": {
        "colab": {
          "base_uri": "https://localhost:8080/"
        },
        "id": "GLmGCozp-eML",
        "outputId": "f09eeebb-c783-43f6-b564-b571dc7d2bbe"
      },
      "outputs": [
        {
          "name": "stdout",
          "output_type": "stream",
          "text": [
            "40 10 7 6 5 7 3 2 1 "
          ]
        }
      ],
      "source": [
        "#13.Write a Python program to reverse a list using a for loop.\n",
        "\n",
        "list1=[1,2,3,7,5,6,7,10,40]\n",
        "\n",
        "for i in range(1,len(list1)+1):\n",
        "  print(list1[-i],end=' ')\n",
        "\n",
        "\n",
        "\n",
        "\n"
      ]
    },
    {
      "cell_type": "code",
      "execution_count": 23,
      "metadata": {
        "colab": {
          "base_uri": "https://localhost:8080/"
        },
        "id": "mwiaMRsYFK_T",
        "outputId": "707790cc-32ef-4e66-9a7d-f6658432a10c"
      },
      "outputs": [
        {
          "name": "stdout",
          "output_type": "stream",
          "text": [
            "[5, 10, 40]\n"
          ]
        }
      ],
      "source": [
        "#14.Write a Python program to find the common elements between two lists using a for loop\n",
        "\n",
        "list1=[1,3,5,10,13,40]\n",
        "list2=[2,4,5,10,14,15,40]\n",
        "l=[]\n",
        "for i in list1:\n",
        "  if i in list2:\n",
        "    l.append(i)\n",
        "print(l)\n",
        "\n"
      ]
    },
    {
      "cell_type": "code",
      "execution_count": 24,
      "metadata": {
        "colab": {
          "base_uri": "https://localhost:8080/"
        },
        "id": "6m25Qxsww9N2",
        "outputId": "eeca480d-3723-47e4-e45d-55b6b382b16b"
      },
      "outputs": [
        {
          "name": "stdout",
          "output_type": "stream",
          "text": [
            "first number: 96\n",
            "second number: 128\n",
            "Greatest Common Divisor:  32\n"
          ]
        }
      ],
      "source": [
        "#16.Write a Python program to find the GCD (Greatest Common Divisor) of two numbers using a for loop.\n",
        "\n",
        "a=int(input('first number: '))\n",
        "b=int(input('second number: '))\n",
        "b>a\n",
        "c=1\n",
        "for i in range(1,a+1):\n",
        "  if b%i==0 and a%i==0 :\n",
        "   c=i\n",
        "print('Greatest Common Divisor: ',c)\n",
        "\n"
      ]
    },
    {
      "cell_type": "code",
      "execution_count": 25,
      "metadata": {
        "colab": {
          "base_uri": "https://localhost:8080/"
        },
        "id": "CzU3rawycEMx",
        "outputId": "973b2e8e-e1a9-46c0-98d1-5c555f6b8b21"
      },
      "outputs": [
        {
          "name": "stdout",
          "output_type": "stream",
          "text": [
            "Given string: atata\n",
            "revstring:  atata\n",
            "No, it is not a palindrome squence\n"
          ]
        }
      ],
      "source": [
        "#17.Create a Python program that checks if a string is a palindrome using a for loop.\n",
        "\n",
        "s=input('Given string: ')\n",
        "\n",
        "r=\"\"\n",
        "\n",
        "for i in s:\n",
        "  r=i+r\n",
        "print('revstring: ',r)\n",
        "if (i==r):\n",
        "  print('yes, it is a palindrome squence')\n",
        "else:\n",
        "  print('No, it is not a palindrome squence')\n"
      ]
    },
    {
      "cell_type": "code",
      "execution_count": 26,
      "metadata": {
        "colab": {
          "base_uri": "https://localhost:8080/"
        },
        "id": "-ycyCo8Simmc",
        "outputId": "c11a2235-99ef-45e3-ee83-4ae58effbfe8"
      },
      "outputs": [
        {
          "name": "stdout",
          "output_type": "stream",
          "text": [
            "[1, 3, 4, 56, 78, 7, 100, 67, 77]\n"
          ]
        }
      ],
      "source": [
        "#18.Write a Python program to remove duplicates from a list using a for loop.\n",
        "\n",
        "list1=[1,3,4,56,78,7,100,3,4,67,78,77]\n",
        "newl=[]\n",
        "\n",
        "for i in list1:\n",
        "  if i not in newl:\n",
        "    newl.append(i)\n",
        "print(newl)\n",
        "\n",
        "\n"
      ]
    },
    {
      "cell_type": "code",
      "execution_count": 27,
      "metadata": {
        "colab": {
          "base_uri": "https://localhost:8080/"
        },
        "id": "F6Eo1KyNAEPT",
        "outputId": "8913374a-df7b-4471-ee36-eaca6cd54aa4"
      },
      "outputs": [
        {
          "name": "stdout",
          "output_type": "stream",
          "text": [
            "enter your sentence: my name is lucifer\n",
            "number of words in sentence:  15\n"
          ]
        }
      ],
      "source": [
        "#19.Create a Python program that counts the number of words in a sentence using a for loop.\n",
        "\n",
        "A=input(\"enter your sentence: \")\n",
        "\n",
        "countf=0\n",
        "\n",
        "for i in A:\n",
        "  if i.isalpha():\n",
        "     countf=countf+1\n",
        "print(\"number of words in sentence: \",countf)\n"
      ]
    },
    {
      "cell_type": "code",
      "execution_count": 28,
      "metadata": {
        "colab": {
          "base_uri": "https://localhost:8080/"
        },
        "id": "EIc3fN1XGVto",
        "outputId": "37655f92-7468-4164-9db3-e443c1d6972b"
      },
      "outputs": [
        {
          "name": "stdout",
          "output_type": "stream",
          "text": [
            "sum of odd numbers:  625\n"
          ]
        }
      ],
      "source": [
        "#20.Create a Python program that counts the number of words in a sentence using a for loop.\n",
        "\n",
        "a=0\n",
        "for i in range(1,50):\n",
        "  if i%2!=0:\n",
        "    a=a+i\n",
        "\n",
        "\n",
        "print(\"sum of odd numbers: \",a)\n",
        "\n",
        "\n"
      ]
    },
    {
      "cell_type": "code",
      "execution_count": 29,
      "metadata": {
        "colab": {
          "base_uri": "https://localhost:8080/"
        },
        "id": "vXgvGmJcA6WJ",
        "outputId": "4c160392-8ef1-4fcf-8982-d7218d787439"
      },
      "outputs": [
        {
          "name": "stdout",
          "output_type": "stream",
          "text": [
            "start year: 2020\n",
            "end year: 2030\n",
            "2020 Yes,This year is leap year\n",
            "2021 No,This year is not leap year\n",
            "2022 No,This year is not leap year\n",
            "2023 No,This year is not leap year\n",
            "2024 Yes,This year is leap year\n",
            "2025 No,This year is not leap year\n",
            "2026 No,This year is not leap year\n",
            "2027 No,This year is not leap year\n",
            "2028 Yes,This year is leap year\n",
            "2029 No,This year is not leap year\n"
          ]
        }
      ],
      "source": [
        "#21.Write a Python program that checks if a given year is a leap year using a for loop\n",
        "\n",
        "n=int(input('start year: '))\n",
        "n1=int(input('end year: '))\n",
        "\n",
        "for i in range(n,n1):\n",
        "  if i%4==0:\n",
        "   print(i,\"Yes,This year is leap year\")\n",
        "  else:\n",
        "   print(i,\"No,This year is not leap year\")\n",
        "\n"
      ]
    },
    {
      "cell_type": "code",
      "execution_count": 30,
      "metadata": {
        "colab": {
          "base_uri": "https://localhost:8080/"
        },
        "id": "-_Sh2GtcdDk9",
        "outputId": "01f597dd-9102-41ed-c3e6-ce1a268dbd79"
      },
      "outputs": [
        {
          "name": "stdout",
          "output_type": "stream",
          "text": [
            "square root of given numbers of :  1.0\n",
            "square root of given numbers of :  1.4142135623730951\n",
            "square root of given numbers of :  1.7320508075688772\n",
            "square root of given numbers of :  6.708203932499369\n",
            "square root of given numbers of :  8.18535277187245\n",
            "square root of given numbers of :  5.0\n",
            "square root of given numbers of :  6.0\n",
            "square root of given numbers of :  36.837480912787726\n"
          ]
        }
      ],
      "source": [
        "#22.Create a Python program that calculates the square root of a number using a for loop.\n",
        "\n",
        "ls=[1,2,3,45,67,25,36,1357]\n",
        "\n",
        "for i in ls:\n",
        "  i=i**0.5\n",
        "  print('square root of given numbers of : ',i)\n"
      ]
    },
    {
      "cell_type": "code",
      "execution_count": 31,
      "metadata": {
        "colab": {
          "base_uri": "https://localhost:8080/"
        },
        "id": "m0Poyo4gjR_j",
        "outputId": "f692fa52-d131-498e-a263-163503ae5428"
      },
      "outputs": [
        {
          "name": "stdout",
          "output_type": "stream",
          "text": [
            "first number: 56\n",
            "second number: 67\n",
            "least common multiple:  3752.0\n"
          ]
        }
      ],
      "source": [
        "#23.Write a Python program to find the LCM (Least Common Multiple) of two numbers using a for loop.\n",
        "\n",
        "a=int(input('first number: '))\n",
        "b=int(input('second number: '))\n",
        "b>a\n",
        "c=1\n",
        "for i in range(1,a+1):\n",
        "  if b%i==0 and a%i==0 :\n",
        "   c=i\n",
        "d=(a*b)/c\n",
        "print('least common multiple: ',d)\n"
      ]
    },
    {
      "cell_type": "markdown",
      "metadata": {
        "id": "GK492_XFsYeW"
      },
      "source": [
        "# if else"
      ]
    },
    {
      "cell_type": "code",
      "execution_count": null,
      "metadata": {
        "colab": {
          "base_uri": "https://localhost:8080/"
        },
        "id": "sJOtdAV9scFH",
        "outputId": "7e75c2a4-3249-4cdd-c7bb-6ae9a0140f70"
      },
      "outputs": [
        {
          "name": "stdout",
          "output_type": "stream",
          "text": [
            "Enter a number: -80\n",
            "This number is Negative.\n"
          ]
        }
      ],
      "source": [
        "#1.Write a Python program to check if a number is positive, negative, or zero using an if-else statement.\n",
        "\n",
        "n=int(input('Enter a number: '))\n",
        "\n",
        "if n>=0:\n",
        "  print('This number is Positive.')\n",
        "else:\n",
        "  print('This number is Negative.')"
      ]
    },
    {
      "cell_type": "code",
      "execution_count": null,
      "metadata": {
        "colab": {
          "base_uri": "https://localhost:8080/"
        },
        "id": "u6ghQe3Kscsj",
        "outputId": "574ec359-20c8-4a86-c5f3-79e2ed96e526"
      },
      "outputs": [
        {
          "name": "stdout",
          "output_type": "stream",
          "text": [
            "Enter a number: 88\n",
            "it is Even number\n"
          ]
        }
      ],
      "source": [
        "#2.Create a Python program that checks if a given number is even or odd using an if-else statement.\n",
        "\n",
        "a=int(input('Enter a number: '))\n",
        "\n",
        "if a%2==0:\n",
        "  print('it is Even number')\n",
        "else:\n",
        "  print('it is odd number')\n"
      ]
    },
    {
      "cell_type": "code",
      "execution_count": null,
      "metadata": {
        "colab": {
          "base_uri": "https://localhost:8080/"
        },
        "id": "RCQiD8uPfH9s",
        "outputId": "6e8f7ba6-ff74-4135-9662-d5f64097bd44"
      },
      "outputs": [
        {
          "name": "stdout",
          "output_type": "stream",
          "text": [
            "price range 2000\n",
            "motherboard brand name md\n",
            "not avialable\n"
          ]
        }
      ],
      "source": [
        "#3.How can you use nested if-else statements in Python, and provide an example?\n",
        "\n",
        "\n",
        "a=int(input('price range '))\n",
        "b=input('motherboard brand name ')\n",
        "\n",
        "if 3000<=a<=3500:\n",
        "     print('gigabyte','asrok')\n",
        "elif 3500<=a<=4500:\n",
        "     print('asus','md')\n",
        "     if b=='md':\n",
        "       print('md1','md2','md3','md4')\n",
        "     else:\n",
        "       print('asus1','asus2','asus3')\n",
        "elif 4500<=a<=8000:\n",
        "       print('biostar')\n",
        "else:\n",
        "  print('not avialable')"
      ]
    },
    {
      "cell_type": "code",
      "execution_count": null,
      "metadata": {
        "colab": {
          "base_uri": "https://localhost:8080/"
        },
        "id": "87vKxwTLscxL",
        "outputId": "92c3454b-e9ea-4560-8fb4-4069a3287582"
      },
      "outputs": [
        {
          "name": "stdout",
          "output_type": "stream",
          "text": [
            "enter a first number: 7\n",
            "enter a second number: 7\n",
            "enter a third number: 7\n",
            "there is no largest numbers\n"
          ]
        }
      ],
      "source": [
        "#4.Write a Python program to determine the largest of three numbers using if-else.\n",
        "\n",
        "a1=int(input('enter a first number: '))\n",
        "a2=int(input('enter a second number: '))\n",
        "a3=int(input('enter a third number: '))\n",
        "\n",
        "if (a1>a2 and a1>a3):\n",
        "  print(a1,'is the largest of three numbers.')\n",
        "elif (a2>a1 and a2>a3):\n",
        "  print(a2,'is the largest of three numbers.')\n",
        "elif (a3>a1 and a3>a2):\n",
        "  print(a3,'is the largest of three numbers.')\n",
        "else:\n",
        "  print('there is no largest numbers')\n",
        "\n",
        "\n",
        "\n"
      ]
    },
    {
      "cell_type": "code",
      "execution_count": null,
      "metadata": {
        "colab": {
          "base_uri": "https://localhost:8080/"
        },
        "id": "u8gNViLQsc0j",
        "outputId": "6e71436c-1cef-404a-d3c0-9adaf591fa29"
      },
      "outputs": [
        {
          "name": "stdout",
          "output_type": "stream",
          "text": [
            "Enter a number: -101\n",
            "Absolute value of -101 : 101\n"
          ]
        }
      ],
      "source": [
        "#5.Write a Python program that calculates the absolute value of a number using if-else.\n",
        "\n",
        "\n",
        "n=int(input('Enter a number: '))\n",
        "\n",
        "if n>=0:\n",
        "  print('Absolute value of',n,':',n)\n",
        "else:\n",
        "  print('Absolute value of',n,':',-n)"
      ]
    },
    {
      "cell_type": "code",
      "execution_count": null,
      "metadata": {
        "colab": {
          "base_uri": "https://localhost:8080/"
        },
        "id": "wS2h5ydcsc3O",
        "outputId": "85a8158e-b77f-461b-d987-6dd966444f49"
      },
      "outputs": [
        {
          "name": "stdout",
          "output_type": "stream",
          "text": [
            "Given character: j\n",
            "j is consonant\n"
          ]
        }
      ],
      "source": [
        "#6.Create a Python program that checks if a given character is a vowel or consonant using if-else.\n",
        "\n",
        "b=input('Given character: ')\n",
        "\n",
        "if b in set('aeiouAEIOU'):\n",
        "  print(b,'is Vowel.')\n",
        "else:\n",
        "  print(b,'is consonant')"
      ]
    },
    {
      "cell_type": "code",
      "execution_count": null,
      "metadata": {
        "colab": {
          "base_uri": "https://localhost:8080/"
        },
        "id": "SKT8ch90uqII",
        "outputId": "12f8765f-babc-49a4-b493-ea09847baebc"
      },
      "outputs": [
        {
          "name": "stdout",
          "output_type": "stream",
          "text": [
            "Enter your age: 17\n",
            "You are not eligible to vote.\n"
          ]
        }
      ],
      "source": [
        "#7.Write a Python program to determine if a user is eligible to vote based on their age using if-else.\n",
        "\n",
        "\n",
        "n=int(input(\"Enter your age: \"))\n",
        "\n",
        "if n>=18:\n",
        "  print(\"You are eligible to vote.\")\n",
        "else:\n",
        "  print(\"You are not eligible to vote.\")\n",
        "\n",
        "\n",
        "\n"
      ]
    },
    {
      "cell_type": "code",
      "execution_count": null,
      "metadata": {
        "colab": {
          "base_uri": "https://localhost:8080/"
        },
        "id": "YDIuBwzCxAtb",
        "outputId": "f251dfb6-9b17-4a0b-8eda-b2dccc038be7"
      },
      "outputs": [
        {
          "name": "stdout",
          "output_type": "stream",
          "text": [
            "Purchase amount: 40000\n",
            "You can get 30% discount.\n",
            " Discount amount: 28000.0\n"
          ]
        }
      ],
      "source": [
        "#8.Create a Python program that calculates the discount amount based on the purchase amount using if-else.\n",
        "\n",
        "n1=int(input('Purchase amount: '))\n",
        "\n",
        "def dm(discount):\n",
        "  return n1-n1*(discount/100)\n",
        "\n",
        "if 5000<=n1<=10000:\n",
        "  print(\"You can get 10% discount.\\n\",\"Discount amount:\",dm(10))\n",
        "elif 11000<=n1<=30000:\n",
        "  print(\"You can get 20% discount.\\n\",\"Discount amount:\",dm(20))\n",
        "else:\n",
        "  print(\"You can get 30% discount.\\n\",\"Discount amount:\",dm(30))\n",
        "\n",
        "\n"
      ]
    },
    {
      "cell_type": "code",
      "execution_count": null,
      "metadata": {
        "colab": {
          "base_uri": "https://localhost:8080/"
        },
        "id": "TeqQ7CIk5vRt",
        "outputId": "47f267c3-e380-4ac0-a4e2-1681c6b53f76"
      },
      "outputs": [
        {
          "name": "stdout",
          "output_type": "stream",
          "text": [
            "1st range:4\n",
            "end range:56\n",
            "enter a number: 50\n",
            "50 is in speified range .\n"
          ]
        }
      ],
      "source": [
        "#9.Write a Python program to check if a number is within a specified range using if-else.\n",
        "\n",
        "a=int(input('1st range:'))\n",
        "b=int(input('end range:'))\n",
        "\n",
        "n2=int(input('enter a number: '))\n",
        "\n",
        "if n2 in range(a,b):\n",
        "   print(n2,\"is in speified range .\")\n",
        "else:\n",
        "   print(n2,\"is not in speified range.\")\n"
      ]
    },
    {
      "cell_type": "code",
      "execution_count": null,
      "metadata": {
        "colab": {
          "base_uri": "https://localhost:8080/"
        },
        "id": "l4e9Hx9W8r_Q",
        "outputId": "dc10d094-15d6-4000-8aa8-b559ca328819"
      },
      "outputs": [
        {
          "name": "stdout",
          "output_type": "stream",
          "text": [
            "Score:34\n",
            "the grade of the student: C\n"
          ]
        }
      ],
      "source": [
        "#10.Create a Python program that determines the grade of a student based on their score using if-else.\n",
        "\n",
        "\n",
        "n3=int(input('Score:'))\n",
        "\n",
        "if 90<=n3<=100:\n",
        "  print('the grade of the student: A++')\n",
        "elif 70<=n3<=89:\n",
        "  print('the grade of the student: A+')\n",
        "elif 50<=n3<=69:\n",
        "  print('the grade of the student: B')\n",
        "else:\n",
        "  print('the grade of the student: C')\n",
        "\n"
      ]
    },
    {
      "cell_type": "code",
      "execution_count": null,
      "metadata": {
        "colab": {
          "base_uri": "https://localhost:8080/"
        },
        "id": "wX9oT0T9JWWJ",
        "outputId": "238ce14a-0446-4295-b46a-453eff868581"
      },
      "outputs": [
        {
          "name": "stdout",
          "output_type": "stream",
          "text": [
            "Given string is empty.\n"
          ]
        }
      ],
      "source": [
        "#11.Write a Python program to check if a string is empty or not using if-else.\n",
        "\n",
        "str=''\n",
        "len_string=len(str)\n",
        "\n",
        "if len_string==0:\n",
        "  print(\"Given string is empty.\")\n",
        "else:\n",
        "  print(\"given string is not empty.\")"
      ]
    },
    {
      "cell_type": "code",
      "execution_count": null,
      "metadata": {
        "colab": {
          "base_uri": "https://localhost:8080/"
        },
        "id": "lQuZ9TRVbga5",
        "outputId": "59ca2166-0b33-4299-e161-c082a8cb5c68"
      },
      "outputs": [
        {
          "name": "stdout",
          "output_type": "stream",
          "text": [
            "one side of triangle: 7\n",
            "second side of triangle: 4\n",
            "third side of triangle: 6\n",
            "Triangle is scalene.\n"
          ]
        }
      ],
      "source": [
        "#12.Create a Python program that identifies the type of a triangle (e.g., equilateral, isosceles, or scalene) based on input values using if-else.\n",
        "\n",
        "\n",
        "A=int(input(\"one side of triangle: \"))\n",
        "B=int(input(\"second side of triangle: \"))\n",
        "C=int(input(\"third side of triangle: \"))\n",
        "\n",
        "if A==B==C:\n",
        "  print('Triangle is Eqilateral.')\n",
        "elif A==B!=C or A!=B==C:\n",
        "  print(\"Triangle is isosceles.\")\n",
        "else:\n",
        "  print(\"Triangle is scalene.\")"
      ]
    },
    {
      "cell_type": "code",
      "execution_count": null,
      "metadata": {
        "colab": {
          "base_uri": "https://localhost:8080/"
        },
        "id": "nzPJvQ2eG9JL",
        "outputId": "5b9cfc18-eadd-4947-a03d-1d137fc5f9ed"
      },
      "outputs": [
        {
          "name": "stdout",
          "output_type": "stream",
          "text": [
            "Enter a number 9\n",
            "Invalid number\n"
          ]
        }
      ],
      "source": [
        "#13.Write a Python program to determine the day of the week based on a user-provided number using if-else.\n",
        "\n",
        "\n",
        "b=int(input('Enter a number '))\n",
        "\n",
        "if b==1:\n",
        "    print('Monday')\n",
        "elif b==2:\n",
        "    print('Tuesday')\n",
        "elif b==3:\n",
        "    print('Wednesday')\n",
        "elif b==4:\n",
        "    print('Thursday')\n",
        "elif b==5:\n",
        "    print('Friday')\n",
        "elif b==6:\n",
        "    print('Saturday')\n",
        "elif b==7:\n",
        "    print('Sunday')\n",
        "else:\n",
        "    print('Invalid number')"
      ]
    },
    {
      "cell_type": "code",
      "execution_count": null,
      "metadata": {
        "colab": {
          "base_uri": "https://localhost:8080/"
        },
        "id": "ZsjIifZvMtYe",
        "outputId": "afc73175-295e-4040-aa3b-1eca8fdb7a82"
      },
      "outputs": [
        {
          "name": "stdout",
          "output_type": "stream",
          "text": [
            "Give a year: 2080\n",
            "2080 is a leap year\n"
          ]
        }
      ],
      "source": [
        "#14.Create a Python program that checks if a given year is a leap year using both if-else and a function.\n",
        "\n",
        "n=int(input('Give a year: '))\n",
        "\n",
        "if (n%400==0) and (n%100==0):\n",
        "  print(n,'is a leap year.')\n",
        "elif (n%4==0) and (n%100!=0):\n",
        "  print(n,'is a leap year')\n",
        "else:\n",
        "  print(n,'is not a leap year.')"
      ]
    },
    {
      "cell_type": "code",
      "execution_count": null,
      "metadata": {
        "colab": {
          "base_uri": "https://localhost:8080/",
          "height": 273
        },
        "id": "Itgvk2lkUTR-",
        "outputId": "3e0eb180-648e-4a14-cd37-165cef6fcaf1"
      },
      "outputs": [
        {
          "name": "stdout",
          "output_type": "stream",
          "text": [
            "Enter a number: 6\n"
          ]
        },
        {
          "ename": "AssertionError",
          "evalue": "ignored",
          "output_type": "error",
          "traceback": [
            "\u001b[0;31m---------------------------------------------------------------------------\u001b[0m",
            "\u001b[0;31mAssertionError\u001b[0m                            Traceback (most recent call last)",
            "\u001b[0;32m<ipython-input-15-d2d542f4cd38>\u001b[0m in \u001b[0;36m<cell line: 4>\u001b[0;34m()\u001b[0m\n\u001b[1;32m      2\u001b[0m \u001b[0;34m\u001b[0m\u001b[0m\n\u001b[1;32m      3\u001b[0m \u001b[0mn\u001b[0m\u001b[0;34m=\u001b[0m\u001b[0mint\u001b[0m\u001b[0;34m(\u001b[0m\u001b[0minput\u001b[0m\u001b[0;34m(\u001b[0m\u001b[0;34m'Enter a number: '\u001b[0m\u001b[0;34m)\u001b[0m\u001b[0;34m)\u001b[0m\u001b[0;34m\u001b[0m\u001b[0;34m\u001b[0m\u001b[0m\n\u001b[0;32m----> 4\u001b[0;31m \u001b[0;32massert\u001b[0m \u001b[0mn\u001b[0m\u001b[0;34m<=\u001b[0m\u001b[0;36m1\u001b[0m\u001b[0;34m\u001b[0m\u001b[0;34m\u001b[0m\u001b[0m\n\u001b[0m\u001b[1;32m      5\u001b[0m \u001b[0;32mif\u001b[0m \u001b[0mn\u001b[0m\u001b[0;34m>=\u001b[0m\u001b[0;36m0\u001b[0m\u001b[0;34m:\u001b[0m\u001b[0;34m\u001b[0m\u001b[0;34m\u001b[0m\u001b[0m\n\u001b[1;32m      6\u001b[0m   \u001b[0mprint\u001b[0m\u001b[0;34m(\u001b[0m\u001b[0;34m'This number is Positive.'\u001b[0m\u001b[0;34m)\u001b[0m\u001b[0;34m\u001b[0m\u001b[0;34m\u001b[0m\u001b[0m\n",
            "\u001b[0;31mAssertionError\u001b[0m: "
          ]
        }
      ],
      "source": [
        "#15.How do you use the \"assert\" statement in Python to add debugging checks within if-else blocks?\n",
        "\n",
        "n=int(input('Enter a number: '))\n",
        "assert n<=1\n",
        "if n>=0:\n",
        "  print('This number is Positive.')\n",
        "else:\n",
        "  print('This number is Negative.')"
      ]
    },
    {
      "cell_type": "code",
      "execution_count": null,
      "metadata": {
        "colab": {
          "base_uri": "https://localhost:8080/"
        },
        "id": "eHCoCOkTUTtb",
        "outputId": "310e2454-c272-4387-a123-0c815261eb10"
      },
      "outputs": [
        {
          "name": "stdout",
          "output_type": "stream",
          "text": [
            "Enter your age: 45\n",
            "No Discount\n"
          ]
        }
      ],
      "source": [
        "#16.Create a Python program that determines the eligibility of a person for a senior citizen discount based on age using if-else.\n",
        "\n",
        "B = int(input('Enter your age: '))\n",
        "\n",
        "if B >= 60:\n",
        "    print('you are eligible for Senior Discount')\n",
        "else:\n",
        "    print('No Discount')"
      ]
    },
    {
      "cell_type": "code",
      "execution_count": null,
      "metadata": {
        "colab": {
          "base_uri": "https://localhost:8080/"
        },
        "id": "EYqXvyYWbqT0",
        "outputId": "8cbacdbe-870d-4c10-fa46-6d4b6e60b83b"
      },
      "outputs": [
        {
          "name": "stdout",
          "output_type": "stream",
          "text": [
            "Give you character: H\n",
            "H is an upperCase character\n"
          ]
        }
      ],
      "source": [
        "#17.Write a Python program to categorize a given character as uppercase, lowercase, or neither using if-else.\n",
        "\n",
        "a=input('Give you character: ')\n",
        "\n",
        "if a.upper():\n",
        "    print(a, \"is an upperCase character\")\n",
        "elif a.lower():\n",
        "    print(a, \"is a lowerCase character\")\n",
        "else:\n",
        "    print(a, \"is not an alphabetic character\")"
      ]
    },
    {
      "cell_type": "code",
      "execution_count": null,
      "metadata": {
        "colab": {
          "base_uri": "https://localhost:8080/"
        },
        "id": "ahp91UVjkwOY",
        "outputId": "5dee127a-beb6-4ec7-f7da-980754f5a88f"
      },
      "outputs": [
        {
          "name": "stdout",
          "output_type": "stream",
          "text": [
            "Enter a:6\n",
            "Enter b:6\n",
            "Enter c:6\n",
            "Complex Roots\n",
            "-0.5  + i 10.392304845413264\n",
            "-0.5  - i 10.392304845413264\n"
          ]
        }
      ],
      "source": [
        "#18.Write a Python program to determine the roots of a quadratic equation using if-else.\n",
        "\n",
        "import math\n",
        "\n",
        "def findRoots(a, b, c):\n",
        "\n",
        "     d = b * b - 4 * a * c\n",
        "     D = math.sqrt(abs(d))\n",
        "\n",
        "\n",
        "     if   d > 0:\n",
        "        print(\" real and different roots \")\n",
        "        print((-b + D) / (2 * a))\n",
        "        print((-b - D) / (2 * a))\n",
        "\n",
        "     elif   d == 0:\n",
        "        print(\" real and same roots\")\n",
        "        print(-b / (2 * a))\n",
        "\n",
        "\n",
        "     else:\n",
        "        print(\"Complex Roots\")\n",
        "        print(- b / (2 * a), \" + i\", D)\n",
        "        print(- b / (2 * a), \" - i\", D)\n",
        "\n",
        "\n",
        "a = int(input('Enter a:'))\n",
        "b = int(input('Enter b:'))\n",
        "c = int(input('Enter c:'))\n",
        "\n",
        "if a == 0:\n",
        "    print(\"Input correct quadratic equation\")\n",
        "\n",
        "else:\n",
        "    findRoots(a, b, c)"
      ]
    },
    {
      "cell_type": "code",
      "execution_count": null,
      "metadata": {
        "colab": {
          "base_uri": "https://localhost:8080/"
        },
        "id": "tPWgClXTpszP",
        "outputId": "7b2f0585-c68d-413c-eb31-b2de82ad2d4c"
      },
      "outputs": [
        {
          "name": "stdout",
          "output_type": "stream",
          "text": [
            "Give your year: 1650\n",
            "17 century\n"
          ]
        }
      ],
      "source": [
        "#19.Create a Python program that checks if a given year is a century year or not using if-else.\n",
        "\n",
        "year=int(input('Give your year: '))\n",
        "\n",
        "if (year <= 0):\n",
        "  print(\"0 and negative is not allow for a year\")\n",
        "elif (year <= 100):\n",
        "    print(\"1st century\")\n",
        "elif (year % 100 == 0):\n",
        "    print(year // 100,\"century\")\n",
        "else:\n",
        "    print(year // 100 + 1,\"century\")\n"
      ]
    },
    {
      "cell_type": "code",
      "execution_count": null,
      "metadata": {
        "colab": {
          "base_uri": "https://localhost:8080/"
        },
        "id": "NHCHsMrAv_DF",
        "outputId": "960cb174-ea0b-445a-d47b-3d50cffae288"
      },
      "outputs": [
        {
          "name": "stdout",
          "output_type": "stream",
          "text": [
            "Give your number: 45\n",
            "This number is not a perfect square .\n"
          ]
        }
      ],
      "source": [
        "#20.Write a Python program to determine if a given number is a perfect square using if-else.\n",
        "\n",
        "n=int(input('Give your number: '))\n",
        "\n",
        "r=n**0.5\n",
        "\n",
        "if r**2==n:\n",
        "  print(\"This number is a perfect square of\",r)\n",
        "else:\n",
        "  print(\"This number is not a perfect square .\")"
      ]
    },
    {
      "cell_type": "code",
      "execution_count": null,
      "metadata": {
        "colab": {
          "base_uri": "https://localhost:8080/"
        },
        "id": "oZvK0MCzylGw",
        "outputId": "08fa427d-1539-423d-ad93-87956bef013f"
      },
      "outputs": [
        {
          "name": "stdout",
          "output_type": "stream",
          "text": [
            "Enter your height (cm): 167\n",
            "Enter your weight (kg): 65\n",
            "You are healthy.\n"
          ]
        }
      ],
      "source": [
        "#22.Create a Python program that calculates the BMI (Body Mass Index) of a person based on their weight and height using if-else.\n",
        "\n",
        "H=float(input(\"Enter your height (cm): \"))\n",
        "W=int(input(\"Enter your weight (kg): \"))\n",
        "\n",
        "BMI= W/(H/100)**2\n",
        "\n",
        "if BMI <= 18.5:\n",
        "    print(\"You are underweight.\")\n",
        "elif BMI <= 24.9:\n",
        "    print(\"You are healthy.\")\n",
        "elif BMI <= 29.9:\n",
        "    print(\"You are overweight.\")\n",
        "else:\n",
        "    print(\"You are obese.\")"
      ]
    },
    {
      "cell_type": "code",
      "execution_count": null,
      "metadata": {
        "colab": {
          "base_uri": "https://localhost:8080/"
        },
        "id": "WAx4BFjG3U2d",
        "outputId": "402cb0e5-0c3d-4bef-df9e-7405a1f3a520"
      },
      "outputs": [
        {
          "name": "stdout",
          "output_type": "stream",
          "text": [
            "Enter your number: 29\n",
            "29 is the prime. \n"
          ]
        }
      ],
      "source": [
        "#24.Write a Python program to determine if a given number is prime or not using if-else.\n",
        "\n",
        "\n",
        "n=int(input(\"Enter your number: \"))\n",
        "\n",
        "if n > 1:\n",
        "        if (n %2 == 0 and n != 2) or (n %3 == 0 and n != 3 ) or(n %5 == 0 and n != 5):\n",
        "            print(n,\"is NOT the prime. \")\n",
        "        else:\n",
        "            print(n,\"is the prime. \")\n",
        "\n",
        "else:\n",
        "      print(n,\"is NOT the prime. \")"
      ]
    },
    {
      "cell_type": "markdown",
      "metadata": {
        "id": "DJtAWOSeIH8k"
      },
      "source": [
        "\n",
        "# Map"
      ]
    },
    {
      "cell_type": "code",
      "execution_count": null,
      "metadata": {
        "colab": {
          "base_uri": "https://localhost:8080/"
        },
        "id": "kQR7cuHJIONL",
        "outputId": "99e70934-b90d-41ff-8c73-dc4128a7151b"
      },
      "outputs": [
        {
          "name": "stdout",
          "output_type": "stream",
          "text": [
            "[4, 16, 3136, 6084, 81, 100]\n"
          ]
        }
      ],
      "source": [
        "#2.Write a Python program that uses the `map()` function to square each element of a list of numbers.\n",
        "\n",
        "l=[2,4,56,78,9,10]\n",
        "\n",
        "def squ_elements(l):\n",
        "  return l**2\n",
        "\n",
        "res1 = [*map(squ_elements,l)]\n",
        "\n",
        "print(res1)"
      ]
    },
    {
      "cell_type": "code",
      "execution_count": null,
      "metadata": {
        "colab": {
          "base_uri": "https://localhost:8080/"
        },
        "id": "529L-iLaJzd7",
        "outputId": "2e2ee625-12f4-4355-d017-22fa1931bbd4"
      },
      "outputs": [
        {
          "name": "stdout",
          "output_type": "stream",
          "text": [
            "['LUCIFER', 'ALEX', 'APPLE']\n"
          ]
        }
      ],
      "source": [
        "#4.Create a Python program that uses the `map()` function to convert a list of names to uppercase.\n",
        "\n",
        "l1=['lucifer','alex','apple']\n",
        "\n",
        "def myfunc(n):\n",
        "  return n.upper()\n",
        "\n",
        "x=[*map(myfunc,l1)]\n",
        "# y=list(x)\n",
        "print(x)"
      ]
    },
    {
      "cell_type": "code",
      "execution_count": null,
      "metadata": {
        "colab": {
          "base_uri": "https://localhost:8080/"
        },
        "id": "299cnIZ_MELU",
        "outputId": "4e449d6c-0a33-46fb-d588-8c84b776c97c"
      },
      "outputs": [
        {
          "name": "stdout",
          "output_type": "stream",
          "text": [
            "[7, 6, 8]\n"
          ]
        }
      ],
      "source": [
        "#5.Write a Python program that uses the `map()` function to calculate the length of each word in a list of strings.\n",
        "\n",
        "l2=['lucifer', 'orange','pinapple']\n",
        "\n",
        "def myfunc(n):\n",
        "  return len(n)\n",
        "\n",
        "x=map(myfunc,l2)\n",
        "#y=list(x)\n",
        "y=[*x]\n",
        "print(y)"
      ]
    },
    {
      "cell_type": "code",
      "execution_count": null,
      "metadata": {
        "colab": {
          "base_uri": "https://localhost:8080/"
        },
        "id": "RU9O6zmyU-U1",
        "outputId": "69d01a46-bc24-4454-994c-0cbc01dbbb38"
      },
      "outputs": [
        {
          "name": "stdout",
          "output_type": "stream",
          "text": [
            "[14, 40, 13, 77, 92]\n"
          ]
        }
      ],
      "source": [
        "#6.How can you use the `map()` function to apply a custom function to elements of multiple lists simultaneously in Python?\n",
        "\n",
        "\n",
        "n1=[1,2,3,4,5]\n",
        "n2=[3,4,5,6,7]\n",
        "n3=[10,34,5,67,80]\n",
        "\n",
        "def add(x,y,z):\n",
        "  return x+y+z\n",
        "\n",
        "x=[*(map(add,n1,n2,n3))]\n",
        "print(x)\n",
        "\n"
      ]
    },
    {
      "cell_type": "code",
      "execution_count": null,
      "metadata": {
        "colab": {
          "base_uri": "https://localhost:8080/"
        },
        "id": "0zs3j9G_ZouJ",
        "outputId": "76eae408-ccaf-41d5-f47b-daa5319176c2"
      },
      "outputs": [
        {
          "name": "stdout",
          "output_type": "stream",
          "text": [
            "temp in Fahrenheit= [203.0, 208.4, 212.0, 215.6]\n"
          ]
        }
      ],
      "source": [
        "#7.Create a Python program that uses `map()` to convert a list of temperatures from Celsius to Fahrenheit.\n",
        "\n",
        "l3=[95,98,100,102]\n",
        "\n",
        "def tempuio(n):\n",
        "  return n*9/5+32\n",
        "\n",
        "x=[*(map(tempuio,l3))]\n",
        "print(\"temp in Fahrenheit=\",x)\n"
      ]
    },
    {
      "cell_type": "code",
      "execution_count": null,
      "metadata": {
        "colab": {
          "base_uri": "https://localhost:8080/"
        },
        "id": "sA3rUzntm2un",
        "outputId": "81de66a5-fd97-4901-fe59-0669aa5cd0e2"
      },
      "outputs": [
        {
          "name": "stdout",
          "output_type": "stream",
          "text": [
            "nearest integer: [2, 5, 5, 3, 13]\n"
          ]
        }
      ],
      "source": [
        "#8.Write a Python program that uses the `map()` function to round each element of a list of floating-point numbers to the nearest integer.\n",
        "\n",
        "l4=[2.33,4.56,4.99,3.45,12.95]\n",
        "\n",
        "def myfunc(n):\n",
        "  return round(n)\n",
        "\n",
        "x=map(myfunc,l4)\n",
        "y=[*x]\n",
        "print('nearest integer:',y)\n"
      ]
    },
    {
      "cell_type": "markdown",
      "metadata": {
        "id": "rJg6A7R0J-Wq"
      },
      "source": [
        "# Reduce"
      ]
    },
    {
      "cell_type": "code",
      "execution_count": null,
      "metadata": {
        "colab": {
          "base_uri": "https://localhost:8080/"
        },
        "id": "vB9RzHsUKEyo",
        "outputId": "59d4d70a-b88d-4712-f0d1-5918db8c9b1b"
      },
      "outputs": [
        {
          "name": "stdout",
          "output_type": "stream",
          "text": [
            "product of all elements in a list= 21111552\n"
          ]
        }
      ],
      "source": [
        "#2.Write a Python program that uses the `reduce()` function to find the product of all elements in a list.\n",
        "\n",
        "\n",
        "from functools import reduce\n",
        "\n",
        "def product(a,b):\n",
        "  return a*b\n",
        "\n",
        "l=[2,34,56,7,8,99]\n",
        "\n",
        "y=reduce(product,l)\n",
        "print(\"product of all elements in a list=\", y)"
      ]
    },
    {
      "cell_type": "code",
      "execution_count": null,
      "metadata": {
        "colab": {
          "base_uri": "https://localhost:8080/"
        },
        "id": "Itm4xsrlLPcY",
        "outputId": "4a2b0b93-8c65-43fb-b3db-3d296562d4d7"
      },
      "outputs": [
        {
          "name": "stdout",
          "output_type": "stream",
          "text": [
            "Maximum elementn in a list= 56\n"
          ]
        }
      ],
      "source": [
        "#3.Create a Python program that uses `reduce()` to find the maximum element in a list of numbers.\n",
        "\n",
        "l1=[2,34,45,3,56,4,6]\n",
        "\n",
        "def max_ele(a,b):\n",
        "  if a>b:\n",
        "    return a\n",
        "  else:\n",
        "    return b\n",
        "\n",
        "y=reduce(max_ele,l1)\n",
        "print('Maximum elementn in a list=',y)"
      ]
    },
    {
      "cell_type": "code",
      "execution_count": null,
      "metadata": {
        "colab": {
          "base_uri": "https://localhost:8080/"
        },
        "id": "97etBzNwM9Wq",
        "outputId": "975535a6-ecc2-4281-8ca5-12afa09708ad"
      },
      "outputs": [
        {
          "name": "stdout",
          "output_type": "stream",
          "text": [
            "mynameislucifer\n"
          ]
        }
      ],
      "source": [
        "#4.How can you use the `reduce()` function to concatenate a list of strings into a single string?\n",
        "\n",
        "l2=['my','name','is','lucifer']\n",
        "\n",
        "def myfunc(x,y):\n",
        "  return x+y\n",
        "\n",
        "a=reduce(myfunc,l2)\n",
        "print(a)\n"
      ]
    },
    {
      "cell_type": "code",
      "execution_count": null,
      "metadata": {
        "colab": {
          "base_uri": "https://localhost:8080/"
        },
        "id": "QABFSdJ7OEZq",
        "outputId": "9db9dcc2-9c13-465a-c25c-7226a9f63c92"
      },
      "outputs": [
        {
          "name": "stdout",
          "output_type": "stream",
          "text": [
            "5\n",
            "factorial number of 5 = 120\n"
          ]
        }
      ],
      "source": [
        "#5.Write a Python program that calculates the factorial of a number using the `reduce()` function.\n",
        "\n",
        "n=int(input())\n",
        "\n",
        "def test(x,y):\n",
        "  return x*y\n",
        "\n",
        "y=reduce(test,range(1,n+1))\n",
        "print('factorial number of',n,'=', y)\n",
        "\n"
      ]
    },
    {
      "cell_type": "code",
      "execution_count": null,
      "metadata": {
        "colab": {
          "base_uri": "https://localhost:8080/"
        },
        "id": "HZaP29p_UEgf",
        "outputId": "da90ba94-9717-44be-c35c-bb9291b485ee"
      },
      "outputs": [
        {
          "name": "stdout",
          "output_type": "stream",
          "text": [
            "Greatest Common Divisor of list= 1\n"
          ]
        }
      ],
      "source": [
        "#6.Create a Python program that uses `reduce()` to find the GCD (Greatest Common Divisor) of a list of numbers.\n",
        "\n",
        "l3=[2,3,45,67,89]\n",
        "\n",
        "def gcd(a,b):\n",
        "  if b==0:\n",
        "    return a\n",
        "  else:\n",
        "    return gcd(b,a%b)\n",
        "\n",
        "x=reduce(gcd,l3)\n",
        "print(\"Greatest Common Divisor of list=\",x)\n",
        "\n"
      ]
    },
    {
      "cell_type": "code",
      "execution_count": null,
      "metadata": {
        "colab": {
          "base_uri": "https://localhost:8080/"
        },
        "id": "1H-bfUIrkTQi",
        "outputId": "2ac577d8-591d-41b7-c0ba-453ae65d14fd"
      },
      "outputs": [
        {
          "name": "stdout",
          "output_type": "stream",
          "text": [
            "enter your number: 1234\n",
            "sum of digits of 1234 = 10\n"
          ]
        }
      ],
      "source": [
        "#7.Write a Python program that uses the `reduce()` function to find the sum of the digits of a given number.\n",
        "\n",
        "n=int(input('enter your number: '))\n",
        "new_n = list(str(n).strip())\n",
        "\n",
        "def add(x,y):\n",
        "   x=int(x)+int(y)\n",
        "   return x\n",
        "\n",
        "a=reduce(add,new_n)\n",
        "print('sum of digits of',n,'=',a)"
      ]
    },
    {
      "cell_type": "markdown",
      "metadata": {
        "id": "Od6xGI-IVO_c"
      },
      "source": [
        "# Filter\n"
      ]
    },
    {
      "cell_type": "code",
      "execution_count": null,
      "metadata": {
        "colab": {
          "base_uri": "https://localhost:8080/"
        },
        "id": "wR8v7iz_VTTx",
        "outputId": "7ddfe784-b34c-4d39-ceec-7644bd56e209"
      },
      "outputs": [
        {
          "name": "stdout",
          "output_type": "stream",
          "text": [
            "[2, 4, 66, 80]\n"
          ]
        }
      ],
      "source": [
        "#2.Write a Python program that uses the `filter()` function to select even numbers from a list of integers.\n",
        "\n",
        "\n",
        "L=[1,2,3,4,5,67,77,66,80]\n",
        "\n",
        "def even_checker(n):\n",
        "  if n%2==0:\n",
        "    return True\n",
        "  else:\n",
        "    return False\n",
        "\n",
        "X=filter(even_checker,L)\n",
        "print(list(X))"
      ]
    },
    {
      "cell_type": "code",
      "execution_count": null,
      "metadata": {
        "colab": {
          "base_uri": "https://localhost:8080/"
        },
        "id": "Xzd418RjXE0I",
        "outputId": "77db5735-c782-4fec-86be-d7c6e2b73343"
      },
      "outputs": [
        {
          "name": "stdout",
          "output_type": "stream",
          "text": [
            "['olive', 'alive', 'Banana']\n"
          ]
        }
      ],
      "source": [
        "#3.Create a Python program that uses the `filter()` function to select names that start with a specific letter from a list of strings.\n",
        "\n",
        "\n",
        "l1=['olive','alive','fruit','Banana','Apple']\n",
        "\n",
        "start_letter=['a','o','B']\n",
        "\n",
        "def fun(n):\n",
        "  if n[0] in start_letter:\n",
        "    return True\n",
        "  else:\n",
        "    return False\n",
        "\n",
        "Y=filter(fun,l1)\n",
        "print(list(Y))"
      ]
    },
    {
      "cell_type": "code",
      "execution_count": null,
      "metadata": {
        "colab": {
          "base_uri": "https://localhost:8080/"
        },
        "id": "jmkiPMdAbTQq",
        "outputId": "5261f5f2-bb4b-46d8-d4f6-6460e219c964"
      },
      "outputs": [
        {
          "name": "stdout",
          "output_type": "stream",
          "text": [
            "[2, 3, 5, 67, 23, 29, 89]\n"
          ]
        }
      ],
      "source": [
        "#4.Write a Python program that uses the `filter()` function to select prime numbers from a list of integers.\n",
        "\n",
        "l2=[2,3,4,5,35,34,25,56,67,23,29,89]\n",
        "\n",
        "def prime_num(n):\n",
        "  if (n%2!=0 or n==2) and (n%3!=0 or n==3) and (n%5!=0 or n==5):\n",
        "    return True\n",
        "  else:\n",
        "    return False\n",
        "\n",
        "X1=filter(prime_num,l2)\n",
        "print(list(X1))"
      ]
    },
    {
      "cell_type": "code",
      "execution_count": null,
      "metadata": {
        "colab": {
          "base_uri": "https://localhost:8080/"
        },
        "id": "fM96_Jx_dmnc",
        "outputId": "42f52199-6edb-4fb2-a568-41f3ebf3751f"
      },
      "outputs": [
        {
          "name": "stdout",
          "output_type": "stream",
          "text": [
            "[1, 4, 5]\n"
          ]
        }
      ],
      "source": [
        "#5.How can you use the `filter()` function to remove None values from a list in Python?\n",
        "\n",
        "\n",
        "\n",
        "l1=[1,'none',4,5,'none']\n",
        "\n",
        "word='none'\n",
        "\n",
        "def fun(n):\n",
        "  if n is not word:\n",
        "    return True\n",
        "  else:\n",
        "    return False\n",
        "\n",
        "Y=filter(fun,l1)\n",
        "print(list(Y))"
      ]
    },
    {
      "cell_type": "code",
      "execution_count": null,
      "metadata": {
        "colab": {
          "base_uri": "https://localhost:8080/"
        },
        "id": "eMihj-gnfMgE",
        "outputId": "89008448-ecd1-47e8-bacd-7dcc3de75a8d"
      },
      "outputs": [
        {
          "name": "stdout",
          "output_type": "stream",
          "text": [
            "['Banana', 'umbrella', 'australia']\n"
          ]
        }
      ],
      "source": [
        "#6.Create a Python program that uses `filter()` to select words longer than a certain length from a list of strings.\n",
        "\n",
        "\n",
        "l1=['olive','alive','fruit','Banana','Apple','umbrella','australia']\n",
        "\n",
        "\n",
        "def fun(n):\n",
        "  if len(n)> 5 :\n",
        "    return True\n",
        "  else:\n",
        "    return False\n",
        "\n",
        "Y=filter(fun,l1)\n",
        "print(list(Y))"
      ]
    },
    {
      "cell_type": "code",
      "execution_count": 12,
      "metadata": {
        "colab": {
          "base_uri": "https://localhost:8080/"
        },
        "id": "uPtk1J__g2yV",
        "outputId": "9b26545e-bfff-4105-86c1-e05c2cb77514"
      },
      "outputs": [
        {
          "name": "stdout",
          "output_type": "stream",
          "text": [
            "[56, 67, 89]\n"
          ]
        }
      ],
      "source": [
        "#7.Write a Python program that uses the `filter()` function to select elements greater than a specified threshold from a list of values.\n",
        "\n",
        "l3=[2,3,4,5,35,34,25,56,67,23,29,89]\n",
        "\n",
        "def prime_num(n):\n",
        "  if n>35:\n",
        "    return True\n",
        "  else:\n",
        "    return False\n",
        "\n",
        "X1=filter(prime_num,l3)\n",
        "print(list(X1))"
      ]
    },
    {
      "cell_type": "markdown",
      "metadata": {
        "id": "oXAEA1UoiIic"
      },
      "source": [
        "# Recurrsion"
      ]
    },
    {
      "cell_type": "code",
      "execution_count": null,
      "metadata": {
        "id": "JVLRU7HliMz9"
      },
      "outputs": [],
      "source": [
        "#2.Write a Python program to calculate the factorial of a number using recursion.\n",
        "\n",
        "def recur_fact(n):\n",
        "  if n==1:\n",
        "    return n\n",
        "  else:\n",
        "    return(n*recur_fact(n-1))\n",
        "\n"
      ]
    },
    {
      "cell_type": "code",
      "execution_count": null,
      "metadata": {
        "colab": {
          "base_uri": "https://localhost:8080/"
        },
        "id": "9YCOr-gYyBRR",
        "outputId": "1600a099-4cb1-4096-9dc5-933d06baf22c"
      },
      "outputs": [
        {
          "data": {
            "text/plain": [
              "720"
            ]
          },
          "execution_count": 3,
          "metadata": {},
          "output_type": "execute_result"
        }
      ],
      "source": [
        "recur_fact(6)"
      ]
    },
    {
      "cell_type": "code",
      "execution_count": null,
      "metadata": {
        "colab": {
          "base_uri": "https://localhost:8080/"
        },
        "id": "SicgEal0ysc9",
        "outputId": "12f89a95-8558-40ec-e5e3-e83cec3552f8"
      },
      "outputs": [
        {
          "name": "stdout",
          "output_type": "stream",
          "text": [
            "8\n"
          ]
        }
      ],
      "source": [
        "#3.Create a recursive Python function to find the nth Fibonacci number.\n",
        "\n",
        "def gen_fib(n):\n",
        "  if n<=1:\n",
        "    return n\n",
        "  else:\n",
        "    return gen_fib(n-1)+gen_fib(n-2)\n",
        "\n",
        "print(gen_fib(6))"
      ]
    },
    {
      "cell_type": "code",
      "execution_count": null,
      "metadata": {
        "colab": {
          "base_uri": "https://localhost:8080/"
        },
        "id": "SdRB4uU30xZm",
        "outputId": "e3d4274b-e765-4eb5-91a2-1e33f2e458f9"
      },
      "outputs": [
        {
          "name": "stdout",
          "output_type": "stream",
          "text": [
            "68\n"
          ]
        }
      ],
      "source": [
        "#4.Write a recursive Python function to calculate the sum of all elements in a list.\n",
        "\n",
        "\n",
        "list1=[1,3,5,6,8,45]\n",
        "\n",
        "def findSum(list1):\n",
        "     if len(list1)== 1:\n",
        "        return list1[0]\n",
        "     else:\n",
        "        return list1[0]+findSum(list1[1:])\n",
        "\n",
        "print(findSum(list1))"
      ]
    },
    {
      "cell_type": "code",
      "execution_count": null,
      "metadata": {
        "colab": {
          "base_uri": "https://localhost:8080/"
        },
        "id": "IBofv7pq2fYn",
        "outputId": "6a01ef03-e763-48a7-9e1e-5a009e9b879d"
      },
      "outputs": [
        {
          "name": "stdout",
          "output_type": "stream",
          "text": [
            "Enter the string to be reversed: lucifer\n",
            "reficul\n"
          ]
        }
      ],
      "source": [
        "#7.Write a recursive Python function to reverse a string.\n",
        "\n",
        "\n",
        "a = str(input(\"Enter the string to be reversed: \"))\n",
        "\n",
        "\n",
        "def reverse(string):\n",
        "    if len(string) == 0:\n",
        "        return string\n",
        "    else:\n",
        "        return reverse(string[1:]) + string[0]\n",
        "\n",
        "print(reverse(a))"
      ]
    },
    {
      "cell_type": "code",
      "execution_count": null,
      "metadata": {
        "colab": {
          "base_uri": "https://localhost:8080/"
        },
        "id": "9E6pcXlA3XtR",
        "outputId": "9739f318-4424-422d-9589-3b8de46d1813"
      },
      "outputs": [
        {
          "name": "stdout",
          "output_type": "stream",
          "text": [
            "36\n"
          ]
        }
      ],
      "source": [
        "#8.Create a recursive Python function to calculate the power of a number (x^n).\n",
        "\n",
        "def power(N, P):\n",
        "    if P == 0:\n",
        "        return 1\n",
        "    else:\n",
        "        return (N*power(N, P-1))\n",
        "\n",
        "\n",
        "\n",
        "if __name__ == '__main__':\n",
        "    N = 6\n",
        "    P = 2\n",
        "\n",
        "    print(power(N, P))"
      ]
    },
    {
      "cell_type": "markdown",
      "metadata": {
        "id": "38tfTpo55vbg"
      },
      "source": [
        "# Lamda function"
      ]
    },
    {
      "cell_type": "code",
      "execution_count": null,
      "metadata": {
        "colab": {
          "base_uri": "https://localhost:8080/"
        },
        "id": "pulcNALr5zBD",
        "outputId": "6e36bca7-125e-4add-86c6-ad28294bdbea"
      },
      "outputs": [
        {
          "name": "stdout",
          "output_type": "stream",
          "text": [
            "[('akash', 5), ('rishav', 10), ('gaurav', 15), ('ram', 20)]\n"
          ]
        }
      ],
      "source": [
        "#2.Write a Python program that uses lambda functions to sort a list of tuples based on the second element.\n",
        "\n",
        "\n",
        "def Sort_Tuple(tup):\n",
        "\n",
        "    tup.sort(key = lambda x: x[1])\n",
        "    return tup\n",
        "\n",
        "tup = [('rishav', 10), ('akash', 5), ('ram', 20), ('gaurav', 15)]\n",
        "\n",
        "print(Sort_Tuple(tup))"
      ]
    }
  ],
  "metadata": {
    "colab": {
      "collapsed_sections": [
        "dIBPdyKrsLjp",
        "GK492_XFsYeW",
        "DJtAWOSeIH8k",
        "rJg6A7R0J-Wq",
        "Od6xGI-IVO_c",
        "oXAEA1UoiIic",
        "38tfTpo55vbg"
      ],
      "provenance": []
    },
    "kernelspec": {
      "display_name": "Python 3",
      "name": "python3"
    },
    "language_info": {
      "codemirror_mode": {
        "name": "ipython",
        "version": 3
      },
      "file_extension": ".py",
      "mimetype": "text/x-python",
      "name": "python",
      "nbconvert_exporter": "python",
      "pygments_lexer": "ipython3",
      "version": "3.12.0"
    }
  },
  "nbformat": 4,
  "nbformat_minor": 0
}
