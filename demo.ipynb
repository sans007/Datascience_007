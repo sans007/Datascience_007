{
 "cells": [
  {
   "cell_type": "code",
   "execution_count": 1,
   "metadata": {},
   "outputs": [],
   "source": [
    "def deleteNthNodeFromEnd(self, head, n):\n",
    "        fast = head\n",
    "        slow = head\n",
    " \n",
    "        for _ in range(n):\n",
    "            fast = fast.next\n",
    " \n",
    "        if not fast:\n",
    "            return head.next\n",
    " \n",
    "        while fast.next:\n",
    "            fast = fast.next\n",
    "            slow = slow.next\n",
    " \n",
    "        slow.next = slow.next.next\n",
    "        return head\n",
    " "
   ]
  }
 ],
 "metadata": {
  "kernelspec": {
   "display_name": "Python 3",
   "language": "python",
   "name": "python3"
  },
  "language_info": {
   "codemirror_mode": {
    "name": "ipython",
    "version": 3
   },
   "file_extension": ".py",
   "mimetype": "text/x-python",
   "name": "python",
   "nbconvert_exporter": "python",
   "pygments_lexer": "ipython3",
   "version": "3.12.2"
  }
 },
 "nbformat": 4,
 "nbformat_minor": 2
}
